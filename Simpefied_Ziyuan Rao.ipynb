{
 "cells": [
  {
   "cell_type": "markdown",
   "metadata": {
    "id": "aOpB14foyoVj"
   },
   "source": [
    "#**Introduction**\n",
    "In this notebook, I will implement a machine-learning framework to accelerate Invar discovery.Invar alloy is a kind of alloys with low thermal expansion coefficient (TEC). With the framework I will try to find unlabled alloys with low TEC. "
   ]
  },
  {
   "cell_type": "code",
   "execution_count": 11,
   "metadata": {
    "executionInfo": {
     "elapsed": 195,
     "status": "ok",
     "timestamp": 1652629457050,
     "user": {
      "displayName": "ziyuan rao",
      "userId": "11142835866797234336"
     },
     "user_tz": -120
    },
    "id": "HO3WeAGHmW_t"
   },
   "outputs": [],
   "source": [
    "import cv2\n",
    "import os\n",
    "import time\n",
    "import random\n",
    "import numpy as np\n",
    "import pandas as pd\n",
    "import torch\n",
    "import torch.nn as nn\n",
    "import torch.nn.functional as F\n",
    "from torch.optim import Adam, lr_scheduler\n",
    "from torch.utils.data import Dataset, DataLoader\n",
    "from scipy.spatial.distance import cdist\n",
    "from sklearn.model_selection import train_test_split\n",
    "from sklearn.model_selection import KFold\n",
    "from sklearn.cluster import KMeans\n",
    "from sklearn.mixture import GaussianMixture\n",
    "import matplotlib.pyplot as plt\n",
    "import matplotlib.patches as patches\n",
    "from matplotlib.patches import Ellipse\n",
    "from mpl_toolkits.axes_grid1 import make_axes_locatable\n",
    "import seaborn as sns\n",
    "\n",
    "device = torch.device('cuda' if torch.cuda.is_available() else 'cpu')\n",
    "\n",
    "sns.set(color_codes=True)"
   ]
  },
  {
   "cell_type": "markdown",
   "metadata": {
    "id": "OQnO2Nrq9Bc-"
   },
   "source": [
    "#**Required packages**"
   ]
  },
  {
   "cell_type": "code",
   "execution_count": 12,
   "metadata": {
    "colab": {
     "base_uri": "https://localhost:8080/"
    },
    "executionInfo": {
     "elapsed": 9132,
     "status": "ok",
     "timestamp": 1652629449197,
     "user": {
      "displayName": "ziyuan rao",
      "userId": "11142835866797234336"
     },
     "user_tz": -120
    },
    "id": "dTzbyKG1o_0i",
    "outputId": "0270228b-bed9-4f17-bea4-6d554400e06a"
   },
   "outputs": [
    {
     "name": "stdout",
     "output_type": "stream",
     "text": [
      "Requirement already satisfied: bayesian-optimization in c:\\users\\z.rao\\anaconda3\\lib\\site-packages (1.2.0)\n",
      "Requirement already satisfied: scipy>=0.14.0 in c:\\users\\z.rao\\anaconda3\\lib\\site-packages (from bayesian-optimization) (1.4.1)\n",
      "Requirement already satisfied: scikit-learn>=0.18.0 in c:\\users\\z.rao\\anaconda3\\lib\\site-packages (from bayesian-optimization) (0.22.1)\n",
      "Requirement already satisfied: numpy>=1.9.0 in c:\\users\\z.rao\\anaconda3\\lib\\site-packages (from bayesian-optimization) (1.18.1)\n",
      "Requirement already satisfied: joblib>=0.11 in c:\\users\\z.rao\\anaconda3\\lib\\site-packages (from scikit-learn>=0.18.0->bayesian-optimization) (0.14.1)\n",
      "Requirement already satisfied: lightgbm in c:\\users\\z.rao\\anaconda3\\lib\\site-packages (3.2.1)\n",
      "Requirement already satisfied: wheel in c:\\users\\z.rao\\anaconda3\\lib\\site-packages (from lightgbm) (0.36.2)\n",
      "Requirement already satisfied: scipy in c:\\users\\z.rao\\anaconda3\\lib\\site-packages (from lightgbm) (1.4.1)\n",
      "Requirement already satisfied: scikit-learn!=0.22.0 in c:\\users\\z.rao\\anaconda3\\lib\\site-packages (from lightgbm) (0.22.1)\n",
      "Requirement already satisfied: numpy in c:\\users\\z.rao\\anaconda3\\lib\\site-packages (from lightgbm) (1.18.1)\n",
      "Requirement already satisfied: joblib>=0.11 in c:\\users\\z.rao\\anaconda3\\lib\\site-packages (from scikit-learn!=0.22.0->lightgbm) (0.14.1)\n"
     ]
    }
   ],
   "source": [
    "!pip install bayesian-optimization\n",
    "!pip install lightgbm"
   ]
  },
  {
   "cell_type": "markdown",
   "metadata": {
    "id": "4lKoaSz8pTHk"
   },
   "source": [
    "#**Wasserstein Autoencoder (initial data analysis)**\n",
    "Wasserstein autoencoder is used for learning the latent space representation.\n",
    "\n",
    "the block below shows two utility functions that converting numpy array to \n",
    "tensors."
   ]
  },
  {
   "cell_type": "code",
   "execution_count": 36,
   "metadata": {
    "executionInfo": {
     "elapsed": 183,
     "status": "ok",
     "timestamp": 1652629459639,
     "user": {
      "displayName": "ziyuan rao",
      "userId": "11142835866797234336"
     },
     "user_tz": -120
    },
    "id": "hlnrI--Mc9-T"
   },
   "outputs": [],
   "source": [
    "class FeatureDataset(Dataset): #from numpy to tensor (pytroch-readable)\n",
    "    '''\n",
    "    Args: x is a 2D numpy array [x_size, x_features]\n",
    "    '''\n",
    "    def __init__(self, x, y):\n",
    "        self.x = x\n",
    "        self.y = y\n",
    "    \n",
    "    def __len__(self):\n",
    "        return self.x.shape[0]\n",
    "    \n",
    "    def __getitem__(self, idx):\n",
    "        return torch.FloatTensor(self.x[idx]), torch.FloatTensor(self.y[idx])\n"
   ]
  },
  {
   "cell_type": "markdown",
   "metadata": {
    "id": "3OkOhFJf1MBC"
   },
   "source": [
    "**Model architecture**"
   ]
  },
  {
   "cell_type": "code",
   "execution_count": 37,
   "metadata": {
    "executionInfo": {
     "elapsed": 230,
     "status": "ok",
     "timestamp": 1652629461669,
     "user": {
      "displayName": "ziyuan rao",
      "userId": "11142835866797234336"
     },
     "user_tz": -120
    },
    "id": "IYHg-od4o9dZ"
   },
   "outputs": [],
   "source": [
    "def weights_init(m):\n",
    "    classname = m.__class__.__name__\n",
    "    if classname.find('BatchNorm') != -1:\n",
    "        m.weight.data.normal_(1.0, 0.02)\n",
    "        m.bias.data.fill_(0)\n",
    "\n",
    "class WAE(nn.Module):\n",
    "    def __init__(self, input_size):\n",
    "        super(WAE, self).__init__()\n",
    "        self.input_size = input_size\n",
    "\n",
    "        # encoder\n",
    "        self.encoder = nn.Sequential(\n",
    "                        nn.Linear(self.input_size, 80),\n",
    "                        nn.LayerNorm(80),\n",
    "                        nn.ReLU(),\n",
    "                        nn.Linear(80, 64),\n",
    "                        nn.LayerNorm(64),\n",
    "                        nn.ReLU(),\n",
    "                        nn.Linear(64, 48),\n",
    "                        nn.LayerNorm(48),\n",
    "                        nn.ReLU(),\n",
    "                        nn.Linear(48, 2),\n",
    "                        )\n",
    "\n",
    "        # decoder\n",
    "        self.decoder = nn.Sequential(\n",
    "                        nn.Linear(2, 48),\n",
    "                        nn.LayerNorm(48),\n",
    "                        nn.ReLU(),\n",
    "                        nn.Linear(48, 64),\n",
    "                        nn.LayerNorm(64),\n",
    "                        nn.ReLU(),\n",
    "                        nn.Linear(64, 80),\n",
    "                        nn.LayerNorm(80),\n",
    "                        nn.ReLU(),\n",
    "                        nn.Linear(80, self.input_size),\n",
    "                        nn.Softmax(dim=1) #(softmad along dimension 1)\n",
    "                        )\n",
    "        self.apply(weights_init)\n",
    "    \n",
    "    def forward(self, x):\n",
    "        z = self._encode(x)\n",
    "        x_recon = self._decode(z)\n",
    "\n",
    "        return x_recon, z\n",
    "    \n",
    "    def _encode(self, x):\n",
    "        return self.encoder(x)\n",
    "\n",
    "    def _decode(self, z):\n",
    "        return self.decoder(z)"
   ]
  },
  {
   "cell_type": "markdown",
   "metadata": {
    "id": "Rfgq7_H51Sgi"
   },
   "source": [
    "**Utility functions for WAE**\n",
    "\n",
    "\n",
    "*   same_seeds: fixing the randomness\n",
    "*   get_latents: get the latent spaces from the WAE\n",
    "*   imq_kernels: inverse multiquadric (IMQ) kernel - computing the maximum mean discrepancy, which is part of the loss function for WAE.\n",
    "\n"
   ]
  },
  {
   "cell_type": "code",
   "execution_count": 38,
   "metadata": {
    "executionInfo": {
     "elapsed": 192,
     "status": "ok",
     "timestamp": 1652629464254,
     "user": {
      "displayName": "ziyuan rao",
      "userId": "11142835866797234336"
     },
     "user_tz": -120
    },
    "id": "8yBgwL4mqPFk"
   },
   "outputs": [],
   "source": [
    "def same_seeds(seed): #fix np & torch seed to the same.\n",
    "    torch.manual_seed(seed)\n",
    "    if torch.cuda.is_available():\n",
    "        torch.cuda.manual_seed(seed)\n",
    "        torch.cuda.manual_seed_all(seed)  # if you are using multi-GPU.\n",
    "    np.random.seed(seed)  # Numpy module.\n",
    "    random.seed(seed)  # Python random module.\n",
    "    torch.backends.cudnn.benchmark = False\n",
    "    torch.backends.cudnn.deterministic = True\n",
    "\n",
    "def get_latents(model, dataset): #from dataset to altten\n",
    "    model.to(device).eval() # training model or evaluation mode, eval means setting the model to its evaluation mode (gradient fixed)\n",
    "    latents = []\n",
    "    with torch.no_grad(): # fix the gradient, assure that the model parameters are fixed\n",
    "        dataloader = DataLoader(dataset, batch_size=256, shuffle=False)\n",
    "        for i, data in enumerate(dataloader):\n",
    "            x = data[0].to(device)\n",
    "            recon_x, z = model(x)\n",
    "            latents.append(z.detach().cpu().numpy())\n",
    "    return np.concatenate(latents,axis=0)\n",
    "\n",
    "def imq_kernel(X: torch.Tensor, Y: torch.Tensor, h_dim: int): # common kerntl to choose\n",
    "    batch_size = X.size(0)\n",
    "\n",
    "    norms_x = X.pow(2).sum(1, keepdim=True)  # batch_size x 1\n",
    "    prods_x = torch.mm(X, X.t()).to(device)  # batch_size x batch_size\n",
    "    dists_x = norms_x + norms_x.t() - 2 * prods_x # mm matrix multiplicaiton\n",
    "\n",
    "    norms_y = Y.pow(2).sum(1, keepdim=True).to(device)  # batch_size x 1\n",
    "    prods_y = torch.mm(Y, Y.t()).to(device)  # batch_size x batch_size\n",
    "    dists_y = norms_y + norms_y.t() - 2 * prods_y\n",
    "\n",
    "    dot_prd = torch.mm(X, Y.t())\n",
    "    dists_c = norms_x + norms_y.t() - 2 * dot_prd\n",
    "\n",
    "    stats = 0\n",
    "    for scale in [.1, .2, .5, 1., 2., 5., 10.]: # need more study on this\n",
    "        C = 2 * h_dim * 1.0 * scale\n",
    "        res1 = C / (C + dists_x)\n",
    "        res1 += C / (C + dists_y)\n",
    "\n",
    "        if torch.cuda.is_available():\n",
    "            res1 = (1 - torch.eye(batch_size).to(device)) * res1\n",
    "        else:\n",
    "            res1 = (1 - torch.eye(batch_size)) * res1\n",
    "\n",
    "        res1 = res1.sum() / (batch_size - 1)\n",
    "        res2 = C / (C + dists_c)\n",
    "        res2 = res2.sum() * 2. / (batch_size)\n",
    "        stats += res1 - res2\n",
    "\n",
    "    return stats\n"
   ]
  },
  {
   "cell_type": "markdown",
   "metadata": {
    "id": "Tf5oEkuZ4fmv"
   },
   "source": [
    "**Data loading**  \n",
    "\n",
    "params - here you can play around with all different combinations of paramters to reduce the total loss. You can visualize your training history just to see how good your chosen set of hyperparameters performs"
   ]
  },
  {
   "cell_type": "code",
   "execution_count": 39,
   "metadata": {
    "colab": {
     "base_uri": "https://localhost:8080/"
    },
    "executionInfo": {
     "elapsed": 1797,
     "status": "ok",
     "timestamp": 1652433622786,
     "user": {
      "displayName": "ziyuan rao",
      "userId": "11142835866797234336"
     },
     "user_tz": -120
    },
    "id": "JCi2O7DhQEVi",
    "outputId": "02ae7276-195a-480b-a93e-fff677bf4a41"
   },
   "outputs": [
    {
     "name": "stdout",
     "output_type": "stream",
     "text": [
      "[[1.   0.   0.   0.   0.   0.  ]\n",
      " [0.95 0.05 0.   0.   0.   0.  ]\n",
      " [0.9  0.1  0.   0.   0.   0.  ]\n",
      " [0.85 0.15 0.   0.   0.   0.  ]\n",
      " [0.8  0.2  0.   0.   0.   0.  ]] [[11.92]\n",
      " [11.17]\n",
      " [10.82]\n",
      " [ 9.91]\n",
      " [11.09]]\n"
     ]
    }
   ],
   "source": [
    "same_seeds(1) #seed equals to 1\n",
    "\n",
    "params = {\n",
    "    'num_epoch' : 200,\n",
    "    'batch_size' : 20,\n",
    "    'lr' : 5e-4,\n",
    "    'weight_decay' : 0.0,\n",
    "    'sigma' : 8.0,\n",
    "    'MMD_lambda' : 1e-4,\n",
    "    'model_name' : 'WAE',\n",
    "} # for WAE training\n",
    "all = pd.read_excel('Data_base_Invar.xlsx', header=0).iloc[:,1:23].to_numpy()\n",
    "raw_x = all[:,0:6]\n",
    "raw_y = all[:,20].reshape(-1,1)\n",
    "dataset = FeatureDataset(raw_x[:], raw_y[:]) #numpy to tensor\n",
    "dataloader = DataLoader(dataset, batch_size=params['batch_size'], shuffle=True) # tensor to dataloader\n",
    "print(raw_x[0:5],raw_y[0:5])#check the input and target"
   ]
  },
  {
   "cell_type": "code",
   "execution_count": 40,
   "metadata": {
    "id": "AkcWFeljrTEi"
   },
   "outputs": [
    {
     "name": "stdout",
     "output_type": "stream",
     "text": [
      "C:\\Challenge\\WAE\n",
      "[001/200] loss: 0.387408 Recon_loss: 0.386873, MMD_loss:5.346743\n",
      "[002/200] loss: 0.329921 Recon_loss: 0.329467, MMD_loss:4.543360\n",
      "[003/200] loss: 0.305827 Recon_loss: 0.305424, MMD_loss:4.026863\n",
      "[004/200] loss: 0.298453 Recon_loss: 0.298004, MMD_loss:4.489691\n",
      "[005/200] loss: 0.293574 Recon_loss: 0.293141, MMD_loss:4.327320\n",
      "[006/200] loss: 0.290646 Recon_loss: 0.290203, MMD_loss:4.430720\n",
      "[007/200] loss: 0.288276 Recon_loss: 0.287816, MMD_loss:4.600193\n",
      "[008/200] loss: 0.286795 Recon_loss: 0.286342, MMD_loss:4.527824\n",
      "[009/200] loss: 0.285829 Recon_loss: 0.285367, MMD_loss:4.618772\n",
      "[010/200] loss: 0.285057 Recon_loss: 0.284605, MMD_loss:4.527849\n",
      "[011/200] loss: 0.284265 Recon_loss: 0.283813, MMD_loss:4.522617\n",
      "[012/200] loss: 0.284208 Recon_loss: 0.283746, MMD_loss:4.623925\n",
      "[013/200] loss: 0.283704 Recon_loss: 0.283252, MMD_loss:4.515644\n",
      "[014/200] loss: 0.283420 Recon_loss: 0.282955, MMD_loss:4.652357\n",
      "[015/200] loss: 0.283332 Recon_loss: 0.282871, MMD_loss:4.615030\n",
      "[016/200] loss: 0.282907 Recon_loss: 0.282446, MMD_loss:4.610610\n",
      "[017/200] loss: 0.282343 Recon_loss: 0.281893, MMD_loss:4.503075\n",
      "[018/200] loss: 0.282514 Recon_loss: 0.282072, MMD_loss:4.419541\n",
      "[019/200] loss: 0.282428 Recon_loss: 0.281979, MMD_loss:4.489988\n",
      "[020/200] loss: 0.282288 Recon_loss: 0.281840, MMD_loss:4.482482\n",
      "[021/200] loss: 0.282177 Recon_loss: 0.281734, MMD_loss:4.428153\n",
      "[022/200] loss: 0.281883 Recon_loss: 0.281449, MMD_loss:4.347620\n",
      "[023/200] loss: 0.281839 Recon_loss: 0.281397, MMD_loss:4.421871\n",
      "[024/200] loss: 0.281483 Recon_loss: 0.281035, MMD_loss:4.476091\n",
      "[025/200] loss: 0.281739 Recon_loss: 0.281316, MMD_loss:4.229818\n",
      "[026/200] loss: 0.281586 Recon_loss: 0.281146, MMD_loss:4.394124\n",
      "[027/200] loss: 0.281189 Recon_loss: 0.280759, MMD_loss:4.298563\n",
      "[028/200] loss: 0.281207 Recon_loss: 0.280767, MMD_loss:4.400464\n",
      "[029/200] loss: 0.281390 Recon_loss: 0.280971, MMD_loss:4.196050\n",
      "[030/200] loss: 0.281239 Recon_loss: 0.280830, MMD_loss:4.098591\n",
      "[031/200] loss: 0.281125 Recon_loss: 0.280691, MMD_loss:4.333963\n",
      "[032/200] loss: 0.281260 Recon_loss: 0.280847, MMD_loss:4.129917\n",
      "[033/200] loss: 0.281420 Recon_loss: 0.280983, MMD_loss:4.369855\n",
      "[034/200] loss: 0.281423 Recon_loss: 0.281021, MMD_loss:4.021139\n",
      "[035/200] loss: 0.280939 Recon_loss: 0.280515, MMD_loss:4.237287\n",
      "[036/200] loss: 0.280844 Recon_loss: 0.280428, MMD_loss:4.159979\n",
      "[037/200] loss: 0.280754 Recon_loss: 0.280328, MMD_loss:4.256987\n",
      "[038/200] loss: 0.280299 Recon_loss: 0.279884, MMD_loss:4.148553\n",
      "[039/200] loss: 0.280406 Recon_loss: 0.279990, MMD_loss:4.166213\n",
      "[040/200] loss: 0.280455 Recon_loss: 0.280038, MMD_loss:4.168319\n",
      "[041/200] loss: 0.280598 Recon_loss: 0.280186, MMD_loss:4.128129\n",
      "[042/200] loss: 0.280526 Recon_loss: 0.280110, MMD_loss:4.161637\n",
      "[043/200] loss: 0.281066 Recon_loss: 0.280658, MMD_loss:4.085291\n",
      "[044/200] loss: 0.280453 Recon_loss: 0.280050, MMD_loss:4.031467\n",
      "[045/200] loss: 0.279989 Recon_loss: 0.279578, MMD_loss:4.115551\n",
      "[046/200] loss: 0.280072 Recon_loss: 0.279662, MMD_loss:4.109226\n",
      "[047/200] loss: 0.279788 Recon_loss: 0.279379, MMD_loss:4.090251\n",
      "[048/200] loss: 0.279957 Recon_loss: 0.279553, MMD_loss:4.036724\n",
      "[049/200] loss: 0.279906 Recon_loss: 0.279507, MMD_loss:3.992292\n",
      "[050/200] loss: 0.279543 Recon_loss: 0.279128, MMD_loss:4.144828\n",
      "[051/200] loss: 0.279703 Recon_loss: 0.279305, MMD_loss:3.986799\n",
      "[052/200] loss: 0.279866 Recon_loss: 0.279471, MMD_loss:3.957342\n",
      "[053/200] loss: 0.279490 Recon_loss: 0.279094, MMD_loss:3.960435\n",
      "[054/200] loss: 0.279602 Recon_loss: 0.279211, MMD_loss:3.914519\n",
      "[055/200] loss: 0.279289 Recon_loss: 0.278894, MMD_loss:3.946717\n",
      "[056/200] loss: 0.279070 Recon_loss: 0.278663, MMD_loss:4.061756\n",
      "[057/200] loss: 0.279413 Recon_loss: 0.279017, MMD_loss:3.955297\n",
      "[058/200] loss: 0.279378 Recon_loss: 0.278991, MMD_loss:3.871223\n",
      "[059/200] loss: 0.279761 Recon_loss: 0.279355, MMD_loss:4.064696\n",
      "[060/200] loss: 0.279463 Recon_loss: 0.279061, MMD_loss:4.014248\n",
      "[061/200] loss: 0.279193 Recon_loss: 0.278820, MMD_loss:3.734068\n",
      "[062/200] loss: 0.279835 Recon_loss: 0.279443, MMD_loss:3.916718\n",
      "[063/200] loss: 0.279775 Recon_loss: 0.279387, MMD_loss:3.888964\n",
      "[064/200] loss: 0.280006 Recon_loss: 0.279621, MMD_loss:3.853445\n",
      "[065/200] loss: 0.279741 Recon_loss: 0.279355, MMD_loss:3.863440\n",
      "[066/200] loss: 0.278915 Recon_loss: 0.278532, MMD_loss:3.832330\n",
      "[067/200] loss: 0.278956 Recon_loss: 0.278553, MMD_loss:4.027377\n",
      "[068/200] loss: 0.278703 Recon_loss: 0.278324, MMD_loss:3.785688\n",
      "[069/200] loss: 0.278837 Recon_loss: 0.278450, MMD_loss:3.868309\n",
      "[070/200] loss: 0.278692 Recon_loss: 0.278307, MMD_loss:3.849284\n",
      "[071/200] loss: 0.278758 Recon_loss: 0.278370, MMD_loss:3.888320\n",
      "[072/200] loss: 0.278812 Recon_loss: 0.278432, MMD_loss:3.804968\n",
      "[073/200] loss: 0.278736 Recon_loss: 0.278366, MMD_loss:3.699076\n",
      "[074/200] loss: 0.278831 Recon_loss: 0.278453, MMD_loss:3.778369\n",
      "[075/200] loss: 0.279004 Recon_loss: 0.278621, MMD_loss:3.833862\n",
      "[076/200] loss: 0.278930 Recon_loss: 0.278549, MMD_loss:3.811135\n",
      "[077/200] loss: 0.278622 Recon_loss: 0.278226, MMD_loss:3.961053\n",
      "[078/200] loss: 0.278208 Recon_loss: 0.277819, MMD_loss:3.892438\n",
      "[079/200] loss: 0.278524 Recon_loss: 0.278145, MMD_loss:3.799450\n",
      "[080/200] loss: 0.278410 Recon_loss: 0.278032, MMD_loss:3.774193\n",
      "[081/200] loss: 0.278314 Recon_loss: 0.277942, MMD_loss:3.721661\n",
      "[082/200] loss: 0.278439 Recon_loss: 0.278055, MMD_loss:3.837258\n",
      "[083/200] loss: 0.278659 Recon_loss: 0.278290, MMD_loss:3.692007\n",
      "[084/200] loss: 0.278589 Recon_loss: 0.278202, MMD_loss:3.874331\n",
      "[085/200] loss: 0.278564 Recon_loss: 0.278172, MMD_loss:3.919624\n",
      "[086/200] loss: 0.278545 Recon_loss: 0.278170, MMD_loss:3.754607\n",
      "[087/200] loss: 0.278540 Recon_loss: 0.278175, MMD_loss:3.653268\n",
      "[088/200] loss: 0.278873 Recon_loss: 0.278492, MMD_loss:3.812167\n",
      "[089/200] loss: 0.279167 Recon_loss: 0.278786, MMD_loss:3.807413\n",
      "[090/200] loss: 0.278681 Recon_loss: 0.278293, MMD_loss:3.883314\n",
      "[091/200] loss: 0.278461 Recon_loss: 0.278087, MMD_loss:3.738817\n",
      "[092/200] loss: 0.278259 Recon_loss: 0.277882, MMD_loss:3.773672\n",
      "[093/200] loss: 0.278420 Recon_loss: 0.278046, MMD_loss:3.743097\n",
      "[094/200] loss: 0.278150 Recon_loss: 0.277783, MMD_loss:3.665234\n",
      "[095/200] loss: 0.278326 Recon_loss: 0.277960, MMD_loss:3.662050\n",
      "[096/200] loss: 0.278424 Recon_loss: 0.278061, MMD_loss:3.632887\n",
      "[097/200] loss: 0.278007 Recon_loss: 0.277636, MMD_loss:3.713767\n",
      "[098/200] loss: 0.278214 Recon_loss: 0.277850, MMD_loss:3.640406\n",
      "[099/200] loss: 0.278093 Recon_loss: 0.277712, MMD_loss:3.812653\n",
      "[100/200] loss: 0.278122 Recon_loss: 0.277753, MMD_loss:3.691565\n",
      "[101/200] loss: 0.278276 Recon_loss: 0.277901, MMD_loss:3.751431\n",
      "[102/200] loss: 0.278223 Recon_loss: 0.277845, MMD_loss:3.775236\n",
      "[103/200] loss: 0.278369 Recon_loss: 0.277994, MMD_loss:3.749770\n",
      "[104/200] loss: 0.278227 Recon_loss: 0.277862, MMD_loss:3.651680\n",
      "[105/200] loss: 0.277955 Recon_loss: 0.277575, MMD_loss:3.799315\n",
      "[106/200] loss: 0.277899 Recon_loss: 0.277532, MMD_loss:3.667224\n",
      "[107/200] loss: 0.277834 Recon_loss: 0.277466, MMD_loss:3.680090\n",
      "[108/200] loss: 0.278136 Recon_loss: 0.277766, MMD_loss:3.698838\n",
      "[109/200] loss: 0.278247 Recon_loss: 0.277887, MMD_loss:3.606267\n",
      "[110/200] loss: 0.278115 Recon_loss: 0.277750, MMD_loss:3.655370\n",
      "[111/200] loss: 0.278627 Recon_loss: 0.278261, MMD_loss:3.656927\n",
      "[112/200] loss: 0.278743 Recon_loss: 0.278377, MMD_loss:3.665808\n",
      "[113/200] loss: 0.278871 Recon_loss: 0.278513, MMD_loss:3.579501\n",
      "[114/200] loss: 0.278083 Recon_loss: 0.277735, MMD_loss:3.481511\n",
      "[115/200] loss: 0.278260 Recon_loss: 0.277901, MMD_loss:3.599329\n",
      "[116/200] loss: 0.278371 Recon_loss: 0.278016, MMD_loss:3.548732\n",
      "[117/200] loss: 0.277818 Recon_loss: 0.277470, MMD_loss:3.481767\n",
      "[118/200] loss: 0.278011 Recon_loss: 0.277670, MMD_loss:3.404998\n",
      "[119/200] loss: 0.277778 Recon_loss: 0.277428, MMD_loss:3.501974\n",
      "[120/200] loss: 0.277890 Recon_loss: 0.277531, MMD_loss:3.583646\n",
      "[121/200] loss: 0.277674 Recon_loss: 0.277317, MMD_loss:3.576900\n",
      "[122/200] loss: 0.277682 Recon_loss: 0.277304, MMD_loss:3.778852\n",
      "[123/200] loss: 0.277545 Recon_loss: 0.277199, MMD_loss:3.457948\n",
      "[124/200] loss: 0.277717 Recon_loss: 0.277360, MMD_loss:3.565765\n",
      "[125/200] loss: 0.277737 Recon_loss: 0.277370, MMD_loss:3.676118\n",
      "[126/200] loss: 0.277284 Recon_loss: 0.276929, MMD_loss:3.556900\n",
      "[127/200] loss: 0.277690 Recon_loss: 0.277347, MMD_loss:3.424285\n",
      "[128/200] loss: 0.277794 Recon_loss: 0.277434, MMD_loss:3.597206\n",
      "[129/200] loss: 0.278189 Recon_loss: 0.277826, MMD_loss:3.633411\n",
      "[130/200] loss: 0.277843 Recon_loss: 0.277496, MMD_loss:3.471007\n",
      "[131/200] loss: 0.277575 Recon_loss: 0.277223, MMD_loss:3.519876\n",
      "[132/200] loss: 0.278221 Recon_loss: 0.277864, MMD_loss:3.569602\n",
      "[133/200] loss: 0.277651 Recon_loss: 0.277300, MMD_loss:3.516984\n",
      "[134/200] loss: 0.277792 Recon_loss: 0.277432, MMD_loss:3.602155\n",
      "[135/200] loss: 0.278047 Recon_loss: 0.277710, MMD_loss:3.364212\n",
      "[136/200] loss: 0.277921 Recon_loss: 0.277568, MMD_loss:3.528962\n",
      "[137/200] loss: 0.277858 Recon_loss: 0.277507, MMD_loss:3.506183\n",
      "[138/200] loss: 0.277525 Recon_loss: 0.277186, MMD_loss:3.390537\n",
      "[139/200] loss: 0.277630 Recon_loss: 0.277279, MMD_loss:3.505113\n",
      "[140/200] loss: 0.277672 Recon_loss: 0.277332, MMD_loss:3.403877\n",
      "[141/200] loss: 0.277546 Recon_loss: 0.277211, MMD_loss:3.355628\n",
      "[142/200] loss: 0.277641 Recon_loss: 0.277285, MMD_loss:3.559654\n",
      "[143/200] loss: 0.277464 Recon_loss: 0.277113, MMD_loss:3.516353\n",
      "[144/200] loss: 0.277534 Recon_loss: 0.277205, MMD_loss:3.287877\n",
      "[145/200] loss: 0.277603 Recon_loss: 0.277257, MMD_loss:3.457886\n",
      "[146/200] loss: 0.277429 Recon_loss: 0.277074, MMD_loss:3.550033\n",
      "[147/200] loss: 0.277623 Recon_loss: 0.277281, MMD_loss:3.418330\n",
      "[148/200] loss: 0.277534 Recon_loss: 0.277181, MMD_loss:3.529469\n",
      "[149/200] loss: 0.277865 Recon_loss: 0.277527, MMD_loss:3.383502\n",
      "[150/200] loss: 0.278573 Recon_loss: 0.278227, MMD_loss:3.459495\n",
      "[151/200] loss: 0.278373 Recon_loss: 0.278025, MMD_loss:3.481025\n",
      "[152/200] loss: 0.278198 Recon_loss: 0.277839, MMD_loss:3.584338\n",
      "[153/200] loss: 0.277859 Recon_loss: 0.277523, MMD_loss:3.363615\n",
      "[154/200] loss: 0.277525 Recon_loss: 0.277199, MMD_loss:3.264766\n",
      "[155/200] loss: 0.277477 Recon_loss: 0.277146, MMD_loss:3.313596\n",
      "[156/200] loss: 0.277492 Recon_loss: 0.277151, MMD_loss:3.414418\n",
      "[157/200] loss: 0.277582 Recon_loss: 0.277238, MMD_loss:3.443913\n",
      "[158/200] loss: 0.277388 Recon_loss: 0.277039, MMD_loss:3.493963\n",
      "[159/200] loss: 0.277268 Recon_loss: 0.276935, MMD_loss:3.333873\n",
      "[160/200] loss: 0.277194 Recon_loss: 0.276859, MMD_loss:3.352981\n",
      "[161/200] loss: 0.277219 Recon_loss: 0.276870, MMD_loss:3.488514\n",
      "[162/200] loss: 0.277294 Recon_loss: 0.276943, MMD_loss:3.515499\n",
      "[163/200] loss: 0.277200 Recon_loss: 0.276857, MMD_loss:3.432154\n",
      "[164/200] loss: 0.277298 Recon_loss: 0.276973, MMD_loss:3.240785\n",
      "[165/200] loss: 0.277376 Recon_loss: 0.277031, MMD_loss:3.449084\n",
      "[166/200] loss: 0.277495 Recon_loss: 0.277160, MMD_loss:3.342599\n",
      "[167/200] loss: 0.277516 Recon_loss: 0.277188, MMD_loss:3.279391\n",
      "[168/200] loss: 0.277318 Recon_loss: 0.276974, MMD_loss:3.444503\n",
      "[169/200] loss: 0.277258 Recon_loss: 0.276918, MMD_loss:3.402160\n",
      "[170/200] loss: 0.277432 Recon_loss: 0.277097, MMD_loss:3.351307\n",
      "[171/200] loss: 0.277422 Recon_loss: 0.277089, MMD_loss:3.327741\n",
      "[172/200] loss: 0.277071 Recon_loss: 0.276732, MMD_loss:3.393961\n",
      "[173/200] loss: 0.277257 Recon_loss: 0.276921, MMD_loss:3.364126\n",
      "[174/200] loss: 0.277500 Recon_loss: 0.277169, MMD_loss:3.315737\n",
      "[175/200] loss: 0.277306 Recon_loss: 0.276976, MMD_loss:3.295185\n",
      "[176/200] loss: 0.277357 Recon_loss: 0.277035, MMD_loss:3.218483\n",
      "[177/200] loss: 0.277207 Recon_loss: 0.276875, MMD_loss:3.315292\n",
      "[178/200] loss: 0.277669 Recon_loss: 0.277339, MMD_loss:3.300854\n",
      "[179/200] loss: 0.277595 Recon_loss: 0.277242, MMD_loss:3.528220\n",
      "[180/200] loss: 0.278062 Recon_loss: 0.277722, MMD_loss:3.400356\n",
      "[181/200] loss: 0.277777 Recon_loss: 0.277442, MMD_loss:3.353603\n",
      "[182/200] loss: 0.277748 Recon_loss: 0.277420, MMD_loss:3.280445\n",
      "[183/200] loss: 0.277634 Recon_loss: 0.277318, MMD_loss:3.154862\n",
      "[184/200] loss: 0.277229 Recon_loss: 0.276905, MMD_loss:3.243120\n",
      "[185/200] loss: 0.277082 Recon_loss: 0.276773, MMD_loss:3.096168\n",
      "[186/200] loss: 0.277118 Recon_loss: 0.276793, MMD_loss:3.247683\n",
      "[187/200] loss: 0.276954 Recon_loss: 0.276627, MMD_loss:3.278446\n",
      "[188/200] loss: 0.277436 Recon_loss: 0.277104, MMD_loss:3.325939\n",
      "[189/200] loss: 0.276950 Recon_loss: 0.276622, MMD_loss:3.275667\n",
      "[190/200] loss: 0.277149 Recon_loss: 0.276827, MMD_loss:3.223308\n",
      "[191/200] loss: 0.277089 Recon_loss: 0.276762, MMD_loss:3.267820\n",
      "[192/200] loss: 0.277124 Recon_loss: 0.276806, MMD_loss:3.181215\n",
      "[193/200] loss: 0.277244 Recon_loss: 0.276919, MMD_loss:3.250354\n",
      "[194/200] loss: 0.277191 Recon_loss: 0.276882, MMD_loss:3.088036\n",
      "[195/200] loss: 0.277407 Recon_loss: 0.277084, MMD_loss:3.230062\n",
      "[196/200] loss: 0.277207 Recon_loss: 0.276887, MMD_loss:3.197929\n",
      "[197/200] loss: 0.277167 Recon_loss: 0.276837, MMD_loss:3.296813\n",
      "[198/200] loss: 0.277187 Recon_loss: 0.276856, MMD_loss:3.307576\n",
      "[199/200] loss: 0.277052 Recon_loss: 0.276728, MMD_loss:3.231745\n",
      "[200/200] loss: 0.277124 Recon_loss: 0.276790, MMD_loss:3.340470\n"
     ]
    },
    {
     "data": {
      "text/plain": [
       "[<matplotlib.lines.Line2D at 0x1945a9c0088>]"
      ]
     },
     "execution_count": 40,
     "metadata": {},
     "output_type": "execute_result"
    },
    {
     "data": {
      "image/png": "[encoded data removed]",
      "text/plain": [
       "<Figure size 432x288 with 1 Axes>"
      ]
     },
     "metadata": {},
     "output_type": "display_data"
    }
   ],
   "source": [
    "model = WAE(raw_x.shape[1]).to(device) # initialize the model \n",
    "optimizer = Adam(model.parameters(), lr = params['lr'], weight_decay = params['weight_decay']) # optimizer\n",
    "def train_WAE(model, optimizer, dataloader, params):\n",
    "    model_name = params['model_name']\n",
    "    num_epoch = params['num_epoch']\n",
    "    sigma = params['sigma'] # assuming the latent space follows Gaussian\n",
    "    MMD_lambda = params['MMD_lambda'] #WAE distance (maximum mean discrepancy)\n",
    "\n",
    "    folder_dir = os.path.join(os.getcwd(), model_name) # a folder to save models\n",
    "    print(folder_dir)\n",
    "    if not os.path.isdir(folder_dir):\n",
    "        os.mkdir(folder_dir)\n",
    "    loss_=[]   \n",
    "    for epoch in range(num_epoch):\n",
    "        #start_time = time.time()\n",
    "        total_loss = [] #save for plot, recon loss+MMD\n",
    "        total_recon = [] # binary cross entropy\n",
    "        total_MMD = [] #maximum mean discrepancy\n",
    "        \n",
    "        for i, data in enumerate(dataloader):\n",
    "            x = data[0].to(device)\n",
    "            y = data[1].to(device)\n",
    "            model.train() # model goes to train mode\n",
    "            recon_x, z_tilde = model(x) # latent space is Z_tilde\n",
    "            z = sigma*torch.randn(z_tilde.size()).to(device) # z is sampled from a Gaussian that has the same dimension (but no relation to z_tilde).\n",
    "\n",
    "            recon_loss = F.binary_cross_entropy(recon_x, x, reduction='mean') #lowest reconstruction loss \n",
    "            #recon_loss = F.mse_loss(recon_x, x, reduction='mean') \n",
    "            #recon_loss = F.l1_loss(recon_x, x, reduction='mean')\n",
    "            \n",
    "            MMD_loss = imq_kernel(z_tilde, z, h_dim=2).to(device) #W-distance between z_tilde and z\n",
    "            MMD_loss = MMD_loss / x.size(0) #averaging, because recon loss is mean.\n",
    "            loss = recon_loss + MMD_loss * MMD_lambda #MM_lambda: learning-rate alike, hyperparamer\n",
    "\n",
    "            optimizer.zero_grad()\n",
    "            loss.backward()\n",
    "            optimizer.step()\n",
    "\n",
    "            total_loss.append(loss.item())# from tensor to values\n",
    "            total_recon.append(recon_loss.item())\n",
    "            total_MMD.append(MMD_loss.item())\n",
    "\n",
    "        avg_loss = sum(total_loss)/len(total_loss)\n",
    "        avg_recon = sum(total_recon)/len(total_recon)\n",
    "        avg_MMD = sum(total_MMD)/len(total_MMD)\n",
    "        loss_.append(avg_loss)\n",
    "\n",
    "        #scheduler.step(avg_loss)\n",
    "\n",
    "        print('[{:03}/{:03}] loss: {:.6f} Recon_loss: {:.6f}, MMD_loss:{:.6f}'.format(\\\n",
    "                                        epoch+1, num_epoch, \\\n",
    "                                        avg_loss, \\\n",
    "                                        avg_recon, avg_MMD))\n",
    "        # save the model every 5 epoches\n",
    "        if (epoch+1) % 5 == 0:\n",
    "            save_model_dir = str(model_name + \"_{}.pth\".format(epoch+1))\n",
    "            torch.save(model.state_dict(), os.path.join(folder_dir, save_model_dir))\n",
    "    return loss_\n",
    "\n",
    "loss_=train_WAE(model, optimizer, dataloader, params)\n",
    "plt.figure()\n",
    "sns.set_style('ticks')\n",
    "plt.xlabel('Epoch')\n",
    "plt.ylabel('Loss')\n",
    "plt.plot(range(len(loss_)),loss_)"
   ]
  },
  {
   "cell_type": "markdown",
   "metadata": {
    "id": "rSr013Mk7qeP"
   },
   "source": [
    "**Double check on the reconstructed compositions**\n",
    "\n",
    "\n",
    "\n",
    "\n",
    "*   one way to find out whether WAE (or any other VAE) has learned the \n",
    "repsentation is to compare the reconstructed and original compositions.if you are not happy with the reconstruction. go back to the previous step and change the params. \n",
    "\n"
   ]
  },
  {
   "cell_type": "code",
   "execution_count": 18,
   "metadata": {
    "colab": {
     "base_uri": "https://localhost:8080/",
     "height": 206
    },
    "executionInfo": {
     "elapsed": 810,
     "status": "ok",
     "timestamp": 1652259011243,
     "user": {
      "displayName": "ziyuan rao",
      "userId": "11142835866797234336"
     },
     "user_tz": -120
    },
    "id": "vcz36-9atIfk",
    "outputId": "5b7359d1-23f4-4d73-e380-3932b5316db4"
   },
   "outputs": [
    {
     "data": {
      "text/html": [
       "<div>\n",
       "<style scoped>\n",
       "    .dataframe tbody tr th:only-of-type {\n",
       "        vertical-align: middle;\n",
       "    }\n",
       "\n",
       "    .dataframe tbody tr th {\n",
       "        vertical-align: top;\n",
       "    }\n",
       "\n",
       "    .dataframe thead th {\n",
       "        text-align: right;\n",
       "    }\n",
       "</style>\n",
       "<table border=\"1\" class=\"dataframe\">\n",
       "  <thead>\n",
       "    <tr style=\"text-align: right;\">\n",
       "      <th></th>\n",
       "      <th>Fe</th>\n",
       "      <th>Ni</th>\n",
       "      <th>Co</th>\n",
       "      <th>Cr</th>\n",
       "      <th>V</th>\n",
       "      <th>Cu</th>\n",
       "    </tr>\n",
       "  </thead>\n",
       "  <tbody>\n",
       "    <tr>\n",
       "      <th>0</th>\n",
       "      <td>0.997</td>\n",
       "      <td>0.002</td>\n",
       "      <td>0.001</td>\n",
       "      <td>0.0</td>\n",
       "      <td>0.000</td>\n",
       "      <td>0.0</td>\n",
       "    </tr>\n",
       "    <tr>\n",
       "      <th>1</th>\n",
       "      <td>0.950</td>\n",
       "      <td>0.050</td>\n",
       "      <td>0.000</td>\n",
       "      <td>0.0</td>\n",
       "      <td>0.000</td>\n",
       "      <td>0.0</td>\n",
       "    </tr>\n",
       "    <tr>\n",
       "      <th>2</th>\n",
       "      <td>0.892</td>\n",
       "      <td>0.108</td>\n",
       "      <td>0.000</td>\n",
       "      <td>0.0</td>\n",
       "      <td>0.000</td>\n",
       "      <td>0.0</td>\n",
       "    </tr>\n",
       "    <tr>\n",
       "      <th>3</th>\n",
       "      <td>0.843</td>\n",
       "      <td>0.156</td>\n",
       "      <td>0.000</td>\n",
       "      <td>0.0</td>\n",
       "      <td>0.000</td>\n",
       "      <td>0.0</td>\n",
       "    </tr>\n",
       "    <tr>\n",
       "      <th>4</th>\n",
       "      <td>0.793</td>\n",
       "      <td>0.206</td>\n",
       "      <td>0.000</td>\n",
       "      <td>0.0</td>\n",
       "      <td>0.002</td>\n",
       "      <td>0.0</td>\n",
       "    </tr>\n",
       "  </tbody>\n",
       "</table>\n",
       "</div>"
      ],
      "text/plain": [
       "      Fe     Ni     Co   Cr      V   Cu\n",
       "0  0.997  0.002  0.001  0.0  0.000  0.0\n",
       "1  0.950  0.050  0.000  0.0  0.000  0.0\n",
       "2  0.892  0.108  0.000  0.0  0.000  0.0\n",
       "3  0.843  0.156  0.000  0.0  0.000  0.0\n",
       "4  0.793  0.206  0.000  0.0  0.002  0.0"
      ]
     },
     "execution_count": 18,
     "metadata": {},
     "output_type": "execute_result"
    }
   ],
   "source": [
    "#double check on the recontructed compositions\n",
    "#t = time.localtime()\n",
    "model_name = params['model_name']\n",
    "folder_dir = os.path.join(os.getcwd(), model_name)\n",
    "model_dir = os.path.join(folder_dir,'{}_{}.pth'.format(params['model_name'],params['num_epoch']))#load your model\n",
    "model = WAE(raw_x.shape[1]).to(device)\n",
    "model.load_state_dict(torch.load(model_dir))\n",
    "model.eval()\n",
    "with torch.no_grad():\n",
    "    test = torch.FloatTensor(raw_x).to(device)\n",
    "    recon_x, z = model(test)\n",
    "    recon_x = model.decoder(z)\n",
    "    recon_x = recon_x.cpu().detach().numpy()\n",
    "\n",
    "column_name = ['Fe','Ni','Co','Cr','V','Cu']\n",
    "#recon_x = (recon_x * (max-min)) + min\n",
    "pd.DataFrame(recon_x.round(3), columns=column_name).iloc[0:5]#print the reconstruction"
   ]
  },
  {
   "cell_type": "code",
   "execution_count": 19,
   "metadata": {
    "colab": {
     "base_uri": "https://localhost:8080/"
    },
    "executionInfo": {
     "elapsed": 342,
     "status": "ok",
     "timestamp": 1652259014825,
     "user": {
      "displayName": "ziyuan rao",
      "userId": "11142835866797234336"
     },
     "user_tz": -120
    },
    "id": "uIm7HRMYthG5",
    "outputId": "d51d015b-a18e-4417-c371-c482a57aafaf"
   },
   "outputs": [
    {
     "data": {
      "text/plain": [
       "array([[1.  , 0.  , 0.  , 0.  , 0.  , 0.  ],\n",
       "       [0.95, 0.05, 0.  , 0.  , 0.  , 0.  ],\n",
       "       [0.9 , 0.1 , 0.  , 0.  , 0.  , 0.  ],\n",
       "       [0.85, 0.15, 0.  , 0.  , 0.  , 0.  ],\n",
       "       [0.8 , 0.2 , 0.  , 0.  , 0.  , 0.  ]])"
      ]
     },
     "execution_count": 19,
     "metadata": {},
     "output_type": "execute_result"
    }
   ],
   "source": [
    "raw_x[0:5,:6].round(3)#print the real composition"
   ]
  },
  {
   "cell_type": "markdown",
   "metadata": {
    "id": "7uheLggK8WqX"
   },
   "source": [
    "**Visualize the WAE latent space**\n",
    "\n",
    "Here we assign different colors to alloy with and without Copper,\n",
    "as we expected them to differ significantly in the latent space.\n",
    "\n"
   ]
  },
  {
   "cell_type": "code",
   "execution_count": 22,
   "metadata": {
    "id": "Ua13kwzjt0jv"
   },
   "outputs": [
    {
     "data": {
      "text/plain": [
       "<matplotlib.legend.Legend at 0x19453715bc8>"
      ]
     },
     "execution_count": 22,
     "metadata": {},
     "output_type": "execute_result"
    },
    {
     "data": {
      "image/png": "[encoded data removed]",
      "text/plain": [
       "<Figure size 1200x600 with 1 Axes>"
      ]
     },
     "metadata": {},
     "output_type": "display_data"
    }
   ],
   "source": [
    "sns.set_style('ticks')\n",
    "model = WAE(raw_x.shape[1]).to(device)\n",
    "model.load_state_dict(torch.load(model_dir))\n",
    "dataset = FeatureDataset(raw_x[:], raw_y[:])\n",
    "latents = get_latents(model, dataset)\n",
    "\n",
    "# figure settings\n",
    "fig, axs = plt.subplots(figsize = (6, 3),dpi=200)\n",
    "\n",
    "axs.set_yticks(np.arange(-6, 8, step=2))\n",
    "axs.set_xticks(np.arange(-10, 5, step=2))\n",
    "\n",
    "axs.set_yticklabels(np.arange(-6, 8, step=2), fontsize=7)\n",
    "axs.set_xticklabels(np.arange(-10, 5, step=2), fontsize=7)\n",
    "\n",
    "for axis in ['top','bottom','left','right']:\n",
    "  axs.spines[axis].set_linewidth(1.)\n",
    "\n",
    "axs.tick_params(axis='both', which='major', top=False, labeltop=False, direction='out', width=1., length=4)\n",
    "axs.tick_params(axis='both', which='major', right=False, labelright=False, direction='out', width=1., length=4)\n",
    "\n",
    "#choose differnt label from the dataset and plot the distribution\n",
    "scatter1 = axs.scatter(latents[0:19,0],latents[0:19,1], c='steelblue', alpha=1, s=8, linewidths=0, label='Fe-Ni')\n",
    "scatter2 = axs.scatter(latents[19:36,0],latents[19:36,1], c='firebrick', alpha=1, s=8, linewidths=0, label='Fe-Co')\n",
    "scatter3 = axs.scatter(latents[36:49,0],latents[36:49,1], c='olivedrab', alpha=1, s=8, linewidths=0, label='Ni-Co')\n",
    "scatter4 = axs.scatter(latents[49:118,0],latents[49:118,1], c='silver', alpha=1, s=8, linewidths=0, label='Fe-Ni-Co')\n",
    "scatter5 = axs.scatter(latents[118:203,0],latents[118:203,1], c='sandybrown', alpha=1, s=8, linewidths=0, label='Fe-Co-Cr')\n",
    "scatter6 = axs.scatter(latents[203:235,0],latents[203:235,1], c='forestgreen', alpha=1, s=8, linewidths=0, label='Fe-Co-Cr-Cu')\n",
    "scatter7 = axs.scatter(latents[235:397,0],latents[235:397,1], c='darkorchid', alpha=1, s=8, linewidths=0, label='Fe-Co-V-Ni')\n",
    "\n",
    "handles,labels = axs.get_legend_handles_labels()#Return handles and labels for legend\n",
    "handles = handles[::1]\n",
    "labels = labels[::1]\n",
    "\n",
    "legend_properties = {'size':7.5}\n",
    "axs.legend(handles, labels, loc='upper right', bbox_to_anchor=(1.015,1.017), handletextpad=-0.3, frameon=False, prop=legend_properties)\n"
   ]
  },
  {
   "cell_type": "markdown",
   "metadata": {
    "id": "jKkdRjD1DZQN"
   },
   "source": [
    "# **Neural network and GBDT model and Bayesian Optimization (BO)**"
   ]
  },
  {
   "cell_type": "markdown",
   "metadata": {
    "id": "Cs6dt9E0ELs9"
   },
   "source": [
    "**Ultility functions**\n",
    "*   MAPELoss - Mean Absolute Percentile Error (MAPE)\n",
    "we use MAPE loss because the loss is more sensitive to small TEC which is our target\n",
    "*   normalizing_data - Normalizing the data\n",
    "\n"
   ]
  },
  {
   "cell_type": "code",
   "execution_count": 23,
   "metadata": {
    "executionInfo": {
     "elapsed": 320,
     "status": "ok",
     "timestamp": 1652629471509,
     "user": {
      "displayName": "ziyuan rao",
      "userId": "11142835866797234336"
     },
     "user_tz": -120
    },
    "id": "k71dxvuL84R6"
   },
   "outputs": [],
   "source": [
    "import torch.nn as nn\n",
    "import torch\n",
    "import numpy as np\n",
    "import pandas as pd\n",
    "from torch.utils.data import Dataset, DataLoader\n",
    "import random\n",
    "\n",
    "class MAPELoss(nn.Module):\n",
    "     def __init__(self):\n",
    "        super(MAPELoss, self).__init__() \n",
    "        \n",
    "     def forward (self, output, target):\n",
    "         loss = torch.mean(torch.abs((target - output) / target))\n",
    "         # loss = (-1)*loss\n",
    "         return loss\n",
    "     \n",
    "def minmaxscaler(data):\n",
    "    min = np.amin(data)\n",
    "    max = np.amax(data)    \n",
    "    return (data - min)/(max-min)\n",
    "\n",
    "def weights_init(m):\n",
    "    classname = m.__class__.__name__\n",
    "    if classname.find('BatchNorm') != -1:\n",
    "        m.weight.data.normal_(1.0, 0.02)\n",
    "        m.bias.data.fill_(0)\n",
    "        \n",
    "class FeatureDataset(Dataset):\n",
    "    '''\n",
    "    Args: x is a 2D numpy array [x_size, x_features]\n",
    "    '''\n",
    "    def __init__(self, x):\n",
    "        self.x = x\n",
    "    \n",
    "    def __len__(self):\n",
    "        return self.x.shape[0]\n",
    "    \n",
    "    def __getitem__(self, idx):\n",
    "        return torch.FloatTensor(self.x[idx])\n",
    "\n",
    "    def getBatch(self, idxs = []):\n",
    "        if idxs == None:\n",
    "            return idxs\n",
    "        else:\n",
    "            x_features = []\n",
    "            for i in idxs:\n",
    "                x_features.append(self.__getitem__(i))\n",
    "            return torch.FloatTensor(x_features)\n",
    "        \n",
    "def normalizing_data(data, seed=42): #norminliz the data \n",
    "  df_all = data.drop(columns=['alloy'])\n",
    "  #create a min max processing object\n",
    "  composition = df_all [['Fe','Ni','Co','Cr','V','Cu']]\n",
    "  min_max_scaler = preprocessing.MinMaxScaler()\n",
    "  normalized_atomic_properties = min_max_scaler.fit_transform(df_all[['VEC','AR1','AR2','PE','Density',\n",
    "                                              'TC','MP','FI','SI','TI','M','TC','MS','MagS']])\n",
    "  x = pd.concat([composition,pd.DataFrame(normalized_atomic_properties)],axis=1)\n",
    "  y = df_all[['TEC']][:714]\n",
    "  bins     = [18,35,48,109,202,234,525,687]\n",
    "  y_binned = np.digitize(y.index, bins, right=True) #stratified 7-fold: each folder contains a specific type of alloys (7 types in total, each takes 85% and 15% as training and testing)\n",
    "  \n",
    "  x_all = torch.FloatTensor(x.values) #numpy to tensor\n",
    "  y_all = torch.FloatTensor(y.values) #numpy to tensor\n",
    "\n",
    "  if torch.cuda.is_available():\n",
    "      x_all = x_all.cuda()\n",
    "      y_all = y_all.cuda() \n",
    "  \n",
    "  train_features, test_features, train_labels, test_labels = train_test_split(x_all, y_all, test_size=0.15, random_state=seed, stratify=y_binned)\n",
    "  return x_all, y_all, train_features, test_features, train_labels, test_labels"
   ]
  },
  {
   "cell_type": "markdown",
   "metadata": {
    "id": "dcW5DVUsEo0o"
   },
   "source": [
    "**Data loading**"
   ]
  },
  {
   "cell_type": "code",
   "execution_count": 24,
   "metadata": {
    "executionInfo": {
     "elapsed": 13280,
     "status": "ok",
     "timestamp": 1652629487461,
     "user": {
      "displayName": "ziyuan rao",
      "userId": "11142835866797234336"
     },
     "user_tz": -120
    },
    "id": "h9GqV60vATsC"
   },
   "outputs": [],
   "source": [
    "import datetime\n",
    "import torch.utils.data as Data\n",
    "import pandas as pd\n",
    "import torch\n",
    "import torch.nn.functional as F    \n",
    "import matplotlib.pyplot as plt\n",
    "import numpy as np\n",
    "from sklearn.model_selection import train_test_split\n",
    "import torch.nn as nn\n",
    "import torch.optim as optim\n",
    "from sklearn import preprocessing\n",
    "\n",
    "#t = time.localtime()   \n",
    "table = pd.DataFrame(columns=['target','batch_size','lr','module__n_hidden','module__w'])\n",
    "\n",
    "plt.close('all')\n",
    "starttime = datetime.datetime.now()\n",
    "data = pd.read_excel('Data_base_Invar.xlsx')\n",
    "\n",
    "\n",
    "x_all, y_all, train_features, test_features, train_labels, test_labels = normalizing_data(data, seed=42)"
   ]
  },
  {
   "cell_type": "markdown",
   "metadata": {
    "id": "cqhFxU_yE3pc"
   },
   "source": [
    "**Neural network architecture**"
   ]
  },
  {
   "cell_type": "code",
   "execution_count": 25,
   "metadata": {
    "executionInfo": {
     "elapsed": 199,
     "status": "ok",
     "timestamp": 1652629488966,
     "user": {
      "displayName": "ziyuan rao",
      "userId": "11142835866797234336"
     },
     "user_tz": -120
    },
    "id": "g2TdhVbt9j5F"
   },
   "outputs": [],
   "source": [
    "class Net(nn.Module):  \n",
    "    def __init__(self, n_feature=20, n_hidden=218, n_output=1, w = 6):\n",
    "        super(Net, self).__init__()    \n",
    "        # self.BN=torch.nn.BatchNorm1d(n_hidden)#this does not help \n",
    "        self.hidden1 = torch.nn.Linear(n_feature, n_hidden) \n",
    "        nn.init.kaiming_normal_(self.hidden1.weight)#better initialize \n",
    "        \n",
    "        self.hiddens = nn.ModuleList ([nn.Linear(n_hidden, n_hidden) for i in range(w)])                            \n",
    "        for m in self.hiddens:\n",
    "            nn.init.kaiming_normal_(m.weight)#better initialize   \n",
    "        \n",
    "        self.predict = torch.nn.Linear(n_hidden, n_output)  \n",
    "        nn.init.kaiming_normal_(self.predict.weight)\n",
    "\n",
    "    def forward(self, x):  \n",
    "        x = self.hidden1(x)\n",
    "        # x = self.BN(x)\n",
    "        # x = self.Dropout (x)#this also does not help for small dataset\n",
    "        x = F.relu(x)   \n",
    "        \n",
    "        for m in self.hiddens:\n",
    "            x = m(x)\n",
    "            # x = self.BN(x)\n",
    "            x = F.relu(x) \n",
    "                      \n",
    "        x = self.predict(x)\n",
    "        # x = self.BN_3(x)\n",
    "        # x = self.Dropout (x)\n",
    "          # 输出值\n",
    "        return x\n",
    "\n",
    "def train(net, num_epochs, batch_size, train_features, test_features, train_labels, test_labels,\n",
    "          train_loader,\n",
    "          optimizer):\n",
    "    print (\"\\n=== train begin ===\")\n",
    "    #print(net) #if you want to know the structure\n",
    "    train_ls, test_ls = [], []\n",
    "    loss = MAPELoss() # MAPE means Mean Absolute percentile error \n",
    "    for epoch in range(num_epochs):\n",
    "        for x, y in train_loader:\n",
    "            ls = loss(net(x).view(-1, 1), y.view(-1, 1))\n",
    "            optimizer.zero_grad()\n",
    "            ls.backward()\n",
    "            optimizer.step()\n",
    "        if epoch % 100 == 0:\n",
    "            train_ls.append(loss(net(train_features).view(-1, 1), train_labels.view(-1, 1)).item())\n",
    "            test_ls.append(loss(net(test_features).view(-1, 1), test_labels.view(-1, 1)).item())\n",
    "            print (\"epoch %d: train loss %f, test loss %f\" % (epoch, train_ls[-1], test_ls[-1]))\n",
    "        \n",
    "    print (\"=== train end ===\")\n",
    "\n",
    "  \n",
    "def test(model, test_loader): \n",
    "    model.eval()\n",
    "    test_loss = 0\n",
    "    n = 0\n",
    "    loss = MAPELoss() \n",
    "    with torch.no_grad():\n",
    "        for data, target in test_loader:\n",
    "            output = model(data)\n",
    "            test_loss += loss(output.view(-1, 1), target.view(-1, 1)).item()  # sum up batch loss\n",
    "            n += 1\n",
    "\n",
    "    test_loss /= n\n",
    "    \n",
    "    print('Test set: Average loss: {:.4f}'.format(\n",
    "        test_loss))\n",
    "    \n",
    "    return test_loss \n",
    "\n",
    "def plotCurve(x_vals, y_vals, \n",
    "                        x_label, y_label, \n",
    "                        x2_vals=None, y2_vals=None, \n",
    "                        legend=None,\n",
    "                        figsize=(3.5, 2.5)):\n",
    "            # set figsize\n",
    "            plt.xlabel(x_label)\n",
    "            plt.ylabel(y_label)\n",
    "            plt.plot(x_vals, y_vals)\n",
    "            if x2_vals and y2_vals:\n",
    "                plt.plot(x2_vals, y2_vals, linestyle=':')      \n",
    "            if legend:\n",
    "                plt.legend(legend)\n",
    "\n",
    "        "
   ]
  },
  {
   "cell_type": "markdown",
   "metadata": {
    "id": "FyzNkXLkFQXT"
   },
   "source": [
    "**Bayesian hyperparameter optimization** we use BO to find the best parameters for NN\n",
    "\n"
   ]
  },
  {
   "cell_type": "code",
   "execution_count": 27,
   "metadata": {
    "id": "bHuElmYp-2Ws"
   },
   "outputs": [
    {
     "name": "stdout",
     "output_type": "stream",
     "text": [
      "|   iter    |  target   | batch_... |    lr     | module... | module__w |\n",
      "-------------------------------------------------------------------------\n",
      "\n",
      "=== train begin ===\n",
      "epoch 0: train loss 0.987380, test loss 0.993638\n",
      "epoch 100: train loss 0.330359, test loss 0.268757\n",
      "epoch 200: train loss 0.235657, test loss 0.251957\n",
      "epoch 300: train loss 0.230207, test loss 0.209035\n",
      "epoch 400: train loss 0.180139, test loss 0.295076\n",
      "epoch 500: train loss 0.167851, test loss 0.206400\n",
      "epoch 600: train loss 0.154897, test loss 0.194336\n",
      "epoch 700: train loss 0.152563, test loss 0.241004\n",
      "epoch 800: train loss 0.182179, test loss 0.238700\n",
      "epoch 900: train loss 0.139260, test loss 0.243846\n",
      "=== train end ===\n",
      "Test set: Average loss: 0.1321\n",
      "Test set: Average loss: 0.2259\n",
      "| \u001b[0m 1       \u001b[0m | \u001b[0m-0.2259  \u001b[0m | \u001b[0m 45.34   \u001b[0m | \u001b[0m 0.000860\u001b[0m | \u001b[0m 16.06   \u001b[0m | \u001b[0m 4.419   \u001b[0m |\n",
      "\n",
      "=== train begin ===\n",
      "epoch 0: train loss 1.019206, test loss 1.092481\n",
      "epoch 100: train loss 0.226122, test loss 0.260466\n",
      "epoch 200: train loss 0.237534, test loss 0.237719\n",
      "epoch 300: train loss 0.161287, test loss 0.194163\n",
      "epoch 400: train loss 0.165576, test loss 0.196241\n",
      "epoch 500: train loss 0.153363, test loss 0.217061\n",
      "epoch 600: train loss 0.103299, test loss 0.205054\n",
      "epoch 700: train loss 0.099335, test loss 0.202178\n",
      "epoch 800: train loss 0.080688, test loss 0.186784\n",
      "epoch 900: train loss 0.112479, test loss 0.203563\n",
      "=== train end ===\n",
      "Test set: Average loss: 0.0824\n",
      "Test set: Average loss: 0.1711\n",
      "| \u001b[95m 2       \u001b[0m | \u001b[95m-0.1711  \u001b[0m | \u001b[95m 32.25   \u001b[0m | \u001b[95m 0.000580\u001b[0m | \u001b[95m 377.8   \u001b[0m | \u001b[95m 8.118   \u001b[0m |\n",
      "=========================================================================\n",
      "{'target': -0.17112059146165848, 'params': {'batch_size': 32.24703539149188, 'lr': 0.0005809304671063481, 'module__n_hidden': 377.77820742669917, 'module__w': 8.117894871932808}}\n",
      "     target  batch_size        lr  module__n_hidden  module__w\n",
      "1 -0.171121   32.247035  0.000581        377.778207   8.117895\n",
      "0 -0.225936   45.344704  0.000860         16.058331   4.418661\n"
     ]
    }
   ],
   "source": [
    "import os\n",
    "import time\n",
    "from bayes_opt import BayesianOptimization\n",
    "from sklearn.model_selection import train_test_split\n",
    "from sklearn.metrics import mean_squared_error\n",
    "from lightgbm import LGBMRegressor\n",
    "import numpy as np\n",
    "from sklearn.metrics import explained_variance_score\n",
    "import matplotlib.pyplot as plt\n",
    "import datetime\n",
    "import pandas as pd\n",
    "def train_model(batch_size,lr, module__n_hidden,module__w):\n",
    "    module__n_hidden = int(module__n_hidden) # number of neurons per layer\n",
    "    module__w = int(module__w) # number of hidden layers\n",
    "    batch_size = int(batch_size)\n",
    "    train_dataset = Data.TensorDataset(train_features, train_labels)\n",
    "    test_dataset = Data.TensorDataset(test_features, test_labels)\n",
    "    train_loader = Data.DataLoader(train_dataset, batch_size, shuffle=True)\n",
    "    test_loader = Data.DataLoader(test_dataset, batch_size, shuffle=True) \n",
    "    net = Net(n_feature=20, n_hidden=module__n_hidden, n_output=1, w = module__w)\n",
    "    if torch.cuda.is_available():\n",
    "      net = net.cuda()\n",
    "    n_epochs = 1000 \n",
    "    optimizer = optim.Adam(net.parameters(), lr=lr, weight_decay=0.0001)\n",
    "    train(net, n_epochs, batch_size,train_features, test_features, \n",
    "          train_labels, test_labels,train_loader, optimizer)\n",
    "    train_loss= test(net,train_loader)\n",
    "    test_loss = test(net, test_loader)\n",
    "\n",
    "    \n",
    "    r = -np.abs(train_loss-test_loss)\n",
    "    \n",
    "    return -test_loss\n",
    "\n",
    "bounds = {'lr': (0.0005,0.001), 'batch_size': (32,64), 'module__n_hidden': (16,526),\n",
    "          'module__w': (2,10)} #this is the bounds where you are trying to find the best parameter combination\n",
    "optimizer = BayesianOptimization(\n",
    "    f=train_model,\n",
    "    pbounds=bounds,\n",
    "    random_state=1,\n",
    ")\n",
    "\n",
    "optimizer.maximize(init_points=1, n_iter=1)#init_points is where you start and do n_iterations (n_iter) BO\n",
    "print(optimizer.max)\n",
    "table = pd.DataFrame(columns=['target','batch_size','lr','module__n_hidden','module__w']) #save the results into a dataframe\n",
    "for res in optimizer.res:\n",
    "    table=table.append(pd.DataFrame({'target':[res['target']],'batch_size':[res['params']['batch_size']],\n",
    "                                     'lr':[res['params']['lr']], 'module__n_hidden':[res['params']['module__n_hidden']],\n",
    "                                     'module__w':[res['params']['module__w']]}),ignore_index=True)\n",
    "\n",
    "table=table.sort_values(by = ['target'],ascending=False)#sort the list start from the best results\n",
    "model_name = 'Invar_BO_NN'\n",
    "file_name = '{}.xlsx'.format(model_name)\n",
    "#endtime = datetime.datetime.now()\n",
    "#Rtime = endtime - starttime #if it takes long time you can record it.\n",
    "#print(Rtime)\n",
    "table.to_excel(file_name)#save the results to the table\n",
    "print(table)"
   ]
  },
  {
   "cell_type": "markdown",
   "metadata": {
    "id": "PvGetAcBH0Kw"
   },
   "source": [
    "**We also use BO to optimize the parameters of Gradient Boosting Decision Tree Ensemble (GBDT)**"
   ]
  },
  {
   "cell_type": "code",
   "execution_count": 28,
   "metadata": {
    "id": "wzwdbWHGI9gQ"
   },
   "outputs": [
    {
     "name": "stdout",
     "output_type": "stream",
     "text": [
      "|   iter    |  target   | colsam... | learni... |  max_bin  | max_depth | min_ch... | min_ch... | min_sp... | n_esti... | num_le... | reg_alpha | reg_la... | subsample |\n",
      "-------------------------------------------------------------------------------------------------------------------------------------------------------------------------\n",
      "| \u001b[0m 1       \u001b[0m | \u001b[0m-2.023   \u001b[0m | \u001b[0m 0.7085  \u001b[0m | \u001b[0m 0.7206  \u001b[0m | \u001b[0m 5.011   \u001b[0m | \u001b[0m 18.84   \u001b[0m | \u001b[0m 8.191   \u001b[0m | \u001b[0m 2.77    \u001b[0m | \u001b[0m 0.01944 \u001b[0m | \u001b[0m 72.38   \u001b[0m | \u001b[0m 26.82   \u001b[0m | \u001b[0m 0.5434  \u001b[0m | \u001b[0m 0.425   \u001b[0m | \u001b[0m 1.402   \u001b[0m |\n",
      "| \u001b[95m 2       \u001b[0m | \u001b[95m-1.07    \u001b[0m | \u001b[95m 0.6022  \u001b[0m | \u001b[95m 0.8782  \u001b[0m | \u001b[95m 7.602   \u001b[0m | \u001b[95m 40.56   \u001b[0m | \u001b[95m 21.45   \u001b[0m | \u001b[95m 16.76   \u001b[0m | \u001b[95m 0.0149  \u001b[0m | \u001b[95m 43.63   \u001b[0m | \u001b[95m 49.04   \u001b[0m | \u001b[95m 0.9686  \u001b[0m | \u001b[95m 0.3203  \u001b[0m | \u001b[95m 1.415   \u001b[0m |\n",
      "| \u001b[95m 3       \u001b[0m | \u001b[95m-0.3522  \u001b[0m | \u001b[95m 0.9382  \u001b[0m | \u001b[95m 0.8947  \u001b[0m | \u001b[95m 13.08   \u001b[0m | \u001b[95m 3.304   \u001b[0m | \u001b[95m 9.322   \u001b[0m | \u001b[95m 26.34   \u001b[0m | \u001b[95m 0.01074 \u001b[0m | \u001b[95m 87.12   \u001b[0m | \u001b[95m 57.68   \u001b[0m | \u001b[95m 0.5378  \u001b[0m | \u001b[95m 0.695   \u001b[0m | \u001b[95m 0.6995  \u001b[0m |\n",
      "| \u001b[0m 4       \u001b[0m | \u001b[0m-1.191   \u001b[0m | \u001b[0m 0.8433  \u001b[0m | \u001b[0m 0.8348  \u001b[0m | \u001b[0m 6.737   \u001b[0m | \u001b[0m 45.26   \u001b[0m | \u001b[0m 49.45   \u001b[0m | \u001b[0m 22.44   \u001b[0m | \u001b[0m 0.02876 \u001b[0m | \u001b[0m 158.9   \u001b[0m | \u001b[0m 10.68   \u001b[0m | \u001b[0m 0.4534  \u001b[0m | \u001b[0m 0.9095  \u001b[0m | \u001b[0m 0.6579  \u001b[0m |\n",
      "| \u001b[0m 5       \u001b[0m | \u001b[0m-1.644   \u001b[0m | \u001b[0m 0.6439  \u001b[0m | \u001b[0m 0.1309  \u001b[0m | \u001b[0m 6.84    \u001b[0m | \u001b[0m 41.05   \u001b[0m | \u001b[0m 11.37   \u001b[0m | \u001b[0m 7.966   \u001b[0m | \u001b[0m 0.04967 \u001b[0m | \u001b[0m 15.41   \u001b[0m | \u001b[0m 36.58   \u001b[0m | \u001b[0m 0.1553  \u001b[0m | \u001b[0m 0.5934  \u001b[0m | \u001b[0m 1.43    \u001b[0m |\n",
      "| \u001b[0m 6       \u001b[0m | \u001b[0m-0.6153  \u001b[0m | \u001b[0m 0.5512  \u001b[0m | \u001b[0m 0.4146  \u001b[0m | \u001b[0m 70.97   \u001b[0m | \u001b[0m 25.44   \u001b[0m | \u001b[0m 3.448   \u001b[0m | \u001b[0m 16.08   \u001b[0m | \u001b[0m 0.06672 \u001b[0m | \u001b[0m 105.4   \u001b[0m | \u001b[0m 56.95   \u001b[0m | \u001b[0m 0.5907  \u001b[0m | \u001b[0m 0.9044  \u001b[0m | \u001b[0m 0.3612  \u001b[0m |\n",
      "| \u001b[0m 7       \u001b[0m | \u001b[0m-0.8833  \u001b[0m | \u001b[0m 0.5696  \u001b[0m | \u001b[0m 0.8076  \u001b[0m | \u001b[0m 42.78   \u001b[0m | \u001b[0m 10.76   \u001b[0m | \u001b[0m 46.45   \u001b[0m | \u001b[0m 10.43   \u001b[0m | \u001b[0m 0.07533 \u001b[0m | \u001b[0m 146.6   \u001b[0m | \u001b[0m 53.58   \u001b[0m | \u001b[0m 0.6274  \u001b[0m | \u001b[0m 0.7534  \u001b[0m | \u001b[0m 0.7629  \u001b[0m |\n",
      "| \u001b[0m 8       \u001b[0m | \u001b[0m-1.309   \u001b[0m | \u001b[0m 0.635   \u001b[0m | \u001b[0m 0.896   \u001b[0m | \u001b[0m 45.67   \u001b[0m | \u001b[0m 57.93   \u001b[0m | \u001b[0m 33.51   \u001b[0m | \u001b[0m 18.65   \u001b[0m | \u001b[0m 0.01236 \u001b[0m | \u001b[0m 190.2   \u001b[0m | \u001b[0m 29.75   \u001b[0m | \u001b[0m 0.5826  \u001b[0m | \u001b[0m 0.4141  \u001b[0m | \u001b[0m 0.5504  \u001b[0m |\n",
      "| \u001b[0m 9       \u001b[0m | \u001b[0m-1.193   \u001b[0m | \u001b[0m 0.9517  \u001b[0m | \u001b[0m 0.5741  \u001b[0m | \u001b[0m 5.273   \u001b[0m | \u001b[0m 37.41   \u001b[0m | \u001b[0m 17.01   \u001b[0m | \u001b[0m 15.81   \u001b[0m | \u001b[0m 0.08871 \u001b[0m | \u001b[0m 74.67   \u001b[0m | \u001b[0m 54.97   \u001b[0m | \u001b[0m 0.6271  \u001b[0m | \u001b[0m 0.02566 \u001b[0m | \u001b[0m 1.866   \u001b[0m |\n",
      "| \u001b[0m 10      \u001b[0m | \u001b[0m-1.258   \u001b[0m | \u001b[0m 0.8454  \u001b[0m | \u001b[0m 0.9973  \u001b[0m | \u001b[0m 21.37   \u001b[0m | \u001b[0m 9.091   \u001b[0m | \u001b[0m 46.7    \u001b[0m | \u001b[0m 20.9    \u001b[0m | \u001b[0m 0.007534\u001b[0m | \u001b[0m 152.3   \u001b[0m | \u001b[0m 46.46   \u001b[0m | \u001b[0m 0.9238  \u001b[0m | \u001b[0m 0.7144  \u001b[0m | \u001b[0m 0.3361  \u001b[0m |\n",
      "| \u001b[0m 11      \u001b[0m | \u001b[0m-1.695   \u001b[0m | \u001b[0m 0.5099  \u001b[0m | \u001b[0m 0.02718 \u001b[0m | \u001b[0m 7.689   \u001b[0m | \u001b[0m 15.53   \u001b[0m | \u001b[0m 43.14   \u001b[0m | \u001b[0m 16.16   \u001b[0m | \u001b[0m 0.05573 \u001b[0m | \u001b[0m 169.2   \u001b[0m | \u001b[0m 11.83   \u001b[0m | \u001b[0m 0.2864  \u001b[0m | \u001b[0m 0.5899  \u001b[0m | \u001b[0m 1.942   \u001b[0m |\n",
      "| \u001b[0m 12      \u001b[0m | \u001b[0m-1.79    \u001b[0m | \u001b[0m 0.7805  \u001b[0m | \u001b[0m 0.01963 \u001b[0m | \u001b[0m 81.06   \u001b[0m | \u001b[0m 14.75   \u001b[0m | \u001b[0m 40.55   \u001b[0m | \u001b[0m 11.64   \u001b[0m | \u001b[0m 0.08649 \u001b[0m | \u001b[0m 150.7   \u001b[0m | \u001b[0m 35.59   \u001b[0m | \u001b[0m 0.1451  \u001b[0m | \u001b[0m 0.06932 \u001b[0m | \u001b[0m 0.3306  \u001b[0m |\n",
      "| \u001b[0m 13      \u001b[0m | \u001b[0m-0.6388  \u001b[0m | \u001b[0m 0.5223  \u001b[0m | \u001b[0m 0.1084  \u001b[0m | \u001b[0m 26.44   \u001b[0m | \u001b[0m 43.07   \u001b[0m | \u001b[0m 28.43   \u001b[0m | \u001b[0m 0.3768  \u001b[0m | \u001b[0m 0.008125\u001b[0m | \u001b[0m 193.6   \u001b[0m | \u001b[0m 36.25   \u001b[0m | \u001b[0m 0.2113  \u001b[0m | \u001b[0m 0.2598  \u001b[0m | \u001b[0m 1.513   \u001b[0m |\n",
      "| \u001b[95m 14      \u001b[0m | \u001b[95m-0.3085  \u001b[0m | \u001b[95m 0.5977  \u001b[0m | \u001b[95m 0.5818  \u001b[0m | \u001b[95m 97.15   \u001b[0m | \u001b[95m 50.96   \u001b[0m | \u001b[95m 12.75   \u001b[0m | \u001b[95m 14.81   \u001b[0m | \u001b[95m 0.06238 \u001b[0m | \u001b[95m 166.7   \u001b[0m | \u001b[95m 13.62   \u001b[0m | \u001b[95m 0.02839 \u001b[0m | \u001b[95m 0.07932 \u001b[0m | \u001b[95m 1.024   \u001b[0m |\n",
      "| \u001b[0m 15      \u001b[0m | \u001b[0m-1.34    \u001b[0m | \u001b[0m 0.8032  \u001b[0m | \u001b[0m 0.5693  \u001b[0m | \u001b[0m 35.15   \u001b[0m | \u001b[0m 59.33   \u001b[0m | \u001b[0m 29.41   \u001b[0m | \u001b[0m 11.4    \u001b[0m | \u001b[0m 0.05554 \u001b[0m | \u001b[0m 150.3   \u001b[0m | \u001b[0m 41.81   \u001b[0m | \u001b[0m 0.2723  \u001b[0m | \u001b[0m 0.07567 \u001b[0m | \u001b[0m 0.8032  \u001b[0m |\n",
      "| \u001b[0m 16      \u001b[0m | \u001b[0m-0.74    \u001b[0m | \u001b[0m 0.8149  \u001b[0m | \u001b[0m 0.211   \u001b[0m | \u001b[0m 76.51   \u001b[0m | \u001b[0m 4.926   \u001b[0m | \u001b[0m 13.76   \u001b[0m | \u001b[0m 24.14   \u001b[0m | \u001b[0m 0.02015 \u001b[0m | \u001b[0m 129.7   \u001b[0m | \u001b[0m 33.86   \u001b[0m | \u001b[0m 0.9256  \u001b[0m | \u001b[0m 0.2707  \u001b[0m | \u001b[0m 0.2253  \u001b[0m |\n",
      "| \u001b[0m 17      \u001b[0m | \u001b[0m-1.268   \u001b[0m | \u001b[0m 0.8675  \u001b[0m | \u001b[0m 0.7724  \u001b[0m | \u001b[0m 91.24   \u001b[0m | \u001b[0m 55.99   \u001b[0m | \u001b[0m 1.684   \u001b[0m | \u001b[0m 7.031   \u001b[0m | \u001b[0m 0.06206 \u001b[0m | \u001b[0m 190.1   \u001b[0m | \u001b[0m 57.26   \u001b[0m | \u001b[0m 0.5611  \u001b[0m | \u001b[0m 0.9165  \u001b[0m | \u001b[0m 1.319   \u001b[0m |\n",
      "| \u001b[0m 18      \u001b[0m | \u001b[0m-0.7251  \u001b[0m | \u001b[0m 0.695   \u001b[0m | \u001b[0m 0.4865  \u001b[0m | \u001b[0m 62.41   \u001b[0m | \u001b[0m 33.42   \u001b[0m | \u001b[0m 46.38   \u001b[0m | \u001b[0m 27.56   \u001b[0m | \u001b[0m 0.04009 \u001b[0m | \u001b[0m 192.8   \u001b[0m | \u001b[0m 14.57   \u001b[0m | \u001b[0m 0.1351  \u001b[0m | \u001b[0m 0.1437  \u001b[0m | \u001b[0m 1.061   \u001b[0m |\n",
      "| \u001b[0m 19      \u001b[0m | \u001b[0m-0.4458  \u001b[0m | \u001b[0m 0.5108  \u001b[0m | \u001b[0m 0.948   \u001b[0m | \u001b[0m 83.58   \u001b[0m | \u001b[0m 1.886   \u001b[0m | \u001b[0m 9.634   \u001b[0m | \u001b[0m 9.962   \u001b[0m | \u001b[0m 0.01397 \u001b[0m | \u001b[0m 162.9   \u001b[0m | \u001b[0m 23.96   \u001b[0m | \u001b[0m 0.9407  \u001b[0m | \u001b[0m 0.5862  \u001b[0m | \u001b[0m 1.77    \u001b[0m |\n",
      "| \u001b[0m 20      \u001b[0m | \u001b[0m-0.4397  \u001b[0m | \u001b[0m 0.9224  \u001b[0m | \u001b[0m 0.9055  \u001b[0m | \u001b[0m 48.69   \u001b[0m | \u001b[0m 33.23   \u001b[0m | \u001b[0m 40.13   \u001b[0m | \u001b[0m 8.572   \u001b[0m | \u001b[0m 0.04954 \u001b[0m | \u001b[0m 121.8   \u001b[0m | \u001b[0m 5.854   \u001b[0m | \u001b[0m 0.5975  \u001b[0m | \u001b[0m 0.4393  \u001b[0m | \u001b[0m 1.634   \u001b[0m |\n",
      "| \u001b[0m 21      \u001b[0m | \u001b[0m-0.8756  \u001b[0m | \u001b[0m 0.6576  \u001b[0m | \u001b[0m 0.893   \u001b[0m | \u001b[0m 59.9    \u001b[0m | \u001b[0m 11.86   \u001b[0m | \u001b[0m 39.61   \u001b[0m | \u001b[0m 18.36   \u001b[0m | \u001b[0m 0.006337\u001b[0m | \u001b[0m 86.94   \u001b[0m | \u001b[0m 42.35   \u001b[0m | \u001b[0m 0.9194  \u001b[0m | \u001b[0m 0.0104  \u001b[0m | \u001b[0m 1.956   \u001b[0m |\n",
      "| \u001b[0m 22      \u001b[0m | \u001b[0m-1.387   \u001b[0m | \u001b[0m 0.6883  \u001b[0m | \u001b[0m 0.9738  \u001b[0m | \u001b[0m 62.45   \u001b[0m | \u001b[0m 49.9    \u001b[0m | \u001b[0m 29.16   \u001b[0m | \u001b[0m 18.84   \u001b[0m | \u001b[0m 0.02927 \u001b[0m | \u001b[0m 119.4   \u001b[0m | \u001b[0m 46.25   \u001b[0m | \u001b[0m 0.8597  \u001b[0m | \u001b[0m 0.7575  \u001b[0m | \u001b[0m 1.426   \u001b[0m |\n",
      "| \u001b[0m 23      \u001b[0m | \u001b[0m-1.084   \u001b[0m | \u001b[0m 0.9322  \u001b[0m | \u001b[0m 0.3234  \u001b[0m | \u001b[0m 68.72   \u001b[0m | \u001b[0m 27.6    \u001b[0m | \u001b[0m 19.72   \u001b[0m | \u001b[0m 12.32   \u001b[0m | \u001b[0m 0.04075 \u001b[0m | \u001b[0m 66.89   \u001b[0m | \u001b[0m 39.21   \u001b[0m | \u001b[0m 0.4359  \u001b[0m | \u001b[0m 0.9741  \u001b[0m | \u001b[0m 1.388   \u001b[0m |\n",
      "| \u001b[0m 24      \u001b[0m | \u001b[0m-0.4684  \u001b[0m | \u001b[0m 0.5993  \u001b[0m | \u001b[0m 0.4273  \u001b[0m | \u001b[0m 37.62   \u001b[0m | \u001b[0m 48.06   \u001b[0m | \u001b[0m 44.12   \u001b[0m | \u001b[0m 27.12   \u001b[0m | \u001b[0m 0.06661 \u001b[0m | \u001b[0m 57.69   \u001b[0m | \u001b[0m 18.88   \u001b[0m | \u001b[0m 0.8563  \u001b[0m | \u001b[0m 0.5324  \u001b[0m | \u001b[0m 1.624   \u001b[0m |\n",
      "| \u001b[0m 25      \u001b[0m | \u001b[0m-0.6857  \u001b[0m | \u001b[0m 0.7862  \u001b[0m | \u001b[0m 0.7334  \u001b[0m | \u001b[0m 54.31   \u001b[0m | \u001b[0m 46.48   \u001b[0m | \u001b[0m 28.87   \u001b[0m | \u001b[0m 13.97   \u001b[0m | \u001b[0m 0.03493 \u001b[0m | \u001b[0m 18.3    \u001b[0m | \u001b[0m 25.79   \u001b[0m | \u001b[0m 0.08883 \u001b[0m | \u001b[0m 0.983   \u001b[0m | \u001b[0m 0.4451  \u001b[0m |\n",
      "| \u001b[0m 26      \u001b[0m | \u001b[0m-0.8858  \u001b[0m | \u001b[0m 0.9059  \u001b[0m | \u001b[0m 0.8751  \u001b[0m | \u001b[0m 70.4    \u001b[0m | \u001b[0m 34.6    \u001b[0m | \u001b[0m 8.888   \u001b[0m | \u001b[0m 14.01   \u001b[0m | \u001b[0m 0.03517 \u001b[0m | \u001b[0m 48.88   \u001b[0m | \u001b[0m 37.59   \u001b[0m | \u001b[0m 0.3191  \u001b[0m | \u001b[0m 0.9171  \u001b[0m | \u001b[0m 1.828   \u001b[0m |\n",
      "| \u001b[0m 27      \u001b[0m | \u001b[0m-0.8109  \u001b[0m | \u001b[0m 0.6286  \u001b[0m | \u001b[0m 0.1118  \u001b[0m | \u001b[0m 23.33   \u001b[0m | \u001b[0m 30.48   \u001b[0m | \u001b[0m 36.7    \u001b[0m | \u001b[0m 6.246   \u001b[0m | \u001b[0m 0.02556 \u001b[0m | \u001b[0m 171.1   \u001b[0m | \u001b[0m 27.87   \u001b[0m | \u001b[0m 0.6205  \u001b[0m | \u001b[0m 0.2413  \u001b[0m | \u001b[0m 0.2937  \u001b[0m |\n",
      "| \u001b[0m 28      \u001b[0m | \u001b[0m-1.075   \u001b[0m | \u001b[0m 0.7579  \u001b[0m | \u001b[0m 0.4777  \u001b[0m | \u001b[0m 19.5    \u001b[0m | \u001b[0m 37.69   \u001b[0m | \u001b[0m 27.66   \u001b[0m | \u001b[0m 19.62   \u001b[0m | \u001b[0m 0.01531 \u001b[0m | \u001b[0m 151.5   \u001b[0m | \u001b[0m 17.21   \u001b[0m | \u001b[0m 0.5242  \u001b[0m | \u001b[0m 0.7874  \u001b[0m | \u001b[0m 0.1424  \u001b[0m |\n",
      "| \u001b[0m 29      \u001b[0m | \u001b[0m-0.6631  \u001b[0m | \u001b[0m 0.6622  \u001b[0m | \u001b[0m 0.873   \u001b[0m | \u001b[0m 85.25   \u001b[0m | \u001b[0m 32.77   \u001b[0m | \u001b[0m 43.46   \u001b[0m | \u001b[0m 28.49   \u001b[0m | \u001b[0m 0.08281 \u001b[0m | \u001b[0m 171.6   \u001b[0m | \u001b[0m 10.43   \u001b[0m | \u001b[0m 0.6548  \u001b[0m | \u001b[0m 0.7065  \u001b[0m | \u001b[0m 1.259   \u001b[0m |\n",
      "| \u001b[0m 30      \u001b[0m | \u001b[0m-1.428   \u001b[0m | \u001b[0m 0.8998  \u001b[0m | \u001b[0m 0.03554 \u001b[0m | \u001b[0m 78.17   \u001b[0m | \u001b[0m 44.17   \u001b[0m | \u001b[0m 13.73   \u001b[0m | \u001b[0m 7.712   \u001b[0m | \u001b[0m 0.0636  \u001b[0m | \u001b[0m 72.33   \u001b[0m | \u001b[0m 48.81   \u001b[0m | \u001b[0m 0.4517  \u001b[0m | \u001b[0m 0.7849  \u001b[0m | \u001b[0m 1.982   \u001b[0m |\n",
      "| \u001b[0m 31      \u001b[0m | \u001b[0m-0.3227  \u001b[0m | \u001b[0m 0.6501  \u001b[0m | \u001b[0m 0.1439  \u001b[0m | \u001b[0m 90.62   \u001b[0m | \u001b[0m 32.95   \u001b[0m | \u001b[0m 48.76   \u001b[0m | \u001b[0m 19.1    \u001b[0m | \u001b[0m 0.0994  \u001b[0m | \u001b[0m 111.5   \u001b[0m | \u001b[0m 33.95   \u001b[0m | \u001b[0m 0.1441  \u001b[0m | \u001b[0m 0.3621  \u001b[0m | \u001b[0m 0.1498  \u001b[0m |\n",
      "| \u001b[0m 32      \u001b[0m | \u001b[0m-1.018   \u001b[0m | \u001b[0m 0.5802  \u001b[0m | \u001b[0m 0.7459  \u001b[0m | \u001b[0m 7.888   \u001b[0m | \u001b[0m 22.63   \u001b[0m | \u001b[0m 43.25   \u001b[0m | \u001b[0m 20.78   \u001b[0m | \u001b[0m 0.0694  \u001b[0m | \u001b[0m 41.78   \u001b[0m | \u001b[0m 29.3    \u001b[0m | \u001b[0m 0.5858  \u001b[0m | \u001b[0m 0.9899  \u001b[0m | \u001b[0m 0.4874  \u001b[0m |\n",
      "| \u001b[0m 33      \u001b[0m | \u001b[0m-0.8699  \u001b[0m | \u001b[0m 0.6239  \u001b[0m | \u001b[0m 0.2629  \u001b[0m | \u001b[0m 76.27   \u001b[0m | \u001b[0m 27.96   \u001b[0m | \u001b[0m 3.79    \u001b[0m | \u001b[0m 15.26   \u001b[0m | \u001b[0m 0.02198 \u001b[0m | \u001b[0m 160.7   \u001b[0m | \u001b[0m 21.35   \u001b[0m | \u001b[0m 0.03733 \u001b[0m | \u001b[0m 0.5975  \u001b[0m | \u001b[0m 1.703   \u001b[0m |\n",
      "| \u001b[0m 34      \u001b[0m | \u001b[0m-0.4218  \u001b[0m | \u001b[0m 0.6905  \u001b[0m | \u001b[0m 0.7501  \u001b[0m | \u001b[0m 53.56   \u001b[0m | \u001b[0m 32.92   \u001b[0m | \u001b[0m 48.01   \u001b[0m | \u001b[0m 24.12   \u001b[0m | \u001b[0m 0.0042  \u001b[0m | \u001b[0m 143.3   \u001b[0m | \u001b[0m 30.58   \u001b[0m | \u001b[0m 0.9481  \u001b[0m | \u001b[0m 0.2292  \u001b[0m | \u001b[0m 0.6074  \u001b[0m |\n",
      "| \u001b[0m 35      \u001b[0m | \u001b[0m-0.3504  \u001b[0m | \u001b[0m 0.5407  \u001b[0m | \u001b[0m 0.4292  \u001b[0m | \u001b[0m 15.36   \u001b[0m | \u001b[0m 38.39   \u001b[0m | \u001b[0m 40.35   \u001b[0m | \u001b[0m 20.9    \u001b[0m | \u001b[0m 0.07685 \u001b[0m | \u001b[0m 71.78   \u001b[0m | \u001b[0m 51.52   \u001b[0m | \u001b[0m 0.4345  \u001b[0m | \u001b[0m 0.8258  \u001b[0m | \u001b[0m 1.29    \u001b[0m |\n",
      "| \u001b[0m 36      \u001b[0m | \u001b[0m-1.354   \u001b[0m | \u001b[0m 0.5717  \u001b[0m | \u001b[0m 0.07931 \u001b[0m | \u001b[0m 6.742   \u001b[0m | \u001b[0m 4.937   \u001b[0m | \u001b[0m 23.47   \u001b[0m | \u001b[0m 3.4     \u001b[0m | \u001b[0m 0.003751\u001b[0m | \u001b[0m 152.2   \u001b[0m | \u001b[0m 26.72   \u001b[0m | \u001b[0m 0.7495  \u001b[0m | \u001b[0m 0.4579  \u001b[0m | \u001b[0m 0.9552  \u001b[0m |\n",
      "| \u001b[0m 37      \u001b[0m | \u001b[0m-0.736   \u001b[0m | \u001b[0m 0.739   \u001b[0m | \u001b[0m 0.4745  \u001b[0m | \u001b[0m 81.3    \u001b[0m | \u001b[0m 24.74   \u001b[0m | \u001b[0m 45.33   \u001b[0m | \u001b[0m 1.112   \u001b[0m | \u001b[0m 0.07761 \u001b[0m | \u001b[0m 29.5    \u001b[0m | \u001b[0m 39.02   \u001b[0m | \u001b[0m 0.02026 \u001b[0m | \u001b[0m 0.5432  \u001b[0m | \u001b[0m 0.1057  \u001b[0m |\n",
      "| \u001b[0m 38      \u001b[0m | \u001b[0m-1.164   \u001b[0m | \u001b[0m 0.9756  \u001b[0m | \u001b[0m 0.9055  \u001b[0m | \u001b[0m 80.62   \u001b[0m | \u001b[0m 55.0    \u001b[0m | \u001b[0m 8.132   \u001b[0m | \u001b[0m 4.732   \u001b[0m | \u001b[0m 0.01958 \u001b[0m | \u001b[0m 126.4   \u001b[0m | \u001b[0m 54.82   \u001b[0m | \u001b[0m 0.9901  \u001b[0m | \u001b[0m 0.714   \u001b[0m | \u001b[0m 1.49    \u001b[0m |\n",
      "| \u001b[95m 39      \u001b[0m | \u001b[95m-0.2142  \u001b[0m | \u001b[95m 0.9546  \u001b[0m | \u001b[95m 0.4015  \u001b[0m | \u001b[95m 28.74   \u001b[0m | \u001b[95m 11.23   \u001b[0m | \u001b[95m 6.853   \u001b[0m | \u001b[95m 24.38   \u001b[0m | \u001b[95m 0.01553 \u001b[0m | \u001b[95m 56.54   \u001b[0m | \u001b[95m 50.05   \u001b[0m | \u001b[95m 0.3175  \u001b[0m | \u001b[95m 0.9826  \u001b[0m | \u001b[95m 0.6066  \u001b[0m |\n",
      "| \u001b[0m 40      \u001b[0m | \u001b[0m-0.9128  \u001b[0m | \u001b[0m 0.7668  \u001b[0m | \u001b[0m 0.3152  \u001b[0m | \u001b[0m 91.52   \u001b[0m | \u001b[0m 22.63   \u001b[0m | \u001b[0m 22.25   \u001b[0m | \u001b[0m 15.37   \u001b[0m | \u001b[0m 0.09395 \u001b[0m | \u001b[0m 11.04   \u001b[0m | \u001b[0m 44.43   \u001b[0m | \u001b[0m 0.8921  \u001b[0m | \u001b[0m 0.03701 \u001b[0m | \u001b[0m 1.092   \u001b[0m |\n",
      "| \u001b[0m 41      \u001b[0m | \u001b[0m-0.9037  \u001b[0m | \u001b[0m 0.663   \u001b[0m | \u001b[0m 0.8596  \u001b[0m | \u001b[0m 58.06   \u001b[0m | \u001b[0m 41.72   \u001b[0m | \u001b[0m 23.19   \u001b[0m | \u001b[0m 18.85   \u001b[0m | \u001b[0m 0.02972 \u001b[0m | \u001b[0m 6.823   \u001b[0m | \u001b[0m 36.72   \u001b[0m | \u001b[0m 0.3183  \u001b[0m | \u001b[0m 0.5221  \u001b[0m | \u001b[0m 1.841   \u001b[0m |\n",
      "| \u001b[0m 42      \u001b[0m | \u001b[0m-1.509   \u001b[0m | \u001b[0m 0.7132  \u001b[0m | \u001b[0m 0.2481  \u001b[0m | \u001b[0m 40.27   \u001b[0m | \u001b[0m 55.98   \u001b[0m | \u001b[0m 46.91   \u001b[0m | \u001b[0m 25.33   \u001b[0m | \u001b[0m 0.0921  \u001b[0m | \u001b[0m 49.44   \u001b[0m | \u001b[0m 9.812   \u001b[0m | \u001b[0m 0.235   \u001b[0m | \u001b[0m 0.3212  \u001b[0m | \u001b[0m 0.4321  \u001b[0m |\n",
      "| \u001b[0m 43      \u001b[0m | \u001b[0m-1.143   \u001b[0m | \u001b[0m 0.8035  \u001b[0m | \u001b[0m 0.4142  \u001b[0m | \u001b[0m 82.55   \u001b[0m | \u001b[0m 11.92   \u001b[0m | \u001b[0m 35.39   \u001b[0m | \u001b[0m 7.211   \u001b[0m | \u001b[0m 0.05785 \u001b[0m | \u001b[0m 73.05   \u001b[0m | \u001b[0m 8.133   \u001b[0m | \u001b[0m 0.2365  \u001b[0m | \u001b[0m 0.6675  \u001b[0m | \u001b[0m 1.045   \u001b[0m |\n",
      "| \u001b[0m 44      \u001b[0m | \u001b[0m-0.5206  \u001b[0m | \u001b[0m 0.7595  \u001b[0m | \u001b[0m 0.1755  \u001b[0m | \u001b[0m 59.22   \u001b[0m | \u001b[0m 59.81   \u001b[0m | \u001b[0m 41.02   \u001b[0m | \u001b[0m 17.83   \u001b[0m | \u001b[0m 0.09762 \u001b[0m | \u001b[0m 180.8   \u001b[0m | \u001b[0m 37.76   \u001b[0m | \u001b[0m 0.0421  \u001b[0m | \u001b[0m 0.1026  \u001b[0m | \u001b[0m 0.2242  \u001b[0m |\n",
      "| \u001b[0m 45      \u001b[0m | \u001b[0m-0.3172  \u001b[0m | \u001b[0m 0.7259  \u001b[0m | \u001b[0m 0.3761  \u001b[0m | \u001b[0m 97.66   \u001b[0m | \u001b[0m 10.91   \u001b[0m | \u001b[0m 48.67   \u001b[0m | \u001b[0m 23.02   \u001b[0m | \u001b[0m 0.0826  \u001b[0m | \u001b[0m 128.4   \u001b[0m | \u001b[0m 41.78   \u001b[0m | \u001b[0m 0.4821  \u001b[0m | \u001b[0m 0.023   \u001b[0m | \u001b[0m 0.7707  \u001b[0m |\n",
      "| \u001b[0m 46      \u001b[0m | \u001b[0m-1.77    \u001b[0m | \u001b[0m 0.746   \u001b[0m | \u001b[0m 0.7304  \u001b[0m | \u001b[0m 49.52   \u001b[0m | \u001b[0m 27.99   \u001b[0m | \u001b[0m 7.745   \u001b[0m | \u001b[0m 0.3268  \u001b[0m | \u001b[0m 0.07607 \u001b[0m | \u001b[0m 67.39   \u001b[0m | \u001b[0m 59.14   \u001b[0m | \u001b[0m 0.228   \u001b[0m | \u001b[0m 0.3453  \u001b[0m | \u001b[0m 1.095   \u001b[0m |\n",
      "| \u001b[0m 47      \u001b[0m | \u001b[0m-0.5523  \u001b[0m | \u001b[0m 0.8774  \u001b[0m | \u001b[0m 0.4644  \u001b[0m | \u001b[0m 16.86   \u001b[0m | \u001b[0m 19.44   \u001b[0m | \u001b[0m 25.72   \u001b[0m | \u001b[0m 20.22   \u001b[0m | \u001b[0m 0.07724 \u001b[0m | \u001b[0m 30.42   \u001b[0m | \u001b[0m 6.26    \u001b[0m | \u001b[0m 0.5239  \u001b[0m | \u001b[0m 0.8119  \u001b[0m | \u001b[0m 0.1239  \u001b[0m |\n",
      "| \u001b[0m 48      \u001b[0m | \u001b[0m-0.2938  \u001b[0m | \u001b[0m 0.8362  \u001b[0m | \u001b[0m 0.6871  \u001b[0m | \u001b[0m 47.68   \u001b[0m | \u001b[0m 54.97   \u001b[0m | \u001b[0m 32.57   \u001b[0m | \u001b[0m 0.1573  \u001b[0m | \u001b[0m 0.04896 \u001b[0m | \u001b[0m 172.6   \u001b[0m | \u001b[0m 50.67   \u001b[0m | \u001b[0m 0.6527  \u001b[0m | \u001b[0m 0.677   \u001b[0m | \u001b[0m 1.199   \u001b[0m |\n",
      "| \u001b[0m 49      \u001b[0m | \u001b[0m-0.6833  \u001b[0m | \u001b[0m 0.6371  \u001b[0m | \u001b[0m 0.561   \u001b[0m | \u001b[0m 68.81   \u001b[0m | \u001b[0m 21.79   \u001b[0m | \u001b[0m 42.94   \u001b[0m | \u001b[0m 5.851   \u001b[0m | \u001b[0m 0.07498 \u001b[0m | \u001b[0m 61.47   \u001b[0m | \u001b[0m 47.56   \u001b[0m | \u001b[0m 0.4335  \u001b[0m | \u001b[0m 0.8096  \u001b[0m | \u001b[0m 0.7717  \u001b[0m |\n",
      "| \u001b[0m 50      \u001b[0m | \u001b[0m-0.7122  \u001b[0m | \u001b[0m 0.6068  \u001b[0m | \u001b[0m 0.7675  \u001b[0m | \u001b[0m 34.32   \u001b[0m | \u001b[0m 44.26   \u001b[0m | \u001b[0m 37.48   \u001b[0m | \u001b[0m 6.642   \u001b[0m | \u001b[0m 0.0222  \u001b[0m | \u001b[0m 43.79   \u001b[0m | \u001b[0m 12.84   \u001b[0m | \u001b[0m 0.3833  \u001b[0m | \u001b[0m 0.03636 \u001b[0m | \u001b[0m 0.3107  \u001b[0m |\n",
      "| \u001b[0m 51      \u001b[0m | \u001b[0m-0.5585  \u001b[0m | \u001b[0m 0.629   \u001b[0m | \u001b[0m 0.4179  \u001b[0m | \u001b[0m 28.54   \u001b[0m | \u001b[0m 57.86   \u001b[0m | \u001b[0m 9.166   \u001b[0m | \u001b[0m 20.19   \u001b[0m | \u001b[0m 0.0737  \u001b[0m | \u001b[0m 119.3   \u001b[0m | \u001b[0m 49.62   \u001b[0m | \u001b[0m 0.2659  \u001b[0m | \u001b[0m 0.418   \u001b[0m | \u001b[0m 1.236   \u001b[0m |\n",
      "| \u001b[0m 52      \u001b[0m | \u001b[0m-0.7191  \u001b[0m | \u001b[0m 0.5     \u001b[0m | \u001b[0m 1.0     \u001b[0m | \u001b[0m 100.0   \u001b[0m | \u001b[0m 60.0    \u001b[0m | \u001b[0m 50.0    \u001b[0m | \u001b[0m 30.0    \u001b[0m | \u001b[0m 0.001   \u001b[0m | \u001b[0m 131.2   \u001b[0m | \u001b[0m 5.0     \u001b[0m | \u001b[0m 1.0     \u001b[0m | \u001b[0m 1.0     \u001b[0m | \u001b[0m 2.0     \u001b[0m |\n",
      "| \u001b[0m 53      \u001b[0m | \u001b[0m-0.6796  \u001b[0m | \u001b[0m 0.9201  \u001b[0m | \u001b[0m 0.4807  \u001b[0m | \u001b[0m 93.64   \u001b[0m | \u001b[0m 57.03   \u001b[0m | \u001b[0m 32.56   \u001b[0m | \u001b[0m 13.22   \u001b[0m | \u001b[0m 0.08085 \u001b[0m | \u001b[0m 25.64   \u001b[0m | \u001b[0m 32.64   \u001b[0m | \u001b[0m 0.7478  \u001b[0m | \u001b[0m 0.347   \u001b[0m | \u001b[0m 1.404   \u001b[0m |\n",
      "| \u001b[0m 54      \u001b[0m | \u001b[0m-3.006   \u001b[0m | \u001b[0m 0.7731  \u001b[0m | \u001b[0m 0.01087 \u001b[0m | \u001b[0m 59.56   \u001b[0m | \u001b[0m 49.24   \u001b[0m | \u001b[0m 4.843   \u001b[0m | \u001b[0m 26.21   \u001b[0m | \u001b[0m 0.04311 \u001b[0m | \u001b[0m 108.0   \u001b[0m | \u001b[0m 52.14   \u001b[0m | \u001b[0m 0.6491  \u001b[0m | \u001b[0m 0.3663  \u001b[0m | \u001b[0m 1.852   \u001b[0m |\n",
      "| \u001b[0m 55      \u001b[0m | \u001b[0m-0.282   \u001b[0m | \u001b[0m 0.5699  \u001b[0m | \u001b[0m 0.336   \u001b[0m | \u001b[0m 53.72   \u001b[0m | \u001b[0m 57.89   \u001b[0m | \u001b[0m 17.49   \u001b[0m | \u001b[0m 6.765   \u001b[0m | \u001b[0m 0.02093 \u001b[0m | \u001b[0m 25.09   \u001b[0m | \u001b[0m 29.71   \u001b[0m | \u001b[0m 0.5914  \u001b[0m | \u001b[0m 0.4711  \u001b[0m | \u001b[0m 0.6811  \u001b[0m |\n",
      "| \u001b[0m 56      \u001b[0m | \u001b[0m-0.9508  \u001b[0m | \u001b[0m 0.545   \u001b[0m | \u001b[0m 0.3397  \u001b[0m | \u001b[0m 59.86   \u001b[0m | \u001b[0m 15.62   \u001b[0m | \u001b[0m 35.07   \u001b[0m | \u001b[0m 29.46   \u001b[0m | \u001b[0m 0.03626 \u001b[0m | \u001b[0m 75.68   \u001b[0m | \u001b[0m 10.1    \u001b[0m | \u001b[0m 0.2509  \u001b[0m | \u001b[0m 0.8111  \u001b[0m | \u001b[0m 1.471   \u001b[0m |\n",
      "| \u001b[0m 57      \u001b[0m | \u001b[0m-0.6515  \u001b[0m | \u001b[0m 0.5     \u001b[0m | \u001b[0m 1.0     \u001b[0m | \u001b[0m 100.0   \u001b[0m | \u001b[0m 1.0     \u001b[0m | \u001b[0m 1.0     \u001b[0m | \u001b[0m 5.503   \u001b[0m | \u001b[0m 0.1     \u001b[0m | \u001b[0m 108.4   \u001b[0m | \u001b[0m 60.0    \u001b[0m | \u001b[0m 1.0     \u001b[0m | \u001b[0m 1.0     \u001b[0m | \u001b[0m 0.1     \u001b[0m |\n",
      "| \u001b[0m 58      \u001b[0m | \u001b[0m-2.989   \u001b[0m | \u001b[0m 0.8783  \u001b[0m | \u001b[0m 0.01315 \u001b[0m | \u001b[0m 95.34   \u001b[0m | \u001b[0m 54.45   \u001b[0m | \u001b[0m 26.17   \u001b[0m | \u001b[0m 0.9803  \u001b[0m | \u001b[0m 0.01613 \u001b[0m | \u001b[0m 67.76   \u001b[0m | \u001b[0m 21.15   \u001b[0m | \u001b[0m 0.3329  \u001b[0m | \u001b[0m 0.1583  \u001b[0m | \u001b[0m 1.181   \u001b[0m |\n",
      "| \u001b[0m 59      \u001b[0m | \u001b[0m-0.8066  \u001b[0m | \u001b[0m 0.7465  \u001b[0m | \u001b[0m 0.2412  \u001b[0m | \u001b[0m 87.09   \u001b[0m | \u001b[0m 25.56   \u001b[0m | \u001b[0m 32.63   \u001b[0m | \u001b[0m 10.45   \u001b[0m | \u001b[0m 0.09193 \u001b[0m | \u001b[0m 38.24   \u001b[0m | \u001b[0m 9.184   \u001b[0m | \u001b[0m 0.2669  \u001b[0m | \u001b[0m 0.2861  \u001b[0m | \u001b[0m 0.8376  \u001b[0m |\n",
      "| \u001b[0m 60      \u001b[0m | \u001b[0m-1.455   \u001b[0m | \u001b[0m 0.5     \u001b[0m | \u001b[0m 1.0     \u001b[0m | \u001b[0m 16.14   \u001b[0m | \u001b[0m 56.23   \u001b[0m | \u001b[0m 50.0    \u001b[0m | \u001b[0m 30.0    \u001b[0m | \u001b[0m 0.001   \u001b[0m | \u001b[0m 98.66   \u001b[0m | \u001b[0m 28.5    \u001b[0m | \u001b[0m 1.0     \u001b[0m | \u001b[0m 1.0     \u001b[0m | \u001b[0m 2.0     \u001b[0m |\n",
      "| \u001b[0m 61      \u001b[0m | \u001b[0m-0.3422  \u001b[0m | \u001b[0m 0.5796  \u001b[0m | \u001b[0m 0.8653  \u001b[0m | \u001b[0m 49.8    \u001b[0m | \u001b[0m 51.01   \u001b[0m | \u001b[0m 37.09   \u001b[0m | \u001b[0m 12.74   \u001b[0m | \u001b[0m 0.04384 \u001b[0m | \u001b[0m 139.8   \u001b[0m | \u001b[0m 37.57   \u001b[0m | \u001b[0m 0.8328  \u001b[0m | \u001b[0m 0.8977  \u001b[0m | \u001b[0m 0.1106  \u001b[0m |\n",
      "| \u001b[0m 62      \u001b[0m | \u001b[0m-1.032   \u001b[0m | \u001b[0m 0.6602  \u001b[0m | \u001b[0m 0.0597  \u001b[0m | \u001b[0m 22.55   \u001b[0m | \u001b[0m 50.86   \u001b[0m | \u001b[0m 7.509   \u001b[0m | \u001b[0m 14.48   \u001b[0m | \u001b[0m 0.03301 \u001b[0m | \u001b[0m 108.2   \u001b[0m | \u001b[0m 15.7    \u001b[0m | \u001b[0m 0.3227  \u001b[0m | \u001b[0m 0.2155  \u001b[0m | \u001b[0m 1.924   \u001b[0m |\n",
      "| \u001b[0m 63      \u001b[0m | \u001b[0m-0.9966  \u001b[0m | \u001b[0m 0.7131  \u001b[0m | \u001b[0m 0.9109  \u001b[0m | \u001b[0m 26.19   \u001b[0m | \u001b[0m 2.244   \u001b[0m | \u001b[0m 19.68   \u001b[0m | \u001b[0m 8.514   \u001b[0m | \u001b[0m 0.03674 \u001b[0m | \u001b[0m 171.6   \u001b[0m | \u001b[0m 5.907   \u001b[0m | \u001b[0m 0.1435  \u001b[0m | \u001b[0m 0.527   \u001b[0m | \u001b[0m 1.597   \u001b[0m |\n",
      "| \u001b[0m 64      \u001b[0m | \u001b[0m-1.169   \u001b[0m | \u001b[0m 0.5     \u001b[0m | \u001b[0m 1.0     \u001b[0m | \u001b[0m 68.8    \u001b[0m | \u001b[0m 60.0    \u001b[0m | \u001b[0m 50.0    \u001b[0m | \u001b[0m 0.0001  \u001b[0m | \u001b[0m 0.1     \u001b[0m | \u001b[0m 153.2   \u001b[0m | \u001b[0m 12.58   \u001b[0m | \u001b[0m 1.0     \u001b[0m | \u001b[0m 1.0     \u001b[0m | \u001b[0m 0.1     \u001b[0m |\n",
      "| \u001b[0m 65      \u001b[0m | \u001b[0m-0.7845  \u001b[0m | \u001b[0m 0.8155  \u001b[0m | \u001b[0m 0.3256  \u001b[0m | \u001b[0m 75.79   \u001b[0m | \u001b[0m 3.615   \u001b[0m | \u001b[0m 11.98   \u001b[0m | \u001b[0m 26.37   \u001b[0m | \u001b[0m 0.04041 \u001b[0m | \u001b[0m 132.2   \u001b[0m | \u001b[0m 36.83   \u001b[0m | \u001b[0m 0.2928  \u001b[0m | \u001b[0m 0.3424  \u001b[0m | \u001b[0m 0.3438  \u001b[0m |\n",
      "| \u001b[0m 66      \u001b[0m | \u001b[0m-4.854   \u001b[0m | \u001b[0m 0.5     \u001b[0m | \u001b[0m 0.001   \u001b[0m | \u001b[0m 55.28   \u001b[0m | \u001b[0m 36.48   \u001b[0m | \u001b[0m 50.0    \u001b[0m | \u001b[0m 0.0001  \u001b[0m | \u001b[0m 0.1     \u001b[0m | \u001b[0m 200.0   \u001b[0m | \u001b[0m 60.0    \u001b[0m | \u001b[0m 1.0     \u001b[0m | \u001b[0m 1.0     \u001b[0m | \u001b[0m 2.0     \u001b[0m |\n",
      "| \u001b[0m 67      \u001b[0m | \u001b[0m-5.126   \u001b[0m | \u001b[0m 0.5     \u001b[0m | \u001b[0m 0.001   \u001b[0m | \u001b[0m 40.52   \u001b[0m | \u001b[0m 28.22   \u001b[0m | \u001b[0m 42.42   \u001b[0m | \u001b[0m 30.0    \u001b[0m | \u001b[0m 0.001   \u001b[0m | \u001b[0m 52.17   \u001b[0m | \u001b[0m 46.4    \u001b[0m | \u001b[0m 1.0     \u001b[0m | \u001b[0m 1.0     \u001b[0m | \u001b[0m 2.0     \u001b[0m |\n",
      "| \u001b[0m 68      \u001b[0m | \u001b[0m-0.2695  \u001b[0m | \u001b[0m 0.7132  \u001b[0m | \u001b[0m 0.8688  \u001b[0m | \u001b[0m 49.87   \u001b[0m | \u001b[0m 40.41   \u001b[0m | \u001b[0m 41.2    \u001b[0m | \u001b[0m 13.35   \u001b[0m | \u001b[0m 0.03753 \u001b[0m | \u001b[0m 134.5   \u001b[0m | \u001b[0m 23.94   \u001b[0m | \u001b[0m 0.7905  \u001b[0m | \u001b[0m 0.6344  \u001b[0m | \u001b[0m 0.6861  \u001b[0m |\n",
      "| \u001b[0m 69      \u001b[0m | \u001b[0m-1.224   \u001b[0m | \u001b[0m 1.0     \u001b[0m | \u001b[0m 0.6347  \u001b[0m | \u001b[0m 21.62   \u001b[0m | \u001b[0m 3.64    \u001b[0m | \u001b[0m 4.585   \u001b[0m | \u001b[0m 28.32   \u001b[0m | \u001b[0m 0.01094 \u001b[0m | \u001b[0m 69.43   \u001b[0m | \u001b[0m 55.75   \u001b[0m | \u001b[0m 0.3206  \u001b[0m | \u001b[0m 0.9621  \u001b[0m | \u001b[0m 0.3544  \u001b[0m |\n",
      "| \u001b[0m 70      \u001b[0m | \u001b[0m-0.5414  \u001b[0m | \u001b[0m 0.6679  \u001b[0m | \u001b[0m 0.4408  \u001b[0m | \u001b[0m 93.12   \u001b[0m | \u001b[0m 17.19   \u001b[0m | \u001b[0m 44.53   \u001b[0m | \u001b[0m 24.45   \u001b[0m | \u001b[0m 0.07438 \u001b[0m | \u001b[0m 113.0   \u001b[0m | \u001b[0m 39.12   \u001b[0m | \u001b[0m 0.5687  \u001b[0m | \u001b[0m 0.2321  \u001b[0m | \u001b[0m 0.5926  \u001b[0m |\n",
      "| \u001b[0m 71      \u001b[0m | \u001b[0m-0.9297  \u001b[0m | \u001b[0m 0.7397  \u001b[0m | \u001b[0m 0.8926  \u001b[0m | \u001b[0m 52.42   \u001b[0m | \u001b[0m 42.08   \u001b[0m | \u001b[0m 41.5    \u001b[0m | \u001b[0m 10.37   \u001b[0m | \u001b[0m 0.03058 \u001b[0m | \u001b[0m 154.1   \u001b[0m | \u001b[0m 30.46   \u001b[0m | \u001b[0m 0.899   \u001b[0m | \u001b[0m 1.0     \u001b[0m | \u001b[0m 0.7526  \u001b[0m |\n",
      "| \u001b[0m 72      \u001b[0m | \u001b[0m-0.3797  \u001b[0m | \u001b[0m 0.7163  \u001b[0m | \u001b[0m 0.662   \u001b[0m | \u001b[0m 63.06   \u001b[0m | \u001b[0m 33.65   \u001b[0m | \u001b[0m 47.67   \u001b[0m | \u001b[0m 18.67   \u001b[0m | \u001b[0m 0.04895 \u001b[0m | \u001b[0m 124.1   \u001b[0m | \u001b[0m 22.1    \u001b[0m | \u001b[0m 0.6178  \u001b[0m | \u001b[0m 0.351   \u001b[0m | \u001b[0m 0.6172  \u001b[0m |\n",
      "| \u001b[0m 73      \u001b[0m | \u001b[0m-0.569   \u001b[0m | \u001b[0m 0.6174  \u001b[0m | \u001b[0m 1.0     \u001b[0m | \u001b[0m 50.46   \u001b[0m | \u001b[0m 35.07   \u001b[0m | \u001b[0m 40.99   \u001b[0m | \u001b[0m 29.4    \u001b[0m | \u001b[0m 0.001   \u001b[0m | \u001b[0m 131.3   \u001b[0m | \u001b[0m 12.89   \u001b[0m | \u001b[0m 1.0     \u001b[0m | \u001b[0m 0.01    \u001b[0m | \u001b[0m 0.8123  \u001b[0m |\n",
      "| \u001b[0m 74      \u001b[0m | \u001b[0m-1.057   \u001b[0m | \u001b[0m 0.5229  \u001b[0m | \u001b[0m 1.0     \u001b[0m | \u001b[0m 43.58   \u001b[0m | \u001b[0m 25.96   \u001b[0m | \u001b[0m 47.68   \u001b[0m | \u001b[0m 15.71   \u001b[0m | \u001b[0m 0.001   \u001b[0m | \u001b[0m 123.7   \u001b[0m | \u001b[0m 28.41   \u001b[0m | \u001b[0m 1.0     \u001b[0m | \u001b[0m 0.01    \u001b[0m | \u001b[0m 0.1     \u001b[0m |\n",
      "| \u001b[0m 75      \u001b[0m | \u001b[0m-1.197   \u001b[0m | \u001b[0m 0.5     \u001b[0m | \u001b[0m 0.3036  \u001b[0m | \u001b[0m 58.37   \u001b[0m | \u001b[0m 52.4    \u001b[0m | \u001b[0m 50.0    \u001b[0m | \u001b[0m 24.25   \u001b[0m | \u001b[0m 0.09402 \u001b[0m | \u001b[0m 134.0   \u001b[0m | \u001b[0m 27.0    \u001b[0m | \u001b[0m 0.2669  \u001b[0m | \u001b[0m 0.9806  \u001b[0m | \u001b[0m 0.1     \u001b[0m |\n",
      "| \u001b[0m 76      \u001b[0m | \u001b[0m-1.356   \u001b[0m | \u001b[0m 1.0     \u001b[0m | \u001b[0m 1.0     \u001b[0m | \u001b[0m 62.18   \u001b[0m | \u001b[0m 32.47   \u001b[0m | \u001b[0m 28.82   \u001b[0m | \u001b[0m 13.3    \u001b[0m | \u001b[0m 0.001   \u001b[0m | \u001b[0m 131.7   \u001b[0m | \u001b[0m 16.13   \u001b[0m | \u001b[0m 1.0     \u001b[0m | \u001b[0m 0.4749  \u001b[0m | \u001b[0m 1.537   \u001b[0m |\n",
      "| \u001b[0m 77      \u001b[0m | \u001b[0m-0.2422  \u001b[0m | \u001b[0m 0.6146  \u001b[0m | \u001b[0m 0.8385  \u001b[0m | \u001b[0m 83.85   \u001b[0m | \u001b[0m 26.3    \u001b[0m | \u001b[0m 50.0    \u001b[0m | \u001b[0m 29.68   \u001b[0m | \u001b[0m 0.05274 \u001b[0m | \u001b[0m 124.9   \u001b[0m | \u001b[0m 27.62   \u001b[0m | \u001b[0m 0.7563  \u001b[0m | \u001b[0m 0.01    \u001b[0m | \u001b[0m 0.8409  \u001b[0m |\n",
      "| \u001b[0m 78      \u001b[0m | \u001b[0m-5.012   \u001b[0m | \u001b[0m 0.5     \u001b[0m | \u001b[0m 0.001   \u001b[0m | \u001b[0m 78.58   \u001b[0m | \u001b[0m 23.03   \u001b[0m | \u001b[0m 50.0    \u001b[0m | \u001b[0m 20.98   \u001b[0m | \u001b[0m 0.1     \u001b[0m | \u001b[0m 109.8   \u001b[0m | \u001b[0m 18.4    \u001b[0m | \u001b[0m 0.01    \u001b[0m | \u001b[0m 0.01    \u001b[0m | \u001b[0m 0.1     \u001b[0m |\n",
      "| \u001b[0m 79      \u001b[0m | \u001b[0m-0.5948  \u001b[0m | \u001b[0m 0.719   \u001b[0m | \u001b[0m 0.8458  \u001b[0m | \u001b[0m 54.95   \u001b[0m | \u001b[0m 34.41   \u001b[0m | \u001b[0m 46.08   \u001b[0m | \u001b[0m 20.66   \u001b[0m | \u001b[0m 0.0238  \u001b[0m | \u001b[0m 133.4   \u001b[0m | \u001b[0m 22.62   \u001b[0m | \u001b[0m 0.854   \u001b[0m | \u001b[0m 0.2588  \u001b[0m | \u001b[0m 0.7644  \u001b[0m |\n",
      "| \u001b[0m 80      \u001b[0m | \u001b[0m-0.2893  \u001b[0m | \u001b[0m 0.624   \u001b[0m | \u001b[0m 0.9312  \u001b[0m | \u001b[0m 49.39   \u001b[0m | \u001b[0m 39.54   \u001b[0m | \u001b[0m 40.31   \u001b[0m | \u001b[0m 17.86   \u001b[0m | \u001b[0m 0.008816\u001b[0m | \u001b[0m 138.1   \u001b[0m | \u001b[0m 35.02   \u001b[0m | \u001b[0m 1.0     \u001b[0m | \u001b[0m 0.4061  \u001b[0m | \u001b[0m 0.1446  \u001b[0m |\n",
      "| \u001b[0m 81      \u001b[0m | \u001b[0m-0.3172  \u001b[0m | \u001b[0m 0.7015  \u001b[0m | \u001b[0m 0.6724  \u001b[0m | \u001b[0m 92.32   \u001b[0m | \u001b[0m 27.1    \u001b[0m | \u001b[0m 49.28   \u001b[0m | \u001b[0m 25.74   \u001b[0m | \u001b[0m 0.06678 \u001b[0m | \u001b[0m 124.4   \u001b[0m | \u001b[0m 37.41   \u001b[0m | \u001b[0m 0.6439  \u001b[0m | \u001b[0m 0.1898  \u001b[0m | \u001b[0m 0.7413  \u001b[0m |\n",
      "| \u001b[0m 82      \u001b[0m | \u001b[0m-1.148   \u001b[0m | \u001b[0m 0.7733  \u001b[0m | \u001b[0m 1.0     \u001b[0m | \u001b[0m 79.16   \u001b[0m | \u001b[0m 34.3    \u001b[0m | \u001b[0m 48.51   \u001b[0m | \u001b[0m 27.7    \u001b[0m | \u001b[0m 0.02059 \u001b[0m | \u001b[0m 129.8   \u001b[0m | \u001b[0m 35.24   \u001b[0m | \u001b[0m 1.0     \u001b[0m | \u001b[0m 0.2923  \u001b[0m | \u001b[0m 1.055   \u001b[0m |\n",
      "| \u001b[0m 83      \u001b[0m | \u001b[0m-0.4304  \u001b[0m | \u001b[0m 0.577   \u001b[0m | \u001b[0m 1.0     \u001b[0m | \u001b[0m 92.04   \u001b[0m | \u001b[0m 16.86   \u001b[0m | \u001b[0m 49.42   \u001b[0m | \u001b[0m 30.0    \u001b[0m | \u001b[0m 0.01598 \u001b[0m | \u001b[0m 129.7   \u001b[0m | \u001b[0m 30.95   \u001b[0m | \u001b[0m 1.0     \u001b[0m | \u001b[0m 0.01    \u001b[0m | \u001b[0m 1.602   \u001b[0m |\n",
      "| \u001b[0m 84      \u001b[0m | \u001b[0m-5.004   \u001b[0m | \u001b[0m 0.6725  \u001b[0m | \u001b[0m 0.001   \u001b[0m | \u001b[0m 100.0   \u001b[0m | \u001b[0m 27.88   \u001b[0m | \u001b[0m 50.0    \u001b[0m | \u001b[0m 15.75   \u001b[0m | \u001b[0m 0.1     \u001b[0m | \u001b[0m 116.1   \u001b[0m | \u001b[0m 42.09   \u001b[0m | \u001b[0m 0.01    \u001b[0m | \u001b[0m 0.3806  \u001b[0m | \u001b[0m 0.2105  \u001b[0m |\n",
      "| \u001b[0m 85      \u001b[0m | \u001b[0m-0.3829  \u001b[0m | \u001b[0m 0.6559  \u001b[0m | \u001b[0m 0.8496  \u001b[0m | \u001b[0m 50.92   \u001b[0m | \u001b[0m 45.39   \u001b[0m | \u001b[0m 40.09   \u001b[0m | \u001b[0m 13.56   \u001b[0m | \u001b[0m 0.04162 \u001b[0m | \u001b[0m 138.5   \u001b[0m | \u001b[0m 30.4    \u001b[0m | \u001b[0m 0.8082  \u001b[0m | \u001b[0m 0.7696  \u001b[0m | \u001b[0m 0.4835  \u001b[0m |\n",
      "| \u001b[0m 86      \u001b[0m | \u001b[0m-0.2976  \u001b[0m | \u001b[0m 0.6774  \u001b[0m | \u001b[0m 0.8166  \u001b[0m | \u001b[0m 88.19   \u001b[0m | \u001b[0m 21.65   \u001b[0m | \u001b[0m 47.05   \u001b[0m | \u001b[0m 29.71   \u001b[0m | \u001b[0m 0.06161 \u001b[0m | \u001b[0m 122.1   \u001b[0m | \u001b[0m 34.22   \u001b[0m | \u001b[0m 0.8289  \u001b[0m | \u001b[0m 0.07452 \u001b[0m | \u001b[0m 0.8081  \u001b[0m |\n",
      "| \u001b[0m 87      \u001b[0m | \u001b[0m-0.3611  \u001b[0m | \u001b[0m 0.5273  \u001b[0m | \u001b[0m 0.7121  \u001b[0m | \u001b[0m 90.52   \u001b[0m | \u001b[0m 25.84   \u001b[0m | \u001b[0m 41.32   \u001b[0m | \u001b[0m 29.53   \u001b[0m | \u001b[0m 0.03745 \u001b[0m | \u001b[0m 121.7   \u001b[0m | \u001b[0m 26.51   \u001b[0m | \u001b[0m 0.6984  \u001b[0m | \u001b[0m 0.06116 \u001b[0m | \u001b[0m 1.996   \u001b[0m |\n",
      "| \u001b[0m 88      \u001b[0m | \u001b[0m-0.3364  \u001b[0m | \u001b[0m 0.6559  \u001b[0m | \u001b[0m 0.8029  \u001b[0m | \u001b[0m 89.16   \u001b[0m | \u001b[0m 32.1    \u001b[0m | \u001b[0m 47.95   \u001b[0m | \u001b[0m 28.53   \u001b[0m | \u001b[0m 0.06826 \u001b[0m | \u001b[0m 118.3   \u001b[0m | \u001b[0m 31.89   \u001b[0m | \u001b[0m 0.7451  \u001b[0m | \u001b[0m 0.2195  \u001b[0m | \u001b[0m 0.7276  \u001b[0m |\n",
      "| \u001b[0m 89      \u001b[0m | \u001b[0m-1.465   \u001b[0m | \u001b[0m 0.6368  \u001b[0m | \u001b[0m 0.8797  \u001b[0m | \u001b[0m 46.61   \u001b[0m | \u001b[0m 38.78   \u001b[0m | \u001b[0m 40.74   \u001b[0m | \u001b[0m 21.93   \u001b[0m | \u001b[0m 0.009269\u001b[0m | \u001b[0m 141.0   \u001b[0m | \u001b[0m 25.21   \u001b[0m | \u001b[0m 0.9567  \u001b[0m | \u001b[0m 0.414   \u001b[0m | \u001b[0m 0.6154  \u001b[0m |\n",
      "| \u001b[0m 90      \u001b[0m | \u001b[0m-0.3435  \u001b[0m | \u001b[0m 0.7166  \u001b[0m | \u001b[0m 0.5461  \u001b[0m | \u001b[0m 94.31   \u001b[0m | \u001b[0m 16.75   \u001b[0m | \u001b[0m 41.45   \u001b[0m | \u001b[0m 27.41   \u001b[0m | \u001b[0m 0.07001 \u001b[0m | \u001b[0m 126.2   \u001b[0m | \u001b[0m 37.7    \u001b[0m | \u001b[0m 0.6672  \u001b[0m | \u001b[0m 0.03995 \u001b[0m | \u001b[0m 1.572   \u001b[0m |\n",
      "| \u001b[0m 91      \u001b[0m | \u001b[0m-0.6331  \u001b[0m | \u001b[0m 0.7054  \u001b[0m | \u001b[0m 0.7825  \u001b[0m | \u001b[0m 55.88   \u001b[0m | \u001b[0m 37.88   \u001b[0m | \u001b[0m 44.05   \u001b[0m | \u001b[0m 12.7    \u001b[0m | \u001b[0m 0.03748 \u001b[0m | \u001b[0m 131.8   \u001b[0m | \u001b[0m 32.14   \u001b[0m | \u001b[0m 0.7652  \u001b[0m | \u001b[0m 0.5326  \u001b[0m | \u001b[0m 0.2761  \u001b[0m |\n",
      "| \u001b[0m 92      \u001b[0m | \u001b[0m-0.3503  \u001b[0m | \u001b[0m 1.0     \u001b[0m | \u001b[0m 1.0     \u001b[0m | \u001b[0m 92.97   \u001b[0m | \u001b[0m 28.54   \u001b[0m | \u001b[0m 47.67   \u001b[0m | \u001b[0m 30.0    \u001b[0m | \u001b[0m 0.1     \u001b[0m | \u001b[0m 129.3   \u001b[0m | \u001b[0m 29.53   \u001b[0m | \u001b[0m 1.0     \u001b[0m | \u001b[0m 1.0     \u001b[0m | \u001b[0m 0.1     \u001b[0m |\n",
      "| \u001b[95m 93      \u001b[0m | \u001b[95m-0.1926  \u001b[0m | \u001b[95m 0.7376  \u001b[0m | \u001b[95m 0.8191  \u001b[0m | \u001b[95m 52.95   \u001b[0m | \u001b[95m 38.71   \u001b[0m | \u001b[95m 44.3    \u001b[0m | \u001b[95m 13.51   \u001b[0m | \u001b[95m 0.0565  \u001b[0m | \u001b[95m 124.5   \u001b[0m | \u001b[95m 16.54   \u001b[0m | \u001b[95m 0.6099  \u001b[0m | \u001b[95m 0.5272  \u001b[0m | \u001b[95m 0.8457  \u001b[0m |\n",
      "| \u001b[0m 94      \u001b[0m | \u001b[0m-0.2372  \u001b[0m | \u001b[0m 0.6836  \u001b[0m | \u001b[0m 0.5527  \u001b[0m | \u001b[0m 54.41   \u001b[0m | \u001b[0m 38.45   \u001b[0m | \u001b[0m 48.25   \u001b[0m | \u001b[0m 15.24   \u001b[0m | \u001b[0m 0.09106 \u001b[0m | \u001b[0m 131.5   \u001b[0m | \u001b[0m 27.78   \u001b[0m | \u001b[0m 0.9253  \u001b[0m | \u001b[0m 0.7613  \u001b[0m | \u001b[0m 1.443   \u001b[0m |\n",
      "| \u001b[0m 95      \u001b[0m | \u001b[0m-1.438   \u001b[0m | \u001b[0m 0.8849  \u001b[0m | \u001b[0m 0.03031 \u001b[0m | \u001b[0m 54.35   \u001b[0m | \u001b[0m 37.88   \u001b[0m | \u001b[0m 49.85   \u001b[0m | \u001b[0m 6.762   \u001b[0m | \u001b[0m 0.1     \u001b[0m | \u001b[0m 132.2   \u001b[0m | \u001b[0m 18.49   \u001b[0m | \u001b[0m 1.0     \u001b[0m | \u001b[0m 1.0     \u001b[0m | \u001b[0m 2.0     \u001b[0m |\n",
      "| \u001b[0m 96      \u001b[0m | \u001b[0m-0.6838  \u001b[0m | \u001b[0m 0.5586  \u001b[0m | \u001b[0m 1.0     \u001b[0m | \u001b[0m 51.46   \u001b[0m | \u001b[0m 41.88   \u001b[0m | \u001b[0m 41.7    \u001b[0m | \u001b[0m 19.01   \u001b[0m | \u001b[0m 0.1     \u001b[0m | \u001b[0m 123.4   \u001b[0m | \u001b[0m 25.38   \u001b[0m | \u001b[0m 1.0     \u001b[0m | \u001b[0m 0.8321  \u001b[0m | \u001b[0m 2.0     \u001b[0m |\n",
      "| \u001b[0m 97      \u001b[0m | \u001b[0m-0.2049  \u001b[0m | \u001b[0m 0.6413  \u001b[0m | \u001b[0m 0.7772  \u001b[0m | \u001b[0m 49.26   \u001b[0m | \u001b[0m 43.22   \u001b[0m | \u001b[0m 50.0    \u001b[0m | \u001b[0m 15.19   \u001b[0m | \u001b[0m 0.1     \u001b[0m | \u001b[0m 139.7   \u001b[0m | \u001b[0m 39.32   \u001b[0m | \u001b[0m 1.0     \u001b[0m | \u001b[0m 1.0     \u001b[0m | \u001b[0m 2.0     \u001b[0m |\n",
      "| \u001b[0m 98      \u001b[0m | \u001b[0m-0.3454  \u001b[0m | \u001b[0m 1.0     \u001b[0m | \u001b[0m 1.0     \u001b[0m | \u001b[0m 51.96   \u001b[0m | \u001b[0m 35.1    \u001b[0m | \u001b[0m 44.91   \u001b[0m | \u001b[0m 21.29   \u001b[0m | \u001b[0m 0.001   \u001b[0m | \u001b[0m 119.8   \u001b[0m | \u001b[0m 9.777   \u001b[0m | \u001b[0m 0.01    \u001b[0m | \u001b[0m 0.01    \u001b[0m | \u001b[0m 0.1     \u001b[0m |\n",
      "| \u001b[0m 99      \u001b[0m | \u001b[0m-0.4214  \u001b[0m | \u001b[0m 0.7671  \u001b[0m | \u001b[0m 0.5264  \u001b[0m | \u001b[0m 47.99   \u001b[0m | \u001b[0m 41.06   \u001b[0m | \u001b[0m 46.17   \u001b[0m | \u001b[0m 16.12   \u001b[0m | \u001b[0m 0.04103 \u001b[0m | \u001b[0m 132.9   \u001b[0m | \u001b[0m 22.33   \u001b[0m | \u001b[0m 0.9343  \u001b[0m | \u001b[0m 0.9774  \u001b[0m | \u001b[0m 1.168   \u001b[0m |\n",
      "| \u001b[0m 100     \u001b[0m | \u001b[0m-3.839   \u001b[0m | \u001b[0m 0.5075  \u001b[0m | \u001b[0m 0.005672\u001b[0m | \u001b[0m 55.59   \u001b[0m | \u001b[0m 41.19   \u001b[0m | \u001b[0m 43.4    \u001b[0m | \u001b[0m 20.35   \u001b[0m | \u001b[0m 0.001   \u001b[0m | \u001b[0m 144.8   \u001b[0m | \u001b[0m 44.22   \u001b[0m | \u001b[0m 1.0     \u001b[0m | \u001b[0m 0.01    \u001b[0m | \u001b[0m 0.1     \u001b[0m |\n",
      "=========================================================================================================================================================================\n"
     ]
    }
   ],
   "source": [
    "import os\n",
    "import time\n",
    "from bayes_opt import BayesianOptimization\n",
    "from sklearn.model_selection import train_test_split\n",
    "from sklearn.metrics import mean_squared_error\n",
    "from lightgbm import LGBMRegressor\n",
    "import numpy as np\n",
    "from sklearn.metrics import explained_variance_score\n",
    "import matplotlib.pyplot as plt\n",
    "import datetime\n",
    "import pandas as pd\n",
    "\n",
    "#t = time.localtime()\n",
    "model_name = 'Invar_BO_GBDT'\n",
    "file_name = '{}.xlsx'.format(model_name)\n",
    "data = pd.read_excel('Data_base_Invar.xlsx')\n",
    "x_all, y_all, train_features, test_features, train_labels, test_labels = normalizing_data(data,seed=42)\n",
    "train_features, test_features = train_features.cpu().data.numpy(),test_features.cpu().data.numpy()\n",
    "train_labels, test_labels = train_labels.cpu().data.numpy(), test_labels.cpu().data.numpy()\n",
    "train_labels, test_labels = train_labels.reshape(-1), test_labels.reshape(-1) \n",
    "def train_model(num_leaves,\n",
    "                min_child_samples,\n",
    "            learning_rate,\n",
    "            n_estimators, \n",
    "            max_bin,\n",
    "            colsample_bytree, \n",
    "            subsample, \n",
    "            max_depth, \n",
    "            reg_alpha,\n",
    "            reg_lambda,\n",
    "            min_split_gain,\n",
    "            min_child_weight\n",
    "            ):\n",
    "    params = {\n",
    "        \"num_leaves\": int(round(num_leaves)),\n",
    "        'min_child_samples':int(round(min_child_samples)),\n",
    "        'learning_rate': learning_rate,\n",
    "        'n_estimators': int(round(n_estimators)),\n",
    "        'max_bin': int(round(max_bin)),\n",
    "        'colsample_bytree': max(min(colsample_bytree, 1), 0),\n",
    "        'subsample': max(min(subsample, 1), 0),\n",
    "        'max_depth': int(round(max_depth)),\n",
    "        'reg_alpha':  max(reg_alpha, 0),\n",
    "        'reg_lambda': max(reg_lambda, 0),\n",
    "        'min_split_gain': min_split_gain,\n",
    "        'min_child_weight': min_child_weight,\n",
    "        'verbose': -1\n",
    "                  } #the parameters you want to optimize\n",
    "    model = LGBMRegressor(metric='mape',**params)\n",
    "    model.fit(train_features, train_labels)\n",
    "    y_pred = model.predict(test_features)\n",
    "    error = -np.mean(np.abs((test_labels - y_pred) / test_labels))       # print(error)     \n",
    "    return error\n",
    "bounds = {'num_leaves': (5, 60),#50\n",
    "          'min_child_samples':(1, 50),\n",
    "          'learning_rate': (0.001, 1),\n",
    "          'n_estimators': (5, 200),#100\n",
    "            'max_bin': (5, 100),#10\n",
    "          'colsample_bytree': (0.5, 1),\n",
    "          'subsample': (0.1, 2),\n",
    "          'max_depth': (1, 60),#10\n",
    "          'reg_alpha': (0.01, 1), #5\n",
    "          'reg_lambda': (0.01, 1),#5\n",
    "          'min_split_gain': (0.001, 0.1),\n",
    "          'min_child_weight': (0.0001, 30)}\n",
    "optimizer = BayesianOptimization(\n",
    "    f=train_model,\n",
    "    pbounds=bounds,\n",
    "    random_state=1,\n",
    ")\n",
    "optimizer.maximize(init_points = 50, n_iter=50) #here you set how many iterations you want.\n",
    "table = pd.DataFrame(columns=['target', 'colsample_bytree', 'learning_rate', 'max_bin',\n",
    "                      'max_depth','min_child_samples','min_child_weight','min_split_gain',\n",
    "                      'n_estimators','num_leaves','reg_alpha','reg_lambda','subsample'])\n",
    "for res in optimizer.res:\n",
    "    table=table.append(pd.DataFrame({'target':[res['target']],'colsample_bytree':[res['params']['colsample_bytree']],\n",
    "                                     'colsample_bytree':[res['params']['colsample_bytree']],\n",
    "                                     'learning_rate':[res['params']['learning_rate']],\n",
    "                                     'max_bin':[res['params']['max_bin']],\n",
    "                                     'max_depth':[res['params']['max_depth']],\n",
    "                                     'min_child_samples':[res['params']['min_child_samples']],\n",
    "                                     'min_child_weight':[res['params']['min_child_weight']],\n",
    "                                     'min_split_gain':[res['params']['min_split_gain']],\n",
    "                                     'n_estimators':[res['params']['n_estimators']],\n",
    "                                     'num_leaves':[res['params']['num_leaves']],\n",
    "                                     'reg_alpha':[res['params']['reg_alpha']],\n",
    "                                     'reg_lambda':[res['params']['reg_lambda']],\n",
    "                                     'subsample':[res['params']['subsample']]}),\n",
    "                                     ignore_index=True)\n",
    "table=table.sort_values(by = ['target'],ascending=False)#sort the list start from the best results\n",
    "table.to_excel(file_name)#save the results to the table\n",
    "#endtime = datetime.datetime.now()\n",
    "#print ('running time {}'.format(endtime - starttime))"
   ]
  },
  {
   "cell_type": "markdown",
   "metadata": {
    "id": "8LpcAT8rbVJG"
   },
   "source": [
    "# **Assess the performance/accuracy of NN**"
   ]
  },
  {
   "cell_type": "code",
   "execution_count": 30,
   "metadata": {
    "colab": {
     "base_uri": "https://localhost:8080/",
     "height": 1000
    },
    "executionInfo": {
     "elapsed": 256787,
     "status": "ok",
     "timestamp": 1652259342531,
     "user": {
      "displayName": "ziyuan rao",
      "userId": "11142835866797234336"
     },
     "user_tz": -120
    },
    "id": "iQR5r8CgbjLs",
    "outputId": "b6ae1126-5f65-4dec-ad5f-4920c774e25e"
   },
   "outputs": [
    {
     "name": "stdout",
     "output_type": "stream",
     "text": [
      "\n",
      "=== train begin ===\n",
      "Net(\n",
      "  (hidden1): Linear(in_features=20, out_features=218, bias=True)\n",
      "  (hiddens): ModuleList(\n",
      "    (0): Linear(in_features=218, out_features=218, bias=True)\n",
      "    (1): Linear(in_features=218, out_features=218, bias=True)\n",
      "    (2): Linear(in_features=218, out_features=218, bias=True)\n",
      "    (3): Linear(in_features=218, out_features=218, bias=True)\n",
      "    (4): Linear(in_features=218, out_features=218, bias=True)\n",
      "    (5): Linear(in_features=218, out_features=218, bias=True)\n",
      "  )\n",
      "  (predict): Linear(in_features=218, out_features=1, bias=True)\n",
      ")\n",
      "epoch 0: train loss 1.043636, test loss 1.387072\n",
      "epoch 100: train loss 0.183117, test loss 0.215111\n",
      "epoch 200: train loss 0.112955, test loss 0.178827\n",
      "epoch 300: train loss 0.114419, test loss 0.187405\n",
      "epoch 400: train loss 0.271353, test loss 0.365154\n",
      "epoch 500: train loss 0.213110, test loss 0.266117\n",
      "epoch 600: train loss 0.092568, test loss 0.181128\n",
      "epoch 700: train loss 0.123951, test loss 0.194383\n",
      "epoch 800: train loss 0.133908, test loss 0.180454\n",
      "epoch 900: train loss 0.145759, test loss 0.199795\n",
      "epoch 1000: train loss 0.099829, test loss 0.164029\n",
      "epoch 1100: train loss 0.118200, test loss 0.185556\n",
      "epoch 1200: train loss 0.092511, test loss 0.175261\n",
      "epoch 1300: train loss 0.072958, test loss 0.151795\n",
      "epoch 1400: train loss 0.084661, test loss 0.173809\n",
      "epoch 1500: train loss 0.072883, test loss 0.211777\n",
      "epoch 1600: train loss 0.065833, test loss 0.157244\n",
      "epoch 1700: train loss 0.077846, test loss 0.208481\n",
      "epoch 1800: train loss 0.040579, test loss 0.179404\n",
      "epoch 1900: train loss 0.084711, test loss 0.199293\n",
      "epoch 2000: train loss 0.062540, test loss 0.174985\n",
      "epoch 2100: train loss 0.093578, test loss 0.140866\n",
      "epoch 2200: train loss 0.045114, test loss 0.164429\n",
      "epoch 2300: train loss 0.087313, test loss 0.136940\n",
      "epoch 2400: train loss 0.077424, test loss 0.159478\n",
      "epoch 2500: train loss 0.029507, test loss 0.392129\n",
      "epoch 2600: train loss 0.043354, test loss 0.153043\n",
      "epoch 2700: train loss 0.137334, test loss 0.185234\n",
      "epoch 2800: train loss 0.033291, test loss 0.203286\n",
      "epoch 2900: train loss 0.036194, test loss 0.179797\n",
      "plot curves\n"
     ]
    },
    {
     "data": {
      "image/png": "[encoded data removed]",
      "text/plain": [
       "<Figure size 432x288 with 1 Axes>"
      ]
     },
     "metadata": {},
     "output_type": "display_data"
    },
    {
     "data": {
      "image/png": "[encoded data removed]",
      "text/plain": [
       "<Figure size 432x288 with 1 Axes>"
      ]
     },
     "metadata": {},
     "output_type": "display_data"
    }
   ],
   "source": [
    "import seaborn as sns\n",
    "sns.set(color_codes=True)\n",
    "target = pd.read_excel('Invar_BO_NN.xlsx')#get the best BO parameter for NN\n",
    "lr = target.at[1,'lr'] \n",
    "module__n_hidden = target.at[1,'module__n_hidden']\n",
    "module__w = target.at[1,'module__w']\n",
    "batch_size = target.at[1,'batch_size']\n",
    "\n",
    "module__n_hidden = int(module__n_hidden)\n",
    "module__w = int(module__w)\n",
    "batch_size = int(batch_size)\n",
    "\n",
    "#get the data\n",
    "x_all, y_all, train_features, test_features, train_labels, test_labels = normalizing_data(data)\n",
    "train_dataset = Data.TensorDataset(train_features, train_labels)\n",
    "test_dataset = Data.TensorDataset(test_features, test_labels)\n",
    "train_loader = Data.DataLoader(train_dataset, batch_size, shuffle=True)\n",
    "test_loader = Data.DataLoader(test_dataset, batch_size, shuffle=True) \n",
    "\n",
    "#train the NN with the data and paramters\n",
    "\n",
    "print (\"\\n=== train begin ===\")\n",
    "net = Net()\n",
    "print(net)\n",
    "if torch.cuda.is_available():\n",
    "    net = net.cuda()    \n",
    "train_ls, test_ls = [], []\n",
    "loss = MAPELoss() \n",
    "n_epochs = 3000\n",
    "optimizer = optim.Adam(net.parameters(), lr=lr, weight_decay=0.0001)\n",
    "for epoch in range(n_epochs):\n",
    "    for x, y in train_loader:\n",
    "        ls = loss(net(x).view(-1, 1), y.view(-1, 1))\n",
    "        optimizer.zero_grad()\n",
    "        ls.backward()\n",
    "        optimizer.step()\n",
    "    train_ls.append(loss(net(train_features).view(-1, 1), train_labels.view(-1, 1)).item())\n",
    "    test_ls.append(loss(net(test_features).view(-1, 1), test_labels.view(-1, 1)).item())\n",
    "    if epoch % 100 == 0:\n",
    "        print (\"epoch %d: train loss %f, test loss %f\" % (epoch, train_ls[-1], test_ls[-1]))\n",
    "print (\"plot curves\")\n",
    "plotCurve(range(1, n_epochs + 1), train_ls,\"epoch\", \"loss\",range(1, n_epochs + 1), test_ls,[\"train\", \"test\"])\n",
    "plt.title('Loss=%.4f' % test_ls[-1], fontdict={'size': 20, 'color':  'red'})\n",
    "folder_dir = 'Figures'\n",
    "if not os.path.isdir(folder_dir):\n",
    "  os.mkdir(folder_dir)\n",
    "fig_name = 'Figures/NN_trainning history'\n",
    "plt.savefig(fig_name, format='png', dpi=300)            \n",
    "            \n",
    "#plotting experimental results as a change of predicted TEC \n",
    "net.eval()\n",
    "predict=net(x_all)\n",
    "predict=predict.cpu()\n",
    "predict=predict.data.numpy()  \n",
    "plt.figure()\n",
    "sns.regplot(x=predict, y=y_all.cpu().data.numpy(), color='g') \n",
    "plt.xlabel('Predicted TEC')\n",
    "plt.ylabel('Experimental TEC')\n",
    "fig_name_2 = 'Figures/NN_expriements and predict comparasion.png'\n",
    "plt.savefig(fig_name_2, format='png', dpi=300)\n",
    "  \n",
    "#save the models\n",
    "folder_dir = 'Model'\n",
    "if not os.path.isdir(folder_dir):\n",
    "  os.mkdir(folder_dir)\n",
    "net_name = 'Model/Invar_NN.pt'\n",
    "torch.save(net.state_dict(), net_name)"
   ]
  },
  {
   "cell_type": "markdown",
   "metadata": {
    "id": "p3jOTkZHnENe"
   },
   "source": [
    "# **Assess the performance/accuracy of GBDT**"
   ]
  },
  {
   "cell_type": "code",
   "execution_count": 31,
   "metadata": {
    "colab": {
     "base_uri": "https://localhost:8080/",
     "height": 696
    },
    "executionInfo": {
     "elapsed": 4902,
     "status": "ok",
     "timestamp": 1652259589627,
     "user": {
      "displayName": "ziyuan rao",
      "userId": "11142835866797234336"
     },
     "user_tz": -120
    },
    "id": "UBUWr2yJoBu8",
    "outputId": "b731e2af-a689-4206-b35c-02e9e5ed47ee"
   },
   "outputs": [
    {
     "name": "stdout",
     "output_type": "stream",
     "text": [
      "[10]\ttraining's mape: 0.200956\tvalid_0's mape: 0.18411\n",
      "[20]\ttraining's mape: 0.168111\tvalid_0's mape: 0.181665\n",
      "[30]\ttraining's mape: 0.145025\tvalid_0's mape: 0.159067\n",
      "[40]\ttraining's mape: 0.130601\tvalid_0's mape: 0.150776\n",
      "[50]\ttraining's mape: 0.116475\tvalid_0's mape: 0.15441\n",
      "[60]\ttraining's mape: 0.108903\tvalid_0's mape: 0.153502\n",
      "[70]\ttraining's mape: 0.101132\tvalid_0's mape: 0.14731\n",
      "[80]\ttraining's mape: 0.098405\tvalid_0's mape: 0.154463\n",
      "[90]\ttraining's mape: 0.0931256\tvalid_0's mape: 0.153016\n",
      "[100]\ttraining's mape: 0.0862284\tvalid_0's mape: 0.153471\n",
      "[110]\ttraining's mape: 0.0841274\tvalid_0's mape: 0.15458\n",
      "[120]\ttraining's mape: 0.0834368\tvalid_0's mape: 0.156402\n",
      "[130]\ttraining's mape: 0.0834368\tvalid_0's mape: 0.156402\n",
      "[140]\ttraining's mape: 0.0834368\tvalid_0's mape: 0.156402\n"
     ]
    },
    {
     "data": {
      "image/png": "[encoded data removed]",
      "text/plain": [
       "<Figure size 432x288 with 1 Axes>"
      ]
     },
     "metadata": {},
     "output_type": "display_data"
    },
    {
     "data": {
      "image/png": "[encoded data removed]",
      "text/plain": [
       "<Figure size 432x288 with 1 Axes>"
      ]
     },
     "metadata": {},
     "output_type": "display_data"
    }
   ],
   "source": [
    "import lightgbm as lgb\n",
    "#load the parameters of BO\n",
    "target = pd.read_excel('Invar_BO_GBDT.xlsx')\n",
    "colsample_bytree = target.at[1,'colsample_bytree']\n",
    "learning_rate = target.at[1,'learning_rate']\n",
    "max_bin = target.at[1,'max_bin']\n",
    "max_depth = target.at[1,'max_depth']\n",
    "max_bin = target.at[1,'max_bin']\n",
    "min_child_samples = target.at[1,'min_child_samples']\n",
    "min_child_weight = target.at[1,'min_child_weight']\n",
    "min_split_gain= target.at[1,'min_split_gain']\n",
    "n_estimators = target.at[1,'n_estimators']\n",
    "num_leaves = target.at[1,'num_leaves']\n",
    "reg_alpha = target.at[1,'reg_alpha']\n",
    "reg_lambda = target.at[1,'reg_lambda']\n",
    "subsample = target.at[1,'subsample']\n",
    "params = {\n",
    "    \"num_leaves\": int(round(num_leaves)),\n",
    "    'min_child_samples':int(round(min_child_samples)),\n",
    "    'learning_rate': learning_rate,\n",
    "    'n_estimators': int(round(n_estimators)),\n",
    "    'max_bin': int(round(max_bin)),\n",
    "    'colsample_bytree': max(min(colsample_bytree, 1), 0),\n",
    "    'subsample': max(min(subsample, 1), 0),\n",
    "    'max_depth': int(round(max_depth)),\n",
    "    'reg_lambda':  max(reg_lambda, 0),\n",
    "    'reg_alpha': max(reg_alpha, 0),\n",
    "    'min_split_gain': min_split_gain,\n",
    "    'min_child_weight': min_child_weight,\n",
    "    'objective': 'regression',\n",
    "    'verbose': -1\n",
    "              }\n",
    "x_all, y_all, train_features, test_features, train_labels, test_labels = normalizing_data(data)\n",
    "train_features, test_features = train_features.cpu().data.numpy(),test_features.cpu().data.numpy()\n",
    "train_labels, test_labels = train_labels.cpu().data.numpy(), test_labels.cpu().data.numpy()\n",
    "train_labels, test_labels = train_labels.reshape(-1), test_labels.reshape(-1)   \n",
    "model = LGBMRegressor(metric='mape',**params)\n",
    "model.fit(train_features, train_labels, eval_set=[(test_features, test_labels), (train_features, train_labels)], \n",
    "          eval_metric=None, verbose=10)\n",
    "#plot the traiining history\n",
    "lgb.plot_metric(model)\n",
    "plt.ylabel('loss')\n",
    "plt.xlabel ('epoch')\n",
    "plt.legend(['train','test'])\n",
    "folder_dir = 'Figures'\n",
    "if not os.path.isdir(folder_dir):\n",
    "  os.mkdir(folder_dir)\n",
    "plt.savefig('Figures/GBDT_trainning history.png', format='png', dpi=300)\n",
    "#plotting experimental results as a change of predicted TEC \n",
    "plt.figure()\n",
    "predict = model.predict(x_all.cpu().data.numpy())\n",
    "sns.set_style(\"darkgrid\")\n",
    "sns.regplot(x=predict, y=y_all.cpu().data.numpy(), color='g') \n",
    "plt.xlabel ('Predicted TEC')\n",
    "plt.ylabel('Experimental TEC')\n",
    "plt.savefig('Figures/GBDT_expriements and predict comparasion.png', format='png', dpi=300)\n",
    "#save the models\n",
    "folder_dir = 'Model'\n",
    "if not os.path.isdir(folder_dir):\n",
    "  os.mkdir(folder_dir)\n",
    "net_name = 'Model/Invar_GBDT.pt'\n",
    "torch.save(net.state_dict(), net_name)\n"
   ]
  },
  {
   "cell_type": "markdown",
   "metadata": {
    "id": "UHYinudr10R7"
   },
   "source": [
    "# A sequential learning workflow"
   ]
  },
  {
   "cell_type": "markdown",
   "metadata": {
    "id": "d_xSSYRTcH27"
   },
   "source": [
    "# Import data. "
   ]
  },
  {
   "cell_type": "code",
   "execution_count": 41,
   "metadata": {
    "executionInfo": {
     "elapsed": 273,
     "status": "ok",
     "timestamp": 1652629494044,
     "user": {
      "displayName": "ziyuan rao",
      "userId": "11142835866797234336"
     },
     "user_tz": -120
    },
    "id": "DtWiDdE_Qdu-"
   },
   "outputs": [],
   "source": [
    "import os\n",
    "import time\n",
    "from bayes_opt import BayesianOptimization\n",
    "from sklearn.model_selection import train_test_split\n",
    "from sklearn.metrics import mean_squared_error\n",
    "from lightgbm import LGBMRegressor\n",
    "import numpy as np\n",
    "from sklearn.metrics import explained_variance_score\n",
    "import matplotlib.pyplot as plt\n",
    "import datetime\n",
    "import pandas as pd\n",
    "from sklearn import preprocessing\n",
    "#Training data (85%) are labelled, and testing data (15%) are unlabelled. We will use the Training data to predict the alloys in the testing data\n",
    "def normalizing_data(data, seed=42): #norminliz the data \n",
    "  df_all = data.drop(columns=['alloy'])\n",
    "  #create a min max processing object\n",
    "  composition = df_all [['Fe','Ni','Co','Cr','V','Cu']]\n",
    "  min_max_scaler = preprocessing.MinMaxScaler()\n",
    "  normalized_atomic_properties = min_max_scaler.fit_transform(df_all[['VEC','AR1','AR2','PE','Density',\n",
    "                                              'TC','MP','FI','SI','TI','M','TC','MS','MagS']])\n",
    "  x = pd.concat([composition,pd.DataFrame(normalized_atomic_properties)],axis=1)\n",
    "  y = df_all[['TEC']][:]\n",
    "  bins     = [18,35,48,109,202,234,525,687]\n",
    "  y_binned = np.digitize(y.index, bins, right=True) #stratified 7-fold: each folder contains a specific type of alloys (7 types in total, each takes 85% and 15% as training and testing)\n",
    "  \n",
    "  x_all = torch.FloatTensor(x.values) #numpy to tensor\n",
    "  y_all = torch.FloatTensor(y.values) #numpy to tensor\n",
    "\n",
    "  if torch.cuda.is_available():\n",
    "      x_all = x_all.cuda()\n",
    "      y_all = y_all.cuda() \n",
    "  \n",
    "  train_features, test_features, train_labels, test_labels = train_test_split(x_all, y_all, test_size=0.15, random_state=seed, stratify=y_binned)\n",
    "  return x_all, y_all, train_features, test_features, train_labels, test_labels"
   ]
  },
  {
   "cell_type": "markdown",
   "metadata": {
    "id": "2mqpUtXeGX47"
   },
   "source": [
    "# Ensemble model\n",
    "\n",
    "There are many different ways to get uncertainty. In this example, we use ensemble model containing 10 NN and 10 GBDT "
   ]
  },
  {
   "cell_type": "code",
   "execution_count": 42,
   "metadata": {
    "executionInfo": {
     "elapsed": 187,
     "status": "ok",
     "timestamp": 1652629499320,
     "user": {
      "displayName": "ziyuan rao",
      "userId": "11142835866797234336"
     },
     "user_tz": -120
    },
    "id": "aZ7g7ajfD9fu"
   },
   "outputs": [],
   "source": [
    "import datetime\n",
    "import torch.utils.data as Data\n",
    "import pandas as pd\n",
    "import torch\n",
    "import torch.nn.functional as F   \n",
    "import matplotlib.pyplot as plt\n",
    "import numpy as np\n",
    "from sklearn.model_selection import train_test_split\n",
    "import torch.nn as nn\n",
    "import torch.optim as optim\n",
    "import time\n",
    "import os\n",
    "import pickle \n",
    "import seaborn as sns\n",
    "def ensemble_model(train_features, test_features, train_labels, test_labels, i):\n",
    "    #NN \n",
    "    target_NN = pd.read_excel('Invar_BO_NN.xlsx')#get the best BO parameter for NN\n",
    "    lr = target_NN.at[i,'lr'] # i means the ith parameter in the BO results\n",
    "    module__n_hidden = target_NN.at[i,'module__n_hidden']\n",
    "    module__w = target_NN.at[i,'module__w']\n",
    "    batch_size = target_NN.at[i,'batch_size']\n",
    "\n",
    "    module__n_hidden = int(module__n_hidden)\n",
    "    module__w = int(module__w)\n",
    "    batch_size = int(batch_size)\n",
    "\n",
    "    #print('batch_size is {}'.format(batch_size))\n",
    "\n",
    "    train_dataset = Data.TensorDataset(train_features, train_labels)\n",
    "    #test_dataset = Data.TensorDataset(test_features, test_labels)\n",
    "    train_loader = Data.DataLoader(train_dataset, batch_size, shuffle=True)\n",
    "    #test_loader = Data.DataLoader(test_dataset, batch_size, shuffle=True)\n",
    "    \n",
    "    module__n_hidden = int(module__n_hidden)\n",
    "    module__w = int(module__w)\n",
    "    batch_size = int(batch_size)\n",
    "    \n",
    "    #training NN \n",
    "    net = Net()\n",
    "    if torch.cuda.is_available():\n",
    "        net = net.cuda()    \n",
    "    train_ls, test_ls = [], []\n",
    "    loss = MAPELoss() \n",
    "    n_epochs = 1000\n",
    "    optimizer = optim.Adam(net.parameters(), lr=lr, weight_decay=0.0001)\n",
    "    #print('n_epochs is {}'.format(n_epochs))\n",
    "    for epoch in range(n_epochs):\n",
    "        for x, y in train_loader:\n",
    "            ls = loss(net(x).view(-1, 1), y.view(-1, 1))\n",
    "            optimizer.zero_grad()\n",
    "            ls.backward()\n",
    "            optimizer.step()\n",
    "        train_ls.append(loss(net(train_features).view(-1, 1), train_labels.view(-1, 1)).item())\n",
    "        #if epoch % 100 == 0:\n",
    "            #print (\"epoch %d: train loss %f\" % (epoch, train_ls[-1]))                  \n",
    "    #predicting\n",
    "    net.eval()\n",
    "    NN_predict=net(test_features).cpu().data.numpy()\n",
    "\n",
    "    #GBDT\n",
    "    target_GBDT = pd.read_excel('Invar_BO_GBDT.xlsx')#get the best BO parameter for GBDT\n",
    "    colsample_bytree = target_GBDT.at[1,'colsample_bytree']\n",
    "    learning_rate = target_GBDT.at[1,'learning_rate']\n",
    "    max_bin = target_GBDT.at[1,'max_bin']\n",
    "    max_depth = target_GBDT.at[1,'max_depth']\n",
    "    max_bin = target_GBDT.at[1,'max_bin']\n",
    "    min_child_samples = target_GBDT.at[1,'min_child_samples']\n",
    "    min_child_weight = target_GBDT.at[1,'min_child_weight']\n",
    "    min_split_gain= target_GBDT.at[1,'min_split_gain']\n",
    "    n_estimators = target_GBDT.at[1,'n_estimators']\n",
    "    num_leaves = target_GBDT.at[1,'num_leaves']\n",
    "    reg_alpha = target_GBDT.at[1,'reg_alpha']\n",
    "    reg_lambda = target_GBDT.at[1,'reg_lambda']\n",
    "    subsample = target_GBDT.at[1,'subsample']\n",
    "    params = {\n",
    "        \"num_leaves\": int(round(num_leaves)),\n",
    "        'min_child_samples':int(round(min_child_samples)),\n",
    "        'learning_rate': learning_rate,\n",
    "        'n_estimators': int(round(n_estimators)),\n",
    "        'max_bin': int(round(max_bin)),\n",
    "        'colsample_bytree': max(min(colsample_bytree, 1), 0),\n",
    "        'subsample': max(min(subsample, 1), 0),\n",
    "        'max_depth': int(round(max_depth)),\n",
    "        'reg_lambda':  max(reg_lambda, 0),\n",
    "        'reg_alpha': max(reg_alpha, 0),\n",
    "        'min_split_gain': min_split_gain,\n",
    "        'min_child_weight': min_child_weight,\n",
    "        'objective': 'regression',\n",
    "        'verbose': -1\n",
    "                  }\n",
    "    model = LGBMRegressor(metric='mape',**params)\n",
    "    #print('GBDT training start_______')\n",
    "    model.fit(train_features.cpu().data.numpy(), train_labels.cpu().data.numpy())\n",
    "    #print('GBDT training end_______')\n",
    "    GBDT_predict = model.predict(test_features.cpu().data.numpy())\n",
    "\n",
    "    return (NN_predict,GBDT_predict)"
   ]
  },
  {
   "cell_type": "markdown",
   "metadata": {
    "id": "9ETaq5zyjtIe"
   },
   "source": [
    "# Ensemble training"
   ]
  },
  {
   "cell_type": "code",
   "execution_count": 43,
   "metadata": {
    "executionInfo": {
     "elapsed": 7,
     "status": "ok",
     "timestamp": 1652629501988,
     "user": {
      "displayName": "ziyuan rao",
      "userId": "11142835866797234336"
     },
     "user_tz": -120
    },
    "id": "UwSwXHLYjxiG"
   },
   "outputs": [],
   "source": [
    "from pandas.core.common import index_labels_to_array\n",
    "from tqdm import tqdm\n",
    "def ensemble_training(train_features, test_features, train_labels, test_labels, number):\n",
    "  single_predict = pd.DataFrame()\n",
    "  Comp_total = pd.DataFrame(test_features.cpu().data.numpy(), columns=['Fe',\t'Ni',\t'Co',\t'Cr',\t'V',\n",
    "  'Cu',\t'VEC','AR1','AR2','PE','Density','TermalC','MP','FI','SI','TI','M','TC','MS','MagS'])\n",
    "  #print(number)\n",
    "  for j in tqdm(range(number)):\n",
    "    #print ('prediction_round_{}'.format(j))\n",
    "    NN_predict, GBDT_predict = ensemble_model(train_features, test_features, train_labels, test_labels, j)\n",
    "    single_predict['pred_Tree_{}'.format(j)] = GBDT_predict\n",
    "    single_predict['pred_NN_{}'.format(j)] = NN_predict \n",
    "  prediciton_mean = single_predict.mean(axis=1)\n",
    "  prediciton_std = single_predict.std(axis=1)\n",
    "  Comp_total['prediction_mean'] = prediciton_mean\n",
    "  Comp_total['prediction_std'] = prediciton_std \n",
    "  Comp_total['true_value'] = test_labels.cpu().data.numpy()\n",
    "  return Comp_total, single_predict"
   ]
  },
  {
   "cell_type": "markdown",
   "metadata": {
    "id": "CKLBEtxBnt8E"
   },
   "source": [
    "# Rank-based exploration-exploitation strategy"
   ]
  },
  {
   "cell_type": "code",
   "execution_count": 44,
   "metadata": {
    "executionInfo": {
     "elapsed": 299,
     "status": "ok",
     "timestamp": 1652629505071,
     "user": {
      "displayName": "ziyuan rao",
      "userId": "11142835866797234336"
     },
     "user_tz": -120
    },
    "id": "Ty1QL-U7n3Cs"
   },
   "outputs": [],
   "source": [
    "def Ranking(Comp_total, alpha, beta): #alpha is exploitation and beta is exploration\n",
    "  Comp_total=Comp_total.sort_values(by=['prediction_mean'],ascending=True)\n",
    "  Comp_total['mean_rank'] = range(1,len(Comp_total)+1)\n",
    "  Comp_total=Comp_total.sort_values(by=['prediction_std'],ascending=False)\n",
    "  Comp_total['std_rank'] = range(1,len(Comp_total)+1)\n",
    "  Comp_total['total_rank'] =Comp_total['mean_rank']*alpha+Comp_total['std_rank']*beta #total rank= mean_rank*alpha+std_rank*beta\n",
    "  Comp_total=Comp_total.sort_values(by=['total_rank'],ascending=True)\n",
    "  #Comp_total=Comp_total.drop(columns=['Unnamed: 0','Unnamed: 0.1','Unnamed: 0.1.1'])\n",
    "  return Comp_total"
   ]
  },
  {
   "cell_type": "markdown",
   "metadata": {
    "id": "Ru-wQubevZ_f"
   },
   "source": [
    "# 1st iteration (exploitation)"
   ]
  },
  {
   "cell_type": "code",
   "execution_count": 45,
   "metadata": {
    "executionInfo": {
     "elapsed": 208,
     "status": "ok",
     "timestamp": 1652629506932,
     "user": {
      "displayName": "ziyuan rao",
      "userId": "11142835866797234336"
     },
     "user_tz": -120
    },
    "id": "QZW82F2k8W8X"
   },
   "outputs": [],
   "source": [
    "def FirstTrain(exploitation,exploration,samples):\n",
    "  print('---first iteration start')\n",
    "  data = pd.read_excel('Data_base_Invar.xlsx')#get the data\n",
    "  x_all, y_all, train_features, test_features, train_labels, test_labels = normalizing_data(data,seed=42)\n",
    "\n",
    "  Comp_total, single_predict= ensemble_training(train_features, test_features, train_labels, test_labels, number=10)#get the prediction\n",
    "  Comp_total=Ranking(Comp_total,exploitation,exploration)#1 denotes the exploitaion, and 0 denotes exploration\n",
    "  #print(Comp_total)\n",
    "  Comp_total.to_excel(os.path.join(folder_dir,'1st_iteration_Comp_total.xlsx'),index=True, index_label='id')\n",
    "  single_predict.to_excel(os.path.join(folder_dir,'1st_iteration_single_predict.xlsx'))\n",
    "  #Experiments validation\n",
    "  Comp_total=pd.read_excel(os.path.join(folder_dir,'1st_iteration_Comp_total.xlsx'),index_col=0)\n",
    "  alloys = Comp_total.iloc[0:samples]\n",
    "  alloys = alloys.drop(columns=['VEC','AR1','AR2','PE','Density','TermalC','MP','FI','SI','TI','M','TC','MS','MagS'])\n",
    "  alloys.to_excel(os.path.join(folder_dir,'1st_alloys.xlsx'),index=True,index_label='id')\n",
    "  #update the traning and testing dataset\n",
    "  data = pd.read_excel('Data_base_Invar.xlsx')#get the data\n",
    "  x_all, y_all, train_features, test_features, train_labels, test_labels = normalizing_data(data,seed=42)\n",
    "  first_iter_alloys = pd.read_excel(os.path.join(folder_dir,'1st_alloys.xlsx'),index_col=0)#first we need to change the traning and testing dataset \n",
    "  #print(first_iter_alloys)\n",
    "  first_iter_index=first_iter_alloys.index\n",
    "  #print(first_iter_index)\n",
    "  train_features = pd.DataFrame(train_features.cpu().data.numpy(), columns=['Fe',\t'Ni',\t'Co',\t'Cr',\t'V',\n",
    "    'Cu',\t'VEC','AR1','AR2','PE','Density','TermalC','MP','FI','SI','TI','M','TC','MS','MagS'])\n",
    "  test_features = pd.DataFrame(test_features.cpu().data.numpy(), columns=['Fe',\t'Ni',\t'Co',\t'Cr',\t'V',\n",
    "    'Cu',\t'VEC','AR1','AR2','PE','Density','TermalC','MP','FI','SI','TI','M','TC','MS','MagS'])\n",
    "  train_labels = pd.DataFrame(train_labels.cpu().data.numpy(), columns=['TEC'])\n",
    "  test_labels = pd.DataFrame(test_labels.cpu().data.numpy(), columns=['TEC'])\n",
    "  #print(test_labels)\n",
    "\n",
    "  #first we modify the training and testing features\n",
    "  first_iter_predicted=test_features.iloc[first_iter_index,:]\n",
    "  #print(first_iter_predicted)\n",
    "  train_features=pd.concat([train_features,first_iter_predicted],axis=0).reset_index(drop=True)\n",
    "  #print(train_features)\n",
    "  test_features=test_features.drop(first_iter_index).reset_index(drop=True)\n",
    "  #then we modify the training and testing labels\n",
    "  first_iter_labels=test_labels.iloc[first_iter_index,:]\n",
    "  train_labels=pd.concat([train_labels,first_iter_labels],axis=0).reset_index(drop=True)\n",
    "  test_labels=test_labels.drop(first_iter_index).reset_index(drop=True)\n",
    "  #print(train_features, train_labels, test_features, test_labels)\n",
    "  train_features.to_excel(os.path.join(folder_dir,'1st_train_features.xlsx'),index=True, index_label='id')\n",
    "  train_labels.to_excel(os.path.join(folder_dir,'1st_train_labels.xlsx'),index=True, index_label='id')\n",
    "  test_features.to_excel(os.path.join(folder_dir,'1st_test_features.xlsx'),index=True, index_label='id')\n",
    "  test_labels.to_excel(os.path.join(folder_dir,'1st_test_labels.xlsx'),index=True, index_label='id')\n",
    "  return alloys"
   ]
  },
  {
   "cell_type": "markdown",
   "metadata": {
    "id": "duBqaRRy5lLN"
   },
   "source": [
    "# 2nd iteration (exploration)"
   ]
  },
  {
   "cell_type": "code",
   "execution_count": 65,
   "metadata": {
    "executionInfo": {
     "elapsed": 198,
     "status": "ok",
     "timestamp": 1652629509550,
     "user": {
      "displayName": "ziyuan rao",
      "userId": "11142835866797234336"
     },
     "user_tz": -120
    },
    "id": "HqqukGtZ5k5R"
   },
   "outputs": [],
   "source": [
    "def SecondTrain(exploitation, exploration, samples):  \n",
    "  print('---second iteration start')\n",
    "  #import the data\n",
    "  train_features=pd.read_excel(os.path.join(folder_dir,'1st_train_features.xlsx'),index_col=0)\n",
    "  train_labels=pd.read_excel(os.path.join(folder_dir,'1st_train_labels.xlsx'),index_col=0)\n",
    "  test_features=pd.read_excel(os.path.join(folder_dir,'1st_test_features.xlsx'),index_col=0)\n",
    "  test_labels=pd.read_excel(os.path.join(folder_dir,'1st_test_labels.xlsx'),index_col=0)\n",
    "  #print(train_features, train_labels, test_features, test_labels)\n",
    "  train_features = torch.FloatTensor(train_features.values) #numpy to tensor\n",
    "  train_labels = torch.FloatTensor(train_labels.values) #numpy to tensor\n",
    "  test_features = torch.FloatTensor(test_features.values) #numpy to tensor\n",
    "  test_labels = torch.FloatTensor(test_labels.values) #numpy to tensor\n",
    "  if torch.cuda.is_available():\n",
    "      train_features = train_features.cuda()\n",
    "      train_labels = train_labels.cuda() \n",
    "      test_features = test_features.cuda()\n",
    "      test_labels = test_labels.cuda()\n",
    "  Comp_total, single_predict= ensemble_training(train_features, test_features, train_labels, test_labels, number=10)#get the prediction\n",
    "  Comp_total=Ranking(Comp_total,exploitation,exploration)#0 denotes the exploitaion, and 1 denotes exploration\n",
    "  #print(Comp_total)\n",
    "  Comp_total.to_excel(os.path.join(folder_dir,'2nd_iteration_Comp_total.xlsx'),index=True, index_label='id')\n",
    "  single_predict.to_excel(os.path.join(folder_dir,'2nd_iteration_single_predict.xlsx'))\n",
    "\n",
    "\n",
    "  #experiments valiadation\n",
    "  Comp_total=pd.read_excel(os.path.join(folder_dir,'2nd_iteration_Comp_total.xlsx'),index_col=0)\n",
    "  alloys = Comp_total.iloc[0:samples]#choose how many alloys you want\n",
    "  alloys = alloys.drop(columns=['VEC','AR1','AR2','PE','Density','TermalC','MP','FI','SI','TI','M','TC','MS','MagS'])\n",
    "  #print(alloys)\n",
    "  alloys.to_excel(os.path.join(folder_dir,'2nd_alloys.xlsx'),index=True, index_label='id')\n",
    "\n",
    "\n",
    "  #update the training and testing dataset\n",
    "  #import the data again\n",
    "  train_features=pd.read_excel(os.path.join(folder_dir,'1st_train_features.xlsx'),index_col=0)\n",
    "  train_labels=pd.read_excel(os.path.join(folder_dir,'1st_train_labels.xlsx'),index_col=0)\n",
    "  test_features=pd.read_excel(os.path.join(folder_dir,'1st_test_features.xlsx'),index_col=0)\n",
    "  test_labels=pd.read_excel(os.path.join(folder_dir,'1st_test_labels.xlsx'),index_col=0)\n",
    "  first_iter_alloys = pd.read_excel(os.path.join(folder_dir,'2nd_alloys.xlsx'),index_col=0)#first we need to change the traning and testing dataset \n",
    "  #print(first_iter_alloys)\n",
    "  first_iter_index=first_iter_alloys.index\n",
    "  #first we modify the training and testing features\n",
    "  first_iter_predicted=test_features.iloc[first_iter_index,:]\n",
    "  #print(first_iter_predicted)\n",
    "  train_features=pd.concat([train_features,first_iter_predicted],axis=0).reset_index(drop=True)\n",
    "  #print(train_features)\n",
    "  test_features=test_features.drop(first_iter_index).reset_index(drop=True)\n",
    "  #then we modify the training and testing labels\n",
    "  first_iter_labels=test_labels.iloc[first_iter_index,:]\n",
    "  train_labels=pd.concat([train_labels,first_iter_labels],axis=0).reset_index(drop=True)\n",
    "  test_labels=test_labels.drop(first_iter_index).reset_index(drop=True)\n",
    "  #print(train_features, train_labels, test_features, test_labels)\n",
    "  train_features.to_excel(os.path.join(folder_dir,'2nd_train_features.xlsx'),index=True, index_label='id')\n",
    "  train_labels.to_excel(os.path.join(folder_dir,'2nd_train_labels.xlsx'),index=True, index_label='id')\n",
    "  test_features.to_excel(os.path.join(folder_dir,'2nd_test_features.xlsx'),index=True, index_label='id')\n",
    "  test_labels.to_excel(os.path.join(folder_dir,'2nd_test_labels.xlsx'),index=True, index_label='id')\n",
    "  return alloys"
   ]
  },
  {
   "cell_type": "markdown",
   "metadata": {
    "id": "xGsm9IrgM3ve"
   },
   "source": [
    "# 3rd iteration (exploration)"
   ]
  },
  {
   "cell_type": "code",
   "execution_count": 60,
   "metadata": {
    "executionInfo": {
     "elapsed": 483,
     "status": "ok",
     "timestamp": 1652629512775,
     "user": {
      "displayName": "ziyuan rao",
      "userId": "11142835866797234336"
     },
     "user_tz": -120
    },
    "id": "KMT2NkgqNihL"
   },
   "outputs": [],
   "source": [
    "def ThirdTrain(exploitation, exploration, samples): \n",
    "  print('---third iteration start')  \n",
    "  #import the data\n",
    "  train_features=pd.read_excel(os.path.join(folder_dir,'2nd_train_features.xlsx'),index_col=0)\n",
    "  train_labels=pd.read_excel(os.path.join(folder_dir,'2nd_train_labels.xlsx'),index_col=0)\n",
    "  test_features=pd.read_excel(os.path.join(folder_dir,'2nd_test_features.xlsx'),index_col=0)\n",
    "  test_labels=pd.read_excel(os.path.join(folder_dir,'2nd_test_labels.xlsx'),index_col=0)\n",
    "  #print(train_features, train_labels, test_features, test_labels)\n",
    "  train_features = torch.FloatTensor(train_features.values) #numpy to tensor\n",
    "  train_labels = torch.FloatTensor(train_labels.values) #numpy to tensor\n",
    "  test_features = torch.FloatTensor(test_features.values) #numpy to tensor\n",
    "  test_labels = torch.FloatTensor(test_labels.values) #numpy to tensor\n",
    "  if torch.cuda.is_available():\n",
    "      train_features = train_features.cuda()\n",
    "      train_labels = train_labels.cuda() \n",
    "      test_features = test_features.cuda()\n",
    "      test_labels = test_labels.cuda()\n",
    "  Comp_total, single_predict= ensemble_training(train_features, test_features, train_labels, test_labels, number=10)#get the prediction\n",
    "  Comp_total=Ranking(Comp_total,exploitation,exploration)#0 denotes the exploitaion, and 1 denotes exploration\n",
    "  Comp_total.to_excel(os.path.join(folder_dir,'3rd_iteration_Comp_total.xlsx'),index=True, index_label='id')\n",
    "  single_predict.to_excel(os.path.join(folder_dir,'3rd_iteration_single_predict.xlsx'))\n",
    "\n",
    "\n",
    "  #experiment valiadation\n",
    "  Comp_total=pd.read_excel(os.path.join(folder_dir,'3rd_iteration_Comp_total.xlsx'),index_col=0)\n",
    "  alloys = Comp_total.iloc[0:samples]\n",
    "  alloys = alloys.drop(columns=['VEC','AR1','AR2','PE','Density','TermalC','MP','FI','SI','TI','M','TC','MS','MagS'])\n",
    "  alloys.to_excel(os.path.join(folder_dir,'3rd_alloys.xlsx'),index=True, index_label='id')\n",
    "\n",
    "\n",
    "  #update the training and testing dateset\n",
    "  #import the data again\n",
    "  train_features=pd.read_excel(os.path.join(folder_dir,'2nd_train_features.xlsx'),index_col=0)\n",
    "  train_labels=pd.read_excel(os.path.join(folder_dir,'2nd_train_labels.xlsx'),index_col=0)\n",
    "  test_features=pd.read_excel(os.path.join(folder_dir,'2nd_test_features.xlsx'),index_col=0)\n",
    "  test_labels=pd.read_excel(os.path.join(folder_dir,'2nd_test_labels.xlsx'),index_col=0)\n",
    "\n",
    "\n",
    "  first_iter_alloys = pd.read_excel(os.path.join(folder_dir,'3rd_alloys.xlsx'),index_col=0)#first we need to change the traning and testing dataset \n",
    "  #print(first_iter_alloys)\n",
    "  first_iter_index=first_iter_alloys.index\n",
    "  #print(first_iter_index)\n",
    "\n",
    "  #first we modify the training and testing features\n",
    "  first_iter_predicted=test_features.iloc[first_iter_index,:]\n",
    "  #print(first_iter_predicted)\n",
    "  train_features=pd.concat([train_features,first_iter_predicted],axis=0).reset_index(drop=True)\n",
    "  #print(train_features)\n",
    "  test_features=test_features.drop(first_iter_index).reset_index(drop=True)\n",
    "  #then we modify the training and testing labels\n",
    "  first_iter_labels=test_labels.iloc[first_iter_index,:]\n",
    "  train_labels=pd.concat([train_labels,first_iter_labels],axis=0).reset_index(drop=True)\n",
    "  test_labels=test_labels.drop(first_iter_index).reset_index(drop=True)\n",
    "  #print(train_features, train_labels, test_features, test_labels)\n",
    "  train_features.to_excel(os.path.join(folder_dir,'3rd_train_features.xlsx'),index=True, index_label='id')\n",
    "  train_labels.to_excel(os.path.join(folder_dir,'3rd_train_labels.xlsx'),index=True, index_label='id')\n",
    "  test_features.to_excel(os.path.join(folder_dir,'3rd_test_features.xlsx'),index=True, index_label='id')\n",
    "  test_labels.to_excel(os.path.join(folder_dir,'3rd_test_labels.xlsx'),index=True, index_label='id')\n",
    "  return alloys"
   ]
  },
  {
   "cell_type": "markdown",
   "metadata": {
    "id": "igG79TPbFQJg"
   },
   "source": [
    "# 4th iteration(exploitation)"
   ]
  },
  {
   "cell_type": "code",
   "execution_count": 61,
   "metadata": {
    "executionInfo": {
     "elapsed": 203,
     "status": "ok",
     "timestamp": 1652629515497,
     "user": {
      "displayName": "ziyuan rao",
      "userId": "11142835866797234336"
     },
     "user_tz": -120
    },
    "id": "c-24N43hFW6y"
   },
   "outputs": [],
   "source": [
    "def FourthTrain(exploitation, exploration, samples): \n",
    "  print('---fourth iteration start')\n",
    "  #import the data\n",
    "  train_features=pd.read_excel(os.path.join(folder_dir,'3rd_train_features.xlsx'),index_col=0)\n",
    "  train_labels=pd.read_excel(os.path.join(folder_dir,'3rd_train_labels.xlsx'),index_col=0)\n",
    "  test_features=pd.read_excel(os.path.join(folder_dir,'3rd_test_features.xlsx'),index_col=0)\n",
    "  test_labels=pd.read_excel(os.path.join(folder_dir,'3rd_test_labels.xlsx'),index_col=0)\n",
    "  #print(train_features, train_labels, test_features, test_labels)\n",
    "  train_features = torch.FloatTensor(train_features.values) #numpy to tensor\n",
    "  train_labels = torch.FloatTensor(train_labels.values) #numpy to tensor\n",
    "  test_features = torch.FloatTensor(test_features.values) #numpy to tensor\n",
    "  test_labels = torch.FloatTensor(test_labels.values) #numpy to tensor\n",
    "  if torch.cuda.is_available():\n",
    "      train_features = train_features.cuda()\n",
    "      train_labels = train_labels.cuda() \n",
    "      test_features = test_features.cuda()\n",
    "      test_labels = test_labels.cuda()\n",
    "  Comp_total, single_predict= ensemble_training(train_features, test_features, train_labels, test_labels, number=10)#get the prediction\n",
    "  Comp_total=Ranking(Comp_total,exploitation,exploration)#1 denotes the exploitaion, and 0 denotes exploration\n",
    "  #print(Comp_total)\n",
    "  Comp_total.to_excel(os.path.join(folder_dir,'4th_iteration_Comp_total.xlsx'),index=True, index_label='id')\n",
    "  single_predict.to_excel(os.path.join(folder_dir,'4th_iteration_single_predict.xlsx'))\n",
    "  #experiment valiadation\n",
    "  Comp_total=pd.read_excel(os.path.join(folder_dir,'4th_iteration_Comp_total.xlsx'),index_col=0)\n",
    "  alloys = Comp_total.iloc[0:samples]\n",
    "  alloys = alloys.drop(columns=['VEC','AR1','AR2','PE','Density','TermalC','MP','FI','SI','TI','M','TC','MS','MagS'])\n",
    "  alloys.to_excel(os.path.join(folder_dir,'4th_alloys.xlsx'),index=True, index_label='id')\n",
    "  return alloys\n"
   ]
  },
  {
   "cell_type": "markdown",
   "metadata": {
    "id": "CWKTDC4T3IIO"
   },
   "source": [
    "# Training"
   ]
  },
  {
   "cell_type": "code",
   "execution_count": 66,
   "metadata": {
    "colab": {
     "base_uri": "https://localhost:8080/"
    },
    "executionInfo": {
     "elapsed": 3267726,
     "status": "ok",
     "timestamp": 1652632785843,
     "user": {
      "displayName": "ziyuan rao",
      "userId": "11142835866797234336"
     },
     "user_tz": -120
    },
    "id": "vTWDuFz13L7A",
    "outputId": "429ce341-6e2b-4d8a-ab9e-3186029fd7c7"
   },
   "outputs": [
    {
     "name": "stdout",
     "output_type": "stream",
     "text": [
      "C:\\Challenge\\10samples\n",
      "---first iteration start\n"
     ]
    },
    {
     "name": "stderr",
     "output_type": "stream",
     "text": [
      "\n",
      "  0%|                                                                                           | 0/10 [00:00<?, ?it/s]\u001b[AC:\\Users\\z.rao\\Anaconda3\\lib\\site-packages\\sklearn\\utils\\validation.py:760: DataConversionWarning: A column-vector y was passed when a 1d array was expected. Please change the shape of y to (n_samples, ), for example using ravel().\n",
      "  y = column_or_1d(y, warn=True)\n",
      "\n",
      " 10%|████████▏                                                                         | 1/10 [02:20<21:01, 140.19s/it]\u001b[AC:\\Users\\z.rao\\Anaconda3\\lib\\site-packages\\sklearn\\utils\\validation.py:760: DataConversionWarning: A column-vector y was passed when a 1d array was expected. Please change the shape of y to (n_samples, ), for example using ravel().\n",
      "  y = column_or_1d(y, warn=True)\n",
      "\n",
      " 20%|████████████████▍                                                                 | 2/10 [04:52<19:11, 143.90s/it]\u001b[AC:\\Users\\z.rao\\Anaconda3\\lib\\site-packages\\sklearn\\utils\\validation.py:760: DataConversionWarning: A column-vector y was passed when a 1d array was expected. Please change the shape of y to (n_samples, ), for example using ravel().\n",
      "  y = column_or_1d(y, warn=True)\n",
      "\n",
      " 30%|████████████████████████▌                                                         | 3/10 [07:05<16:24, 140.63s/it]\u001b[AC:\\Users\\z.rao\\Anaconda3\\lib\\site-packages\\sklearn\\utils\\validation.py:760: DataConversionWarning: A column-vector y was passed when a 1d array was expected. Please change the shape of y to (n_samples, ), for example using ravel().\n",
      "  y = column_or_1d(y, warn=True)\n",
      "\n",
      " 40%|████████████████████████████████▊                                                 | 4/10 [09:30<14:11, 141.88s/it]\u001b[AC:\\Users\\z.rao\\Anaconda3\\lib\\site-packages\\sklearn\\utils\\validation.py:760: DataConversionWarning: A column-vector y was passed when a 1d array was expected. Please change the shape of y to (n_samples, ), for example using ravel().\n",
      "  y = column_or_1d(y, warn=True)\n",
      "\n",
      " 50%|█████████████████████████████████████████                                         | 5/10 [11:57<11:57, 143.42s/it]\u001b[AC:\\Users\\z.rao\\Anaconda3\\lib\\site-packages\\sklearn\\utils\\validation.py:760: DataConversionWarning: A column-vector y was passed when a 1d array was expected. Please change the shape of y to (n_samples, ), for example using ravel().\n",
      "  y = column_or_1d(y, warn=True)\n",
      "\n",
      " 60%|█████████████████████████████████████████████████▏                                | 6/10 [13:37<08:41, 130.47s/it]\u001b[AC:\\Users\\z.rao\\Anaconda3\\lib\\site-packages\\sklearn\\utils\\validation.py:760: DataConversionWarning: A column-vector y was passed when a 1d array was expected. Please change the shape of y to (n_samples, ), for example using ravel().\n",
      "  y = column_or_1d(y, warn=True)\n",
      "\n",
      " 70%|█████████████████████████████████████████████████████████▍                        | 7/10 [15:18<06:04, 121.44s/it]\u001b[AC:\\Users\\z.rao\\Anaconda3\\lib\\site-packages\\sklearn\\utils\\validation.py:760: DataConversionWarning: A column-vector y was passed when a 1d array was expected. Please change the shape of y to (n_samples, ), for example using ravel().\n",
      "  y = column_or_1d(y, warn=True)\n",
      "\n",
      " 80%|█████████████████████████████████████████████████████████████████▌                | 8/10 [17:54<04:23, 131.98s/it]\u001b[AC:\\Users\\z.rao\\Anaconda3\\lib\\site-packages\\sklearn\\utils\\validation.py:760: DataConversionWarning: A column-vector y was passed when a 1d array was expected. Please change the shape of y to (n_samples, ), for example using ravel().\n",
      "  y = column_or_1d(y, warn=True)\n",
      "\n",
      " 90%|█████████████████████████████████████████████████████████████████████████▊        | 9/10 [19:31<02:01, 121.45s/it]\u001b[AC:\\Users\\z.rao\\Anaconda3\\lib\\site-packages\\sklearn\\utils\\validation.py:760: DataConversionWarning: A column-vector y was passed when a 1d array was expected. Please change the shape of y to (n_samples, ), for example using ravel().\n",
      "  y = column_or_1d(y, warn=True)\n",
      "\n",
      "100%|█████████████████████████████████████████████████████████████████████████████████| 10/10 [21:12<00:00, 127.26s/it]\u001b[A\n",
      "\n",
      "  0%|                                                                                           | 0/10 [00:00<?, ?it/s]\u001b[A"
     ]
    },
    {
     "name": "stdout",
     "output_type": "stream",
     "text": [
      "---second iteration start\n"
     ]
    },
    {
     "name": "stderr",
     "output_type": "stream",
     "text": [
      "C:\\Users\\z.rao\\Anaconda3\\lib\\site-packages\\sklearn\\utils\\validation.py:760: DataConversionWarning: A column-vector y was passed when a 1d array was expected. Please change the shape of y to (n_samples, ), for example using ravel().\n",
      "  y = column_or_1d(y, warn=True)\n",
      "\n",
      " 10%|████████▏                                                                         | 1/10 [02:17<20:38, 137.61s/it]\u001b[AC:\\Users\\z.rao\\Anaconda3\\lib\\site-packages\\sklearn\\utils\\validation.py:760: DataConversionWarning: A column-vector y was passed when a 1d array was expected. Please change the shape of y to (n_samples, ), for example using ravel().\n",
      "  y = column_or_1d(y, warn=True)\n",
      "\n",
      " 20%|████████████████▍                                                                 | 2/10 [04:56<19:11, 143.91s/it]\u001b[AC:\\Users\\z.rao\\Anaconda3\\lib\\site-packages\\sklearn\\utils\\validation.py:760: DataConversionWarning: A column-vector y was passed when a 1d array was expected. Please change the shape of y to (n_samples, ), for example using ravel().\n",
      "  y = column_or_1d(y, warn=True)\n",
      "\n",
      " 30%|████████████████████████▌                                                         | 3/10 [07:05<16:16, 139.50s/it]\u001b[AC:\\Users\\z.rao\\Anaconda3\\lib\\site-packages\\sklearn\\utils\\validation.py:760: DataConversionWarning: A column-vector y was passed when a 1d array was expected. Please change the shape of y to (n_samples, ), for example using ravel().\n",
      "  y = column_or_1d(y, warn=True)\n",
      "\n",
      " 40%|████████████████████████████████▊                                                 | 4/10 [09:42<14:27, 144.63s/it]\u001b[AC:\\Users\\z.rao\\Anaconda3\\lib\\site-packages\\sklearn\\utils\\validation.py:760: DataConversionWarning: A column-vector y was passed when a 1d array was expected. Please change the shape of y to (n_samples, ), for example using ravel().\n",
      "  y = column_or_1d(y, warn=True)\n",
      "\n",
      " 50%|█████████████████████████████████████████                                         | 5/10 [11:54<11:45, 141.12s/it]\u001b[AC:\\Users\\z.rao\\Anaconda3\\lib\\site-packages\\sklearn\\utils\\validation.py:760: DataConversionWarning: A column-vector y was passed when a 1d array was expected. Please change the shape of y to (n_samples, ), for example using ravel().\n",
      "  y = column_or_1d(y, warn=True)\n",
      "\n",
      " 60%|█████████████████████████████████████████████████▏                                | 6/10 [13:38<08:39, 129.88s/it]\u001b[AC:\\Users\\z.rao\\Anaconda3\\lib\\site-packages\\sklearn\\utils\\validation.py:760: DataConversionWarning: A column-vector y was passed when a 1d array was expected. Please change the shape of y to (n_samples, ), for example using ravel().\n",
      "  y = column_or_1d(y, warn=True)\n",
      "\n",
      " 70%|█████████████████████████████████████████████████████████▍                        | 7/10 [15:15<06:00, 120.01s/it]\u001b[AC:\\Users\\z.rao\\Anaconda3\\lib\\site-packages\\sklearn\\utils\\validation.py:760: DataConversionWarning: A column-vector y was passed when a 1d array was expected. Please change the shape of y to (n_samples, ), for example using ravel().\n",
      "  y = column_or_1d(y, warn=True)\n",
      "\n",
      " 80%|█████████████████████████████████████████████████████████████████▌                | 8/10 [17:56<04:24, 132.18s/it]\u001b[AC:\\Users\\z.rao\\Anaconda3\\lib\\site-packages\\sklearn\\utils\\validation.py:760: DataConversionWarning: A column-vector y was passed when a 1d array was expected. Please change the shape of y to (n_samples, ), for example using ravel().\n",
      "  y = column_or_1d(y, warn=True)\n",
      "\n",
      " 90%|█████████████████████████████████████████████████████████████████████████▊        | 9/10 [19:31<02:00, 121.00s/it]\u001b[AC:\\Users\\z.rao\\Anaconda3\\lib\\site-packages\\sklearn\\utils\\validation.py:760: DataConversionWarning: A column-vector y was passed when a 1d array was expected. Please change the shape of y to (n_samples, ), for example using ravel().\n",
      "  y = column_or_1d(y, warn=True)\n",
      "\n",
      "100%|█████████████████████████████████████████████████████████████████████████████████| 10/10 [21:19<00:00, 127.91s/it]\u001b[A\n",
      "\n",
      "  0%|                                                                                           | 0/10 [00:00<?, ?it/s]\u001b[A"
     ]
    },
    {
     "name": "stdout",
     "output_type": "stream",
     "text": [
      "---third iteration start\n"
     ]
    },
    {
     "name": "stderr",
     "output_type": "stream",
     "text": [
      "C:\\Users\\z.rao\\Anaconda3\\lib\\site-packages\\sklearn\\utils\\validation.py:760: DataConversionWarning: A column-vector y was passed when a 1d array was expected. Please change the shape of y to (n_samples, ), for example using ravel().\n",
      "  y = column_or_1d(y, warn=True)\n",
      "\n",
      " 10%|████████▏                                                                         | 1/10 [02:09<19:27, 129.74s/it]\u001b[AC:\\Users\\z.rao\\Anaconda3\\lib\\site-packages\\sklearn\\utils\\validation.py:760: DataConversionWarning: A column-vector y was passed when a 1d array was expected. Please change the shape of y to (n_samples, ), for example using ravel().\n",
      "  y = column_or_1d(y, warn=True)\n",
      "\n",
      " 20%|████████████████▍                                                                 | 2/10 [04:49<18:30, 138.87s/it]\u001b[AC:\\Users\\z.rao\\Anaconda3\\lib\\site-packages\\sklearn\\utils\\validation.py:760: DataConversionWarning: A column-vector y was passed when a 1d array was expected. Please change the shape of y to (n_samples, ), for example using ravel().\n",
      "  y = column_or_1d(y, warn=True)\n",
      "\n",
      " 30%|████████████████████████▌                                                         | 3/10 [07:04<16:03, 137.69s/it]\u001b[AC:\\Users\\z.rao\\Anaconda3\\lib\\site-packages\\sklearn\\utils\\validation.py:760: DataConversionWarning: A column-vector y was passed when a 1d array was expected. Please change the shape of y to (n_samples, ), for example using ravel().\n",
      "  y = column_or_1d(y, warn=True)\n",
      "\n",
      " 40%|████████████████████████████████▊                                                 | 4/10 [09:52<14:40, 146.77s/it]\u001b[AC:\\Users\\z.rao\\Anaconda3\\lib\\site-packages\\sklearn\\utils\\validation.py:760: DataConversionWarning: A column-vector y was passed when a 1d array was expected. Please change the shape of y to (n_samples, ), for example using ravel().\n",
      "  y = column_or_1d(y, warn=True)\n",
      "\n",
      " 50%|█████████████████████████████████████████                                         | 5/10 [12:06<11:53, 142.74s/it]\u001b[AC:\\Users\\z.rao\\Anaconda3\\lib\\site-packages\\sklearn\\utils\\validation.py:760: DataConversionWarning: A column-vector y was passed when a 1d array was expected. Please change the shape of y to (n_samples, ), for example using ravel().\n",
      "  y = column_or_1d(y, warn=True)\n",
      "\n",
      " 60%|█████████████████████████████████████████████████▏                                | 6/10 [13:59<08:56, 134.04s/it]\u001b[AC:\\Users\\z.rao\\Anaconda3\\lib\\site-packages\\sklearn\\utils\\validation.py:760: DataConversionWarning: A column-vector y was passed when a 1d array was expected. Please change the shape of y to (n_samples, ), for example using ravel().\n",
      "  y = column_or_1d(y, warn=True)\n",
      "\n",
      " 70%|█████████████████████████████████████████████████████████▍                        | 7/10 [15:36<06:08, 122.68s/it]\u001b[AC:\\Users\\z.rao\\Anaconda3\\lib\\site-packages\\sklearn\\utils\\validation.py:760: DataConversionWarning: A column-vector y was passed when a 1d array was expected. Please change the shape of y to (n_samples, ), for example using ravel().\n",
      "  y = column_or_1d(y, warn=True)\n",
      "\n",
      " 80%|█████████████████████████████████████████████████████████████████▌                | 8/10 [18:17<04:28, 134.30s/it]\u001b[AC:\\Users\\z.rao\\Anaconda3\\lib\\site-packages\\sklearn\\utils\\validation.py:760: DataConversionWarning: A column-vector y was passed when a 1d array was expected. Please change the shape of y to (n_samples, ), for example using ravel().\n",
      "  y = column_or_1d(y, warn=True)\n",
      "\n",
      " 90%|█████████████████████████████████████████████████████████████████████████▊        | 9/10 [19:48<02:01, 121.26s/it]\u001b[AC:\\Users\\z.rao\\Anaconda3\\lib\\site-packages\\sklearn\\utils\\validation.py:760: DataConversionWarning: A column-vector y was passed when a 1d array was expected. Please change the shape of y to (n_samples, ), for example using ravel().\n",
      "  y = column_or_1d(y, warn=True)\n",
      "\n",
      "100%|█████████████████████████████████████████████████████████████████████████████████| 10/10 [21:54<00:00, 131.46s/it]\u001b[A\n",
      "\n",
      "  0%|                                                                                           | 0/10 [00:00<?, ?it/s]\u001b[A"
     ]
    },
    {
     "name": "stdout",
     "output_type": "stream",
     "text": [
      "---fourth iteration start\n"
     ]
    },
    {
     "name": "stderr",
     "output_type": "stream",
     "text": [
      "C:\\Users\\z.rao\\Anaconda3\\lib\\site-packages\\sklearn\\utils\\validation.py:760: DataConversionWarning: A column-vector y was passed when a 1d array was expected. Please change the shape of y to (n_samples, ), for example using ravel().\n",
      "  y = column_or_1d(y, warn=True)\n",
      "\n",
      " 10%|████████▏                                                                         | 1/10 [02:13<19:59, 133.23s/it]\u001b[AC:\\Users\\z.rao\\Anaconda3\\lib\\site-packages\\sklearn\\utils\\validation.py:760: DataConversionWarning: A column-vector y was passed when a 1d array was expected. Please change the shape of y to (n_samples, ), for example using ravel().\n",
      "  y = column_or_1d(y, warn=True)\n",
      "\n",
      " 20%|████████████████▍                                                                 | 2/10 [05:03<19:14, 144.26s/it]\u001b[AC:\\Users\\z.rao\\Anaconda3\\lib\\site-packages\\sklearn\\utils\\validation.py:760: DataConversionWarning: A column-vector y was passed when a 1d array was expected. Please change the shape of y to (n_samples, ), for example using ravel().\n",
      "  y = column_or_1d(y, warn=True)\n",
      "\n",
      " 30%|████████████████████████▌                                                         | 3/10 [07:41<17:18, 148.41s/it]\u001b[AC:\\Users\\z.rao\\Anaconda3\\lib\\site-packages\\sklearn\\utils\\validation.py:760: DataConversionWarning: A column-vector y was passed when a 1d array was expected. Please change the shape of y to (n_samples, ), for example using ravel().\n",
      "  y = column_or_1d(y, warn=True)\n",
      "\n",
      " 40%|████████████████████████████████▊                                                 | 4/10 [10:28<15:23, 153.97s/it]\u001b[AC:\\Users\\z.rao\\Anaconda3\\lib\\site-packages\\sklearn\\utils\\validation.py:760: DataConversionWarning: A column-vector y was passed when a 1d array was expected. Please change the shape of y to (n_samples, ), for example using ravel().\n",
      "  y = column_or_1d(y, warn=True)\n",
      "\n",
      " 50%|█████████████████████████████████████████                                         | 5/10 [12:45<12:24, 148.83s/it]\u001b[AC:\\Users\\z.rao\\Anaconda3\\lib\\site-packages\\sklearn\\utils\\validation.py:760: DataConversionWarning: A column-vector y was passed when a 1d array was expected. Please change the shape of y to (n_samples, ), for example using ravel().\n",
      "  y = column_or_1d(y, warn=True)\n",
      "\n",
      " 60%|█████████████████████████████████████████████████▏                                | 6/10 [14:38<09:12, 138.10s/it]\u001b[AC:\\Users\\z.rao\\Anaconda3\\lib\\site-packages\\sklearn\\utils\\validation.py:760: DataConversionWarning: A column-vector y was passed when a 1d array was expected. Please change the shape of y to (n_samples, ), for example using ravel().\n",
      "  y = column_or_1d(y, warn=True)\n",
      "\n",
      " 70%|█████████████████████████████████████████████████████████▍                        | 7/10 [16:32<06:33, 131.12s/it]\u001b[AC:\\Users\\z.rao\\Anaconda3\\lib\\site-packages\\sklearn\\utils\\validation.py:760: DataConversionWarning: A column-vector y was passed when a 1d array was expected. Please change the shape of y to (n_samples, ), for example using ravel().\n",
      "  y = column_or_1d(y, warn=True)\n",
      "\n",
      " 80%|█████████████████████████████████████████████████████████████████▌                | 8/10 [19:20<04:44, 142.17s/it]\u001b[AC:\\Users\\z.rao\\Anaconda3\\lib\\site-packages\\sklearn\\utils\\validation.py:760: DataConversionWarning: A column-vector y was passed when a 1d array was expected. Please change the shape of y to (n_samples, ), for example using ravel().\n",
      "  y = column_or_1d(y, warn=True)\n",
      "\n",
      " 90%|█████████████████████████████████████████████████████████████████████████▊        | 9/10 [20:59<02:09, 129.13s/it]\u001b[AC:\\Users\\z.rao\\Anaconda3\\lib\\site-packages\\sklearn\\utils\\validation.py:760: DataConversionWarning: A column-vector y was passed when a 1d array was expected. Please change the shape of y to (n_samples, ), for example using ravel().\n",
      "  y = column_or_1d(y, warn=True)\n",
      "\n",
      "100%|█████████████████████████████████████████████████████████████████████████████████| 10/10 [22:57<00:00, 137.73s/it]\u001b[A"
     ]
    },
    {
     "name": "stdout",
     "output_type": "stream",
     "text": [
      "the whole time needed is 1:27:25.894704\n"
     ]
    },
    {
     "name": "stderr",
     "output_type": "stream",
     "text": [
      "\n"
     ]
    }
   ],
   "source": [
    "import os\n",
    "import datetime\n",
    "starttime = datetime.datetime.now()\n",
    "folder_name = '10samples' #how many samples you want to sample every iteration\n",
    "if not os.path.isdir(folder_name):\n",
    "  os.mkdir(folder_name)\n",
    "folder_dir = os.path.join(os.getcwd(),folder_name)\n",
    "print(folder_dir)\n",
    "\n",
    "FirstAlloys=FirstTrain(exploitation=1,exploration=0,samples=10)\n",
    "#print (FirstAlloys)\n",
    "SecondAlloys=SecondTrain(exploitation=0, exploration=1, samples=10)\n",
    "#print (SecondAlloys)\n",
    "ThirdAlloys=ThirdTrain(exploitation=0, exploration=1, samples=10)\n",
    "#print (ThirdAlloys)\n",
    "FourthAlloys=FourthTrain(exploitation=1, exploration=0, samples=10) \n",
    "#print (FourthAlloys)\n",
    "endtime = datetime.datetime.now()\n",
    "print('the whole time needed is {}'.format(endtime-starttime))\n",
    "\n"
   ]
  },
  {
   "cell_type": "markdown",
   "metadata": {},
   "source": [
    "                                                Introduction of the Challenge\n",
    "                                                         Ziyuan Rao\n",
    "1. Background\n",
    "In this work, I focus on designing Invar alloys, which have very low thermal expansion coefficients (TEC) at room temperature. So the output of the model is TEC. For the input, I curated a dataset of 698 alloys (397 in the dataset I send you). The representations are 20 dimensions including 6 elemental concentrations, 11 atomic properties, 2 CALPHAD (TC and MS) calculations and 1 DFT calculation (Mags). Which representation to use is decided on your domain knowledge and the details are not discussed here.\n",
    "2. Initial analysis\n",
    "Here I used the Wasserstein autoencoder (WAE) for the dimension reduction. The training history and the reconstruction show the model is health and we can get the latent space with regulated distribution.\n",
    " \n",
    "3. Assess the performance of the neural network (NN) and gradient boosting decision tree (GBDT)\n",
    "There are various ways to get uncertainty. In this case, we do not use the Gaussian process because of the high dimensions of the inputs. Here we use ensemble models of NN and GBDT to get uncertainty. Specifically, we use Bayesian Optimization (BO) to get the top 10 hyperparameters of the models and then we use different hyperparameters to train the data to get ensemble results. \n",
    "\n",
    "The trainning history and the comparasion of predicted and experimental results show that The following picture shows the NN and GBDT are both accurate.\n",
    " \n",
    "\n",
    "4. A sequential learning\n",
    "\n",
    "Data: We split the data (698) into 85% unknown data and 15% known data. \n",
    "Iterations: We did 4 iterations, i.e. exploitation→exploration→exploration→exploitation. In the exploration, we choose the alloys with the largest uncertainty. In the exploitation, we choose the alloys with the lowest TECs.\n",
    "Acquisition function: We use rank-based policy: total rank= mean_rank*alpha+std_rank*beta, where alpha+beta=1, mean_rank  is the rank of TEC and std_rank is the rank of uncertainty. For only exploitation: alpha=1, beta=0; for only exploration: alpha=0, beta=1.\n",
    "\n",
    "For exploitation, the machine prefers alloys with low TECs. For exploration, the machine prefers alloys with large uncertainty.\n",
    " \n",
    "For exploration, we can observe an obvious decrease of error compared to exploitation.\n",
    " \n"
   ]
  }
 ],
 "metadata": {
  "accelerator": "GPU",
  "colab": {
   "collapsed_sections": [],
   "name": "Challenge_Ziyuan Rao.ipynb",
   "provenance": [
    {
     "file_id": "1y8nVEJcqUFbKwLxkHRgrPsrRHU0_D8gX",
     "timestamp": 1631886417237
    }
   ],
   "toc_visible": true
  },
  "kernelspec": {
   "display_name": "Python 3",
   "language": "python",
   "name": "python3"
  },
  "language_info": {
   "codemirror_mode": {
    "name": "ipython",
    "version": 3
   },
   "file_extension": ".py",
   "mimetype": "text/x-python",
   "name": "python",
   "nbconvert_exporter": "python",
   "pygments_lexer": "ipython3",
   "version": "3.7.6"
  }
 },
 "nbformat": 4,
 "nbformat_minor": 1
}
